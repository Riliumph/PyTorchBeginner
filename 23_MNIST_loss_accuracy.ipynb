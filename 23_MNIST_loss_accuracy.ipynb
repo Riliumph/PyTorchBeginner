{
 "cells": [
  {
   "cell_type": "markdown",
   "metadata": {
    "colab_type": "text",
    "id": "N727J_mjSsc0"
   },
   "source": [
    "# ニューラルネットワークの訓練: 重みの更新回数と出力値"
   ]
  },
  {
   "cell_type": "markdown",
   "metadata": {
    "colab_type": "text",
    "id": "uOSUAjyCmb-z"
   },
   "source": [
    "参考コード：\n",
    "https://github.com/pytorch/examples/blob/master/snli/train.py\n"
   ]
  },
  {
   "cell_type": "code",
   "execution_count": null,
   "metadata": {
    "colab": {
     "base_uri": "https://localhost:8080/",
     "height": 118
    },
    "colab_type": "code",
    "executionInfo": {
     "elapsed": 22010,
     "status": "ok",
     "timestamp": 1577411467080,
     "user": {
      "displayName": "コウ",
      "photoUrl": "",
      "userId": "15615658067056912208"
     },
     "user_tz": -540
    },
    "id": "EcLSbe7oDBwF",
    "outputId": "a3868b0a-4661-4c2a-ab91-8e951fc6961c"
   },
   "outputs": [],
   "source": [
    "from google.colab import drive\n",
    "drive.mount('/content/drive')"
   ]
  },
  {
   "cell_type": "code",
   "execution_count": null,
   "metadata": {
    "colab": {},
    "colab_type": "code",
    "id": "ImMvpu9NSsc4"
   },
   "outputs": [],
   "source": [
    "import numpy as np\n",
    "import time\n",
    "\n",
    "import pandas as pd\n",
    "import matplotlib.pyplot as plt\n",
    "\n",
    "import torch as t\n",
    "import torch.optim\n",
    "import torch.nn as nn\n",
    "import torch.nn.functional as F\n",
    "import torchvision as tv"
   ]
  },
  {
   "cell_type": "markdown",
   "metadata": {
    "colab_type": "text",
    "id": "lB_0kcWYhvR9"
   },
   "source": [
    "各種関数を定義"
   ]
  },
  {
   "cell_type": "code",
   "execution_count": null,
   "metadata": {
    "colab": {
     "base_uri": "https://localhost:8080/",
     "height": 32
    },
    "colab_type": "code",
    "executionInfo": {
     "elapsed": 5160,
     "status": "ok",
     "timestamp": 1577410710158,
     "user": {
      "displayName": "コウ",
      "photoUrl": "",
      "userId": "15615658067056912208"
     },
     "user_tz": -540
    },
    "id": "6JayRc2M3Y59",
    "outputId": "03c13064-1094-4a12-8c52-ee5bf5f78f9b"
   },
   "outputs": [],
   "source": [
    "device = t.device(\"cuda:0\" if t.cuda.is_available() else \"cpu\")\n",
    "device"
   ]
  },
  {
   "cell_type": "code",
   "execution_count": null,
   "metadata": {
    "colab": {},
    "colab_type": "code",
    "id": "bPSFFX_OmVUu"
   },
   "outputs": [],
   "source": [
    "class MLP(nn.Module):\n",
    "\n",
    "    def __init__(self):\n",
    "        super(MLP, self).__init__()\n",
    "        self.l1 = nn.Linear(784, 1000) \n",
    "        self.l2 = nn.Linear(1000, 1000)\n",
    "        self.l3 = nn.Linear(1000, 10)\n",
    "\n",
    "    def forward(self, x):\n",
    "        h = x.view(-1, 28*28) # (N, 1, 28, 28) -> (N, 784)\n",
    "        # １層目\n",
    "        h = F.relu(self.l1(h))\n",
    "        # ２層目\n",
    "        h = F.relu(self.l2(h))\n",
    "        # 出力層\n",
    "        return self.l3(h)"
   ]
  },
  {
   "cell_type": "code",
   "execution_count": null,
   "metadata": {
    "colab": {},
    "colab_type": "code",
    "id": "l-vStJAZ6S6s"
   },
   "outputs": [],
   "source": [
    "def dev_env(tensor):\n",
    "    return \"cuda\" if tensor.is_cuda else \"cpu\""
   ]
  },
  {
   "cell_type": "markdown",
   "metadata": {
    "colab_type": "text",
    "id": "sbHgg_VVGZ3A"
   },
   "source": [
    "今回は`running_loss`をコードの可読性のためリストとして定義した。  \n",
    "だが、各lossをメモリに展開しておく理由も特にないので、普通のfloat変数として定義して毎回加算してしまって問題ない。  "
   ]
  },
  {
   "cell_type": "code",
   "execution_count": null,
   "metadata": {
    "colab": {},
    "colab_type": "code",
    "id": "CAxeYbEhgP-0"
   },
   "outputs": [],
   "source": [
    "def train(model, trainset, criterion, lr, batchsize, iterations):\n",
    "    \"\"\"\n",
    "    指定されたモデルを指定回数分だけ訓練させる関数。\n",
    "    \"\"\"\n",
    "    model.train()\n",
    "    train_loader = t.utils.data.DataLoader(trainset, batch_size=batchsize)\n",
    "    optimizer = t.optim.Adam(model.parameters(), lr=lr)\n",
    "    running_loss = []\n",
    "    correct = 0\n",
    "    axis = 1\n",
    "    if iterations is None:\n",
    "        iterations = len(train_loader.dataset.data)\n",
    "    criterion = criterion.to(device)\n",
    "    model = model.to(device)\n",
    "    for i, (inputs, labels) in enumerate(train_loader):\n",
    "        # Move device\n",
    "        inputs = inputs.to(device)\n",
    "        labels = labels.to(device)\n",
    "        optimizer.zero_grad()\n",
    "        # Forward + Backward\n",
    "        p = model(inputs)\n",
    "        loss = criterion(p, labels)\n",
    "        loss.backward()\n",
    "        optimizer.step()\n",
    "        # Calc statistics\n",
    "        running_loss.append(loss.item())\n",
    "        predicted_labels = p.max(axis)[1]\n",
    "        correct += (predicted_labels == labels).sum().item() # 一致数の算出\n",
    "        # Skip code\n",
    "        if iterations < (i +1):\n",
    "            break\n",
    "    train_loss = np.array(running_loss).mean()\n",
    "    train_acc = float(correct) / trainset.data.shape[0]\n",
    "    return train_loss, train_acc"
   ]
  },
  {
   "cell_type": "code",
   "execution_count": null,
   "metadata": {
    "colab": {},
    "colab_type": "code",
    "id": "UlomOY2rCS5c"
   },
   "outputs": [],
   "source": [
    "def valid(model, testset, criterion, batchsize):\n",
    "    \"\"\"\n",
    "    指定されたモデルでデータを検証する関数\n",
    "    \"\"\"\n",
    "    model.eval()\n",
    "    model = model.to(device)\n",
    "    criterion = criterion.to(device)\n",
    "    correct = 0\n",
    "    total = 0\n",
    "    axis = 1\n",
    "    running_loss = []\n",
    "    test_loader = t.utils.data.DataLoader(testset, batchsize)\n",
    "    with t.no_grad(): # Disable to calc gradient\n",
    "        for i, (inputs, labels) in enumerate(test_loader):\n",
    "            inputs = inputs.to(device)\n",
    "            labels = labels.to(device)\n",
    "            # Forward + Backward\n",
    "            p = model(inputs) # p is one-hot vector\n",
    "            loss = criterion(p, labels)\n",
    "            # Calc statistics\n",
    "            running_loss.append(loss.item())\n",
    "            predicted_labels = p.max(axis)[1]\n",
    "            correct += (predicted_labels == labels).sum().item()\n",
    "    val_loss = np.array(running_loss).mean()\n",
    "    val_acc = float(correct) / testset.data.shape[0]\n",
    "    return val_loss, val_acc"
   ]
  },
  {
   "cell_type": "markdown",
   "metadata": {
    "colab_type": "text",
    "id": "SHhi7bWvYRNm"
   },
   "source": [
    "## ポイント1\n",
    "\n",
    "```python\n",
    "correct =  (predicted == labels).sum().item()\n",
    "```\n",
    "`(predicted_labels == labels)`でラベルが一致したかどうかの配列を生成している。  \n",
    "一致している場合は`True`が格納されて、そうでない場合は`False`が格納される。  \n",
    "その`True`の数を総和して取得している。\n",
    "\n",
    "> itemメソッドは`Tensor`型に含まれている単一数字を取得できる。\n",
    "\n",
    "## ポイント2\n",
    "\n",
    "```python\n",
    "total += labels.size(0)\n",
    "```\n",
    "\n",
    "`labels`は`torch.tensor`型なので`labels.size()`を実行しても`Tensor([n])`が取得できてしまって数値演算できない。  \n",
    "よって、0次元目の値を取り出すために`tensor.size(0)`でアクセスしている。  \n",
    "基本的に`labels.size(0)`は`DataLoader`が返す`Enumerarte`のサイズなので**基本的には**バッチサイズと一致する。  \n",
    "ただし、batchsizeによっては端数が出る可能性があるので、`tensor.size(0) * i`として`O(1)`計算するのは難しい。\n",
    "\n",
    "> 今回はデータセット数10,000に対してbatchsize=100でアクセスしているので端数が出ることなくアクセスできている。  \n",
    "> しかし、batchsize=128などでアクセスした場合は余りが発生するのでそうはならない。最後の`labels.size(0)`は16となる。\n"
   ]
  },
  {
   "cell_type": "code",
   "execution_count": null,
   "metadata": {
    "colab": {},
    "colab_type": "code",
    "id": "DgXrR1LwwAuU"
   },
   "outputs": [],
   "source": [
    "csv_path = '/content/drive/My Drive/ColabNotebooks/PyTorchBeginner/loss.csv'"
   ]
  },
  {
   "cell_type": "code",
   "execution_count": null,
   "metadata": {
    "colab": {},
    "colab_type": "code",
    "id": "cOmesoL6ieDw"
   },
   "outputs": [],
   "source": [
    "def train_and_eval(model, trainset, testset, lr=0.001, epochs=1, batchsize=100, iterations=None):\n",
    "    results = []\n",
    "    criterion = nn.CrossEntropyLoss()\n",
    "    for epoch in range(epochs):\n",
    "        start = time.time()\n",
    "        train_loss, train_acc = train(model, trainset, criterion, lr, batchsize, iterations)\n",
    "        valid_loss, valid_acc = valid(model, trainset, criterion, batchsize)\n",
    "        end = time.time()\n",
    "        results.append([epoch, train_loss, train_acc, valid_loss, valid_acc, end - start])\n",
    "        print('epoch %d, train_loss: %.4f train_acc: %.4f val_loss: %.4f val_acc: %.4f' % (epoch, train_loss, train_acc, valid_loss, valid_acc))\n",
    "    out = pd.DataFrame(results, columns=[\"epoch\", \"train_loss\", \"train_accuracy\", \"valid_loss\", \"valid_accuracy\", \"elapsed_time\"])\n",
    "    out.to_csv(csv_path, index=False)\n",
    "    return out\n"
   ]
  },
  {
   "cell_type": "markdown",
   "metadata": {
    "colab_type": "text",
    "id": "JD3GRyUOoz1R"
   },
   "source": [
    "データをロードして準備しましょう。"
   ]
  },
  {
   "cell_type": "code",
   "execution_count": null,
   "metadata": {
    "colab": {},
    "colab_type": "code",
    "id": "WWXirFR5UGHa"
   },
   "outputs": [],
   "source": [
    " preprocess = tv.transforms.Compose([\n",
    "                                  tv.transforms.ToTensor()\n",
    "                                  ])"
   ]
  },
  {
   "cell_type": "code",
   "execution_count": null,
   "metadata": {
    "colab": {
     "base_uri": "https://localhost:8080/",
     "height": 247
    },
    "colab_type": "code",
    "executionInfo": {
     "elapsed": 11204,
     "status": "ok",
     "timestamp": 1577410716238,
     "user": {
      "displayName": "コウ",
      "photoUrl": "",
      "userId": "15615658067056912208"
     },
     "user_tz": -540
    },
    "id": "v8c1LMazSsdA",
    "outputId": "5e587af6-f0d7-46a7-ca9b-45e8a5803f25"
   },
   "outputs": [],
   "source": [
    "trainset = tv.datasets.MNIST('~/tmp/mnist', \n",
    "                                           train=True,\n",
    "                                           download=True,\n",
    "                                           transform=preprocess)"
   ]
  },
  {
   "cell_type": "code",
   "execution_count": null,
   "metadata": {
    "colab": {},
    "colab_type": "code",
    "id": "iYbcPNaAU1ea"
   },
   "outputs": [],
   "source": [
    "testset = tv.datasets.MNIST('~/tmp/mnist',\n",
    "                                          train=False,\n",
    "                                          download=True,\n",
    "                                          transform=preprocess)"
   ]
  },
  {
   "cell_type": "markdown",
   "metadata": {
    "colab_type": "text",
    "id": "DhBKksdkSsdI"
   },
   "source": [
    "## トレーニングを繰り返す"
   ]
  },
  {
   "cell_type": "code",
   "execution_count": null,
   "metadata": {
    "colab": {},
    "colab_type": "code",
    "id": "fQoiS2hvFa6D"
   },
   "outputs": [],
   "source": [
    "batchsize=100"
   ]
  },
  {
   "cell_type": "code",
   "execution_count": null,
   "metadata": {
    "colab": {
     "base_uri": "https://localhost:8080/",
     "height": 345
    },
    "colab_type": "code",
    "executionInfo": {
     "elapsed": 290868,
     "status": "ok",
     "timestamp": 1577412595577,
     "user": {
      "displayName": "コウ",
      "photoUrl": "",
      "userId": "15615658067056912208"
     },
     "user_tz": -540
    },
    "id": "RjYOEubp2Uop",
    "outputId": "38d06339-6b08-4a12-cf1a-c0e3977110ea"
   },
   "outputs": [],
   "source": [
    "result = train_and_eval(model=MLP(), trainset=trainset, testset=testset, epochs=20)"
   ]
  },
  {
   "cell_type": "code",
   "execution_count": null,
   "metadata": {
    "colab": {
     "base_uri": "https://localhost:8080/",
     "height": 187
    },
    "colab_type": "code",
    "executionInfo": {
     "elapsed": 288159,
     "status": "ok",
     "timestamp": 1577412595578,
     "user": {
      "displayName": "コウ",
      "photoUrl": "",
      "userId": "15615658067056912208"
     },
     "user_tz": -540
    },
    "id": "E7I2hTOmyKUg",
    "outputId": "f7de66e0-5318-456e-fad0-ef88d27777d4"
   },
   "outputs": [],
   "source": [
    "result.head()"
   ]
  },
  {
   "cell_type": "markdown",
   "metadata": {
    "colab_type": "text",
    "id": "dwHOEck0FpL2"
   },
   "source": [
    "## 結果のグラフ化"
   ]
  },
  {
   "cell_type": "markdown",
   "metadata": {
    "colab_type": "text",
    "id": "TwyVu-NyVlL8"
   },
   "source": [
    "各損失関数の値(loss)を表示"
   ]
  },
  {
   "cell_type": "code",
   "execution_count": null,
   "metadata": {
    "colab": {
     "base_uri": "https://localhost:8080/",
     "height": 281
    },
    "colab_type": "code",
    "executionInfo": {
     "elapsed": 287577,
     "status": "ok",
     "timestamp": 1577412595579,
     "user": {
      "displayName": "コウ",
      "photoUrl": "",
      "userId": "15615658067056912208"
     },
     "user_tz": -540
    },
    "id": "bMAsTc_mFopb",
    "outputId": "0fe8b55d-7b8c-46e0-b67b-c7cb464d7041"
   },
   "outputs": [],
   "source": [
    "result[['train_loss', 'valid_loss']].plot()"
   ]
  },
  {
   "cell_type": "markdown",
   "metadata": {
    "colab_type": "text",
    "id": "gik8LBnJH0m8"
   },
   "source": [
    "accuracyの表示"
   ]
  },
  {
   "cell_type": "code",
   "execution_count": null,
   "metadata": {
    "colab": {
     "base_uri": "https://localhost:8080/",
     "height": 281
    },
    "colab_type": "code",
    "executionInfo": {
     "elapsed": 966,
     "status": "ok",
     "timestamp": 1577412638101,
     "user": {
      "displayName": "コウ",
      "photoUrl": "",
      "userId": "15615658067056912208"
     },
     "user_tz": -540
    },
    "id": "Q1t1bbLzF0aw",
    "outputId": "8621fc2f-e3c7-490e-843a-1e4764590b12"
   },
   "outputs": [],
   "source": [
    "result[['train_accuracy', 'valid_accuracy']].plot()"
   ]
  },
  {
   "cell_type": "markdown",
   "metadata": {
    "colab_type": "text",
    "id": "-DPNFIz5Iaes"
   },
   "source": [
    "訓練データに対する正答率、検証データに対する正答率ともにキレイなグラフで増加しています。  \n",
    "特に過学習が進んでいる様子もないため、精度の良いモデルができたと言えるでしょう。"
   ]
  }
 ],
 "metadata": {
  "accelerator": "GPU",
  "colab": {
   "collapsed_sections": [],
   "name": "23_MNIST_loss_accuracy.ipynb",
   "provenance": []
  },
  "kernelspec": {
   "display_name": "Python 3",
   "language": "python",
   "name": "python3"
  },
  "language_info": {
   "codemirror_mode": {
    "name": "ipython",
    "version": 3
   },
   "file_extension": ".py",
   "mimetype": "text/x-python",
   "name": "python",
   "nbconvert_exporter": "python",
   "pygments_lexer": "ipython3",
   "version": "3.7.4"
  }
 },
 "nbformat": 4,
 "nbformat_minor": 1
}
