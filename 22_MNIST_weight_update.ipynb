{
 "cells": [
  {
   "cell_type": "markdown",
   "metadata": {
    "colab_type": "text",
    "id": "N727J_mjSsc0"
   },
   "source": [
    "# ニューラルネットワークの訓練: 重みの更新回数と出力値"
   ]
  },
  {
   "cell_type": "code",
   "execution_count": null,
   "metadata": {
    "colab": {},
    "colab_type": "code",
    "id": "ImMvpu9NSsc4"
   },
   "outputs": [],
   "source": [
    "import numpy as np\n",
    "import PIL.Image as  Image\n",
    "import time\n",
    "\n",
    "import matplotlib.pyplot as plt\n",
    "\n",
    "import torch as t\n",
    "import torch.optim\n",
    "from torch.autograd import Variable\n",
    "import torch.nn as nn\n",
    "import torch.nn.functional as F\n",
    "import torchvision as tv"
   ]
  },
  {
   "cell_type": "markdown",
   "metadata": {
    "colab_type": "text",
    "id": "lB_0kcWYhvR9"
   },
   "source": [
    "各種関数を定義"
   ]
  },
  {
   "cell_type": "code",
   "execution_count": null,
   "metadata": {
    "colab": {
     "base_uri": "https://localhost:8080/",
     "height": 34
    },
    "colab_type": "code",
    "executionInfo": {
     "elapsed": 1450,
     "status": "ok",
     "timestamp": 1576490435938,
     "user": {
      "displayName": "コウ",
      "photoUrl": "",
      "userId": "15615658067056912208"
     },
     "user_tz": -540
    },
    "id": "6JayRc2M3Y59",
    "outputId": "aaa46a32-ff90-46ef-d05b-0a719664de0f"
   },
   "outputs": [],
   "source": [
    "device = t.device(\"cuda:0\" if t.cuda.is_available() else \"cpu\")\n",
    "device"
   ]
  },
  {
   "cell_type": "code",
   "execution_count": null,
   "metadata": {
    "colab": {},
    "colab_type": "code",
    "id": "bPSFFX_OmVUu"
   },
   "outputs": [],
   "source": [
    "class MLP(nn.Module):\n",
    "\n",
    "    def __init__(self):\n",
    "        super(MLP, self).__init__()\n",
    "        self.l1 = nn.Linear(784, 1000) \n",
    "        self.l2 = nn.Linear(1000, 1000)\n",
    "        self.l3 = nn.Linear(1000, 10)\n",
    "\n",
    "    def forward(self, x):\n",
    "        h = x.view(-1, 28*28) # (N, 1, 28, 28) -> (N, 784)\n",
    "        # １層目\n",
    "        h = F.relu(self.l1(h))\n",
    "        # ２層目\n",
    "        h = F.relu(self.l2(h))\n",
    "        # 出力層\n",
    "        return self.l3(h)"
   ]
  },
  {
   "cell_type": "code",
   "execution_count": null,
   "metadata": {
    "colab": {},
    "colab_type": "code",
    "id": "l-vStJAZ6S6s"
   },
   "outputs": [],
   "source": [
    "def dev_env(tensor):\n",
    "      return \"cuda\" if tensor.is_cuda else \"cpu\""
   ]
  },
  {
   "cell_type": "code",
   "execution_count": null,
   "metadata": {
    "colab": {},
    "colab_type": "code",
    "id": "CAxeYbEhgP-0"
   },
   "outputs": [],
   "source": [
    "def learn(model, batchsize, epochs):\n",
    "    \"\"\"\n",
    "    指定されたモデルを指定回数分だけ訓練させる関数。\n",
    "    \"\"\"\n",
    "    train_loader = t.utils.data.DataLoader(trainset, batch_size=batchsize)\n",
    "    optimizer = t.optim.Adam(model.parameters(), lr=0.01)\n",
    "    criterion = nn.CrossEntropyLoss()\n",
    "    criterion = criterion.to(device)\n",
    "    model.train()\n",
    "    model = model.to(device)\n",
    "    for epoch in range(epochs):\n",
    "        running_loss = 0.0\n",
    "        start = time.time()\n",
    "        for i, (inputs, labels) in enumerate(train_loader):\n",
    "            # zero the parameter gradients\n",
    "            optimizer.zero_grad()\n",
    "            # forward + backward + optimize\n",
    "            outputs = model(inputs.to(device))\n",
    "            loss = criterion(outputs, labels.to(device))\n",
    "            loss.backward()\n",
    "            optimizer.step()\n",
    "            # print statistics\n",
    "            running_loss += loss.item()\n",
    "            if False and i % 100 == 99:\n",
    "                end = time.time()\n",
    "                print('[{:d}, {:5d}] loss: {:.3f} (elapsed: {:.3f} [s] by {})'\n",
    "                         .format(epoch + 1, i + 1, running_loss / 100, end-start, dev_env(outputs)))\n",
    "                running_loss = 0.0\n",
    "                start = time.time()\n",
    "    return model"
   ]
  },
  {
   "cell_type": "code",
   "execution_count": null,
   "metadata": {
    "colab": {},
    "colab_type": "code",
    "id": "vftsazSwm8_J"
   },
   "outputs": [],
   "source": [
    "def predict(model, test_data):\n",
    "      model = model.eval()\n",
    "      input_tensor = test_data[0]\n",
    "      input_tensor.unsqueeze_(0)\n",
    "      prediction = model(Variable(input_tensor).to(device))\n",
    "      prediction.data[0] = F.softmax(prediction.data[0], dim=0)\n",
    "      return prediction"
   ]
  },
  {
   "cell_type": "code",
   "execution_count": null,
   "metadata": {
    "colab": {},
    "colab_type": "code",
    "id": "iw4v-tIUhtjL"
   },
   "outputs": [],
   "source": [
    "def print_prediction(prediction, test_data):\n",
    "      prediction = prediction.cpu()\n",
    "      data_volume = len(prediction.data[0])\n",
    "      fig, ax = plt.subplots(1,2, figsize=(10, 5))\n",
    "      # 確率グラフを表示\n",
    "      ax[0].set_title(\"Prediction\")\n",
    "      ax[0].set_xticks(np.arange(0, data_volume, 1))\n",
    "      ax[0].bar(x=range(data_volume), height=prediction.data[0])\n",
    "      # 画像データを表示\n",
    "      ax[1].set_title(\"Image\")\n",
    "      ax[1].imshow(test_data[0].reshape(28,28))"
   ]
  },
  {
   "cell_type": "code",
   "execution_count": null,
   "metadata": {
    "colab": {},
    "colab_type": "code",
    "id": "cOmesoL6ieDw"
   },
   "outputs": [],
   "source": [
    "def train_and_eval(model, test_index, batchsize=100, epoch=20):\n",
    "    # Training process\n",
    "    learned_model = learn(model, batchsize, epoch)\n",
    "    # Evaluation process\n",
    "    test_data = testset[test_index]\n",
    "    prediction = predict(learned_model, test_data)\n",
    "    print_prediction(prediction, test_data)"
   ]
  },
  {
   "cell_type": "markdown",
   "metadata": {
    "colab_type": "text",
    "id": "JD3GRyUOoz1R"
   },
   "source": [
    "データをロードして準備しましょう。"
   ]
  },
  {
   "cell_type": "code",
   "execution_count": null,
   "metadata": {
    "colab": {},
    "colab_type": "code",
    "id": "WWXirFR5UGHa"
   },
   "outputs": [],
   "source": [
    " preprocess = tv.transforms.Compose([\n",
    "                                  tv.transforms.ToTensor(),\n",
    "                                  tv.transforms.Normalize((0.5, ), (0.5, ))])"
   ]
  },
  {
   "cell_type": "code",
   "execution_count": null,
   "metadata": {
    "colab": {},
    "colab_type": "code",
    "id": "v8c1LMazSsdA"
   },
   "outputs": [],
   "source": [
    "trainset = tv.datasets.MNIST('~/tmp/mnist', \n",
    "                                           train=True,\n",
    "                                           download=True,\n",
    "                                           transform=preprocess)"
   ]
  },
  {
   "cell_type": "code",
   "execution_count": null,
   "metadata": {
    "colab": {},
    "colab_type": "code",
    "id": "iYbcPNaAU1ea"
   },
   "outputs": [],
   "source": [
    "testset = tv.datasets.MNIST('~/tmp/mnist',\n",
    "                                          train=False,\n",
    "                                          download=True,\n",
    "                                          transform=preprocess)"
   ]
  },
  {
   "cell_type": "markdown",
   "metadata": {
    "colab_type": "text",
    "id": "DhBKksdkSsdI"
   },
   "source": [
    "## トレーニングを繰り返す"
   ]
  },
  {
   "cell_type": "code",
   "execution_count": null,
   "metadata": {
    "colab": {},
    "colab_type": "code",
    "id": "_L_M5J_wSsdI"
   },
   "outputs": [],
   "source": [
    "mlp = MLP()"
   ]
  },
  {
   "cell_type": "code",
   "execution_count": null,
   "metadata": {
    "colab": {},
    "colab_type": "code",
    "id": "fQoiS2hvFa6D"
   },
   "outputs": [],
   "source": [
    "batchsize=10"
   ]
  },
  {
   "cell_type": "code",
   "execution_count": null,
   "metadata": {
    "colab": {
     "base_uri": "https://localhost:8080/",
     "height": 1000
    },
    "colab_type": "code",
    "executionInfo": {
     "elapsed": 30710,
     "status": "error",
     "timestamp": 1576490465259,
     "user": {
      "displayName": "コウ",
      "photoUrl": "",
      "userId": "15615658067056912208"
     },
     "user_tz": -540
    },
    "id": "vVAzCJHUSsdK",
    "outputId": "36baa958-b7be-4f32-fcf9-d7c955e55aa9"
   },
   "outputs": [],
   "source": [
    "train_and_eval(model=mlp, test_index=1, batchsize=batchsize, epoch=1)"
   ]
  },
  {
   "cell_type": "code",
   "execution_count": null,
   "metadata": {
    "colab": {},
    "colab_type": "code",
    "id": "yUfOpv81SsdL",
    "scrolled": true
   },
   "outputs": [],
   "source": [
    "train_and_eval(model=mlp, test_index=1, batchsize=batchsize, epoch=5)"
   ]
  },
  {
   "cell_type": "code",
   "execution_count": null,
   "metadata": {
    "colab": {},
    "colab_type": "code",
    "id": "i-kbyNUbSsdN"
   },
   "outputs": [],
   "source": [
    "train_and_eval(model=mlp, test_index=1, batchsize=batchsize, epoch=10)"
   ]
  },
  {
   "cell_type": "code",
   "execution_count": null,
   "metadata": {
    "colab": {},
    "colab_type": "code",
    "id": "K74R14l2SsdO"
   },
   "outputs": [],
   "source": [
    "train_and_eval(model=mlp, test_index=1, batchsize=batchsize, epoch=20)"
   ]
  },
  {
   "cell_type": "code",
   "execution_count": null,
   "metadata": {
    "colab": {},
    "colab_type": "code",
    "id": "iaQJx1d2SsdQ"
   },
   "outputs": [],
   "source": [
    "train_and_eval(model=mlp, test_index=1, batchsize=batchsize, epoch=50)"
   ]
  },
  {
   "cell_type": "code",
   "execution_count": null,
   "metadata": {
    "colab": {},
    "colab_type": "code",
    "id": "K50LxsUjSsdR"
   },
   "outputs": [],
   "source": [
    "train_and_eval(model=mlp, test_index=1, batchsize=batchsize, epoch=100)"
   ]
  },
  {
   "cell_type": "code",
   "execution_count": null,
   "metadata": {
    "colab": {},
    "colab_type": "code",
    "id": "c2pg3IrpSsdS"
   },
   "outputs": [],
   "source": [
    "train_and_eval(model=mlp, test_index=1, batchsize=batchsize, epoch=100)"
   ]
  },
  {
   "cell_type": "markdown",
   "metadata": {
    "colab_type": "text",
    "id": "9ErD4kU5SsdU"
   },
   "source": [
    "# sample_id=2"
   ]
  },
  {
   "cell_type": "code",
   "execution_count": null,
   "metadata": {
    "colab": {},
    "colab_type": "code",
    "id": "f6E8n2l_SsdU"
   },
   "outputs": [],
   "source": [
    "train_and_eval(model=mlp, test_index=2, batchsize=batchsize, epoch=1)"
   ]
  },
  {
   "cell_type": "code",
   "execution_count": null,
   "metadata": {
    "colab": {},
    "colab_type": "code",
    "id": "aVytO1ibSsdW"
   },
   "outputs": [],
   "source": [
    "train_and_eval(model=mlp, test_index=2, batchsize=batchsize, epoch=5)"
   ]
  },
  {
   "cell_type": "code",
   "execution_count": null,
   "metadata": {
    "colab": {},
    "colab_type": "code",
    "id": "K5prCOCjSsdX"
   },
   "outputs": [],
   "source": [
    "train_and_eval(model=mlp, test_index=2, batchsize=batchsize, epoch=10)"
   ]
  },
  {
   "cell_type": "code",
   "execution_count": null,
   "metadata": {
    "colab": {},
    "colab_type": "code",
    "id": "eZ8GkkajSsdY"
   },
   "outputs": [],
   "source": [
    "train_and_eval(model=mlp, test_index=2, batchsize=batchsize, epoch=50)"
   ]
  },
  {
   "cell_type": "code",
   "execution_count": null,
   "metadata": {
    "colab": {},
    "colab_type": "code",
    "id": "RDsk3E-9Ssdb"
   },
   "outputs": [],
   "source": [
    "train_and_eval(model=mlp, test_index=2, batchsize=batchsize, epoch=100)"
   ]
  },
  {
   "cell_type": "code",
   "execution_count": null,
   "metadata": {
    "colab": {},
    "colab_type": "code",
    "id": "qS6odI7GSsdd",
    "scrolled": true
   },
   "outputs": [],
   "source": [
    "train_and_eval(model=mlp, test_index=2, batchsize=batchsize, epoch=200)"
   ]
  },
  {
   "cell_type": "markdown",
   "metadata": {
    "colab_type": "text",
    "id": "J746K0jOSsde"
   },
   "source": [
    "## ここで確認できること"
   ]
  },
  {
   "cell_type": "markdown",
   "metadata": {
    "colab_type": "text",
    "id": "-RjtL35kSsdf"
   },
   "source": [
    "ニューラルネットワークの訓練が進むにつれて、手書き文字列画像を入力すると、その手書き文字列が所属するクラス\n",
    "の値が最大値を示すようになります。"
   ]
  }
 ],
 "metadata": {
  "accelerator": "GPU",
  "colab": {
   "collapsed_sections": [],
   "name": "22_MNIST_weight_update.ipynb",
   "provenance": []
  },
  "kernelspec": {
   "display_name": "Python 3",
   "language": "python",
   "name": "python3"
  },
  "language_info": {
   "codemirror_mode": {
    "name": "ipython",
    "version": 3
   },
   "file_extension": ".py",
   "mimetype": "text/x-python",
   "name": "python",
   "nbconvert_exporter": "python",
   "pygments_lexer": "ipython3",
   "version": "3.7.4"
  }
 },
 "nbformat": 4,
 "nbformat_minor": 1
}
