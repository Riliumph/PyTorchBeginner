{
 "cells": [
  {
   "cell_type": "markdown",
   "metadata": {
    "colab_type": "text",
    "id": "463a-oozJOYO"
   },
   "source": [
    "# ハンズオン環境の確認"
   ]
  },
  {
   "cell_type": "markdown",
   "metadata": {
    "colab_type": "text",
    "id": "-SNPvNB4JOYQ"
   },
   "source": [
    "## スペックの確認"
   ]
  },
  {
   "cell_type": "markdown",
   "metadata": {
    "colab_type": "text",
    "id": "e3fp5g0ENCQI"
   },
   "source": [
    "CPU情報の確認"
   ]
  },
  {
   "cell_type": "code",
   "execution_count": null,
   "metadata": {
    "colab": {
     "base_uri": "https://localhost:8080/",
     "height": 955
    },
    "colab_type": "code",
    "executionInfo": {
     "elapsed": 4044,
     "status": "ok",
     "timestamp": 1575946049225,
     "user": {
      "displayName": "コウ",
      "photoUrl": "",
      "userId": "15615658067056912208"
     },
     "user_tz": -540
    },
    "id": "km35lIB-MUNd",
    "outputId": "4ae7a56f-c36e-4116-867b-3178dffd0972"
   },
   "outputs": [],
   "source": [
    "!cat /proc/cpuinfo"
   ]
  },
  {
   "cell_type": "markdown",
   "metadata": {
    "colab_type": "text",
    "id": "onvp0dKMNF9c"
   },
   "source": [
    "GPU情報の確認\n",
    "この情報が出力されなかった場合は、以下の手順でVM環境設定を変更すること。  \n",
    "1. 【ランタイム】-【ランタイムのタイプ変更】を選択\n",
    "2. ハードウェアアクセラレータをGPUに変更\n"
   ]
  },
  {
   "cell_type": "code",
   "execution_count": null,
   "metadata": {
    "colab": {
     "base_uri": "https://localhost:8080/",
     "height": 187
    },
    "colab_type": "code",
    "executionInfo": {
     "elapsed": 6064,
     "status": "ok",
     "timestamp": 1575946051256,
     "user": {
      "displayName": "コウ",
      "photoUrl": "",
      "userId": "15615658067056912208"
     },
     "user_tz": -540
    },
    "id": "tPOimT3iMZfY",
    "outputId": "4825cccc-8774-4d25-f580-c44118d67cbd"
   },
   "outputs": [],
   "source": [
    "!cat /proc/driver/nvidia/gpus/0000:00:04.0/information"
   ]
  },
  {
   "cell_type": "markdown",
   "metadata": {
    "colab_type": "text",
    "id": "JZk_YHDjdMr2"
   },
   "source": [
    "GPU Driverの確認"
   ]
  },
  {
   "cell_type": "code",
   "execution_count": null,
   "metadata": {
    "colab": {
     "base_uri": "https://localhost:8080/",
     "height": 306
    },
    "colab_type": "code",
    "executionInfo": {
     "elapsed": 8289,
     "status": "ok",
     "timestamp": 1575946053489,
     "user": {
      "displayName": "コウ",
      "photoUrl": "",
      "userId": "15615658067056912208"
     },
     "user_tz": -540
    },
    "id": "obT7_K01NOSt",
    "outputId": "8cfbd9c0-1061-4026-c783-0b31a6142b39"
   },
   "outputs": [],
   "source": [
    "!nvidia-smi"
   ]
  },
  {
   "cell_type": "markdown",
   "metadata": {
    "colab_type": "text",
    "id": "eiJJcCRoeKZE"
   },
   "source": [
    "カレントパスの確認"
   ]
  },
  {
   "cell_type": "code",
   "execution_count": null,
   "metadata": {
    "colab": {
     "base_uri": "https://localhost:8080/",
     "height": 34
    },
    "colab_type": "code",
    "executionInfo": {
     "elapsed": 10693,
     "status": "ok",
     "timestamp": 1575946055907,
     "user": {
      "displayName": "コウ",
      "photoUrl": "",
      "userId": "15615658067056912208"
     },
     "user_tz": -540
    },
    "id": "cu78dXFmoPA7",
    "outputId": "b0f31f7d-aa63-4274-81d4-52538770673d"
   },
   "outputs": [],
   "source": [
    "!pwd"
   ]
  },
  {
   "cell_type": "code",
   "execution_count": null,
   "metadata": {
    "colab": {
     "base_uri": "https://localhost:8080/",
     "height": 119
    },
    "colab_type": "code",
    "executionInfo": {
     "elapsed": 13515,
     "status": "ok",
     "timestamp": 1575946058739,
     "user": {
      "displayName": "コウ",
      "photoUrl": "",
      "userId": "15615658067056912208"
     },
     "user_tz": -540
    },
    "id": "TSI2y6pjoQUU",
    "outputId": "e1c6ac51-f557-45ea-c7e7-5b08d294fe16"
   },
   "outputs": [],
   "source": [
    "!ls -la"
   ]
  },
  {
   "cell_type": "markdown",
   "metadata": {
    "colab_type": "text",
    "id": "T_aCudrdpqdl"
   },
   "source": [
    "Google Driveのマウント確認"
   ]
  },
  {
   "cell_type": "code",
   "execution_count": null,
   "metadata": {
    "colab": {
     "base_uri": "https://localhost:8080/",
     "height": 34
    },
    "colab_type": "code",
    "executionInfo": {
     "elapsed": 13504,
     "status": "ok",
     "timestamp": 1575946058740,
     "user": {
      "displayName": "コウ",
      "photoUrl": "",
      "userId": "15615658067056912208"
     },
     "user_tz": -540
    },
    "id": "o7cHUhwNpaBC",
    "outputId": "17d3b842-8404-4f5f-a96f-acd0c1df2538"
   },
   "outputs": [],
   "source": [
    "from google.colab import drive\n",
    "drive.mount('/content/drive')"
   ]
  },
  {
   "cell_type": "code",
   "execution_count": null,
   "metadata": {
    "colab": {
     "base_uri": "https://localhost:8080/",
     "height": 119
    },
    "colab_type": "code",
    "executionInfo": {
     "elapsed": 15147,
     "status": "ok",
     "timestamp": 1575946060393,
     "user": {
      "displayName": "コウ",
      "photoUrl": "",
      "userId": "15615658067056912208"
     },
     "user_tz": -540
    },
    "id": "kcMHR5KWp0KB",
    "outputId": "989b836b-741d-4141-db85-d8d671b55107"
   },
   "outputs": [],
   "source": [
    "!ls -la"
   ]
  },
  {
   "cell_type": "markdown",
   "metadata": {
    "colab_type": "text",
    "id": "TpreQv4Uqdq_"
   },
   "source": [
    "Google Drive自体は「My Drive」の名前でマウントされている。  \n",
    "半角スペース有のパスを生成するのは仕様のようなので注意すること。"
   ]
  },
  {
   "cell_type": "code",
   "execution_count": null,
   "metadata": {
    "colab": {
     "base_uri": "https://localhost:8080/",
     "height": 255
    },
    "colab_type": "code",
    "executionInfo": {
     "elapsed": 3721,
     "status": "ok",
     "timestamp": 1575946114451,
     "user": {
      "displayName": "コウ",
      "photoUrl": "",
      "userId": "15615658067056912208"
     },
     "user_tz": -540
    },
    "id": "159Vq5d-qCLK",
    "outputId": "9fc42d8f-4281-4c24-cf43-b21aa3df59f4"
   },
   "outputs": [],
   "source": [
    "!ls -laX '/content/drive/My Drive/ColabNotebooks/PyTorchBeginner'"
   ]
  }
 ],
 "metadata": {
  "accelerator": "GPU",
  "colab": {
   "collapsed_sections": [],
   "name": "00_confirm_environment.ipynb",
   "provenance": []
  },
  "kernelspec": {
   "display_name": "Python 3",
   "language": "python",
   "name": "python3"
  },
  "language_info": {
   "codemirror_mode": {
    "name": "ipython",
    "version": 3
   },
   "file_extension": ".py",
   "mimetype": "text/x-python",
   "name": "python",
   "nbconvert_exporter": "python",
   "pygments_lexer": "ipython3",
   "version": "3.7.4"
  }
 },
 "nbformat": 4,
 "nbformat_minor": 1
}
