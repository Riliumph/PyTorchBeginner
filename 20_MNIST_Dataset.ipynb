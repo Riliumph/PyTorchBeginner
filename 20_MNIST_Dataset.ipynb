{
 "cells": [
  {
   "cell_type": "markdown",
   "metadata": {
    "colab_type": "text",
    "id": "m16HezcDoHhv"
   },
   "source": [
    "# PyTorch 初心者ハンズオン\n",
    "\n",
    "## MNISTデータセットへのアクセス\n",
    "\n",
    "ここでは、MNISTと呼ばれる、よく知られる手書き文字データ・セットによって、ニューラルネットワークの流れを体感していただきましょう。"
   ]
  },
  {
   "cell_type": "markdown",
   "metadata": {
    "colab_type": "text",
    "id": "qjfm8zqGoHhy"
   },
   "source": [
    "## ページ内目次\n",
    "\n",
    "<ul>\n",
    "<li><a href=\"#MNISTデータセットを読み込む\">MNISTデータセットを読み込む</a></li>\n",
    "<li><a href=\"#MNISTデータセットの確認（1/5）\">MNISTデータセットの確認（1/5）</a></li>\n",
    "<li><a href=\"#MNISTデータセットの確認（2/5）\">MNISTデータセットの確認（2/5）</a></li>\n",
    "<li><a href=\"#MNISTデータセットの確認（3/5）\">MNISTデータセットの確認（3/5）</a></li>\n",
    "<li><a href=\"#MNISTデータセットの確認（4/5）\">MNISTデータセットの確認（4/5）</a></li>\n",
    "<li><a href=\"#MNISTデータセットの確認（5/5）\">MNISTデータセットの確認（5/5）</a></li>\n",
    "</ul>"
   ]
  },
  {
   "cell_type": "markdown",
   "metadata": {
    "colab_type": "text",
    "id": "YIjAyGAloHhy"
   },
   "source": [
    "<hr>\n",
    "\n",
    "<div style=\"border: 1px solid; padding: 10px\">\n",
    "\n",
    "<p>MNIST（正式名称 THE MNIST DATABASE of handwritten digits) は、以下のURLで公開されている手書き持ちのデータ・セットです。</p>\n",
    "\n",
    "<p><a href=\"http://yann.lecun.com/exdb/mnist/\">http://yann.lecun.com/exdb/mnist/</a></p>\n",
    "    \n",
    "<p>このデータセットには、下記のものが含まれます。</p>\n",
    "\n",
    "<ul>\n",
    "<li>学習用の手書き文字 60,000 サンプル</li>\n",
    "<li>評価用の手書き文字 10,000 サンプル</li>\n",
    "</ul>\n",
    "\n",
    "<p>各手書き文字サンプルは、 タテ28ドット、ヨコ28ドット、合計784ドットで構成されています。また各手書き文字画像がどの文字であるかを示す「ラベル」が付けられています。ラベルは、学習時の教師信号として利用できるほか、評価時には得られた結果が目的値であるかを確認するために利用できます。</p>\n",
    "\n",
    "<p>まずは、MNISTデータセットをロードして、内容を確認してみましょう。</p>\n",
    "</div>\n",
    "\n",
    "<hr>"
   ]
  },
  {
   "cell_type": "markdown",
   "metadata": {
    "colab_type": "text",
    "id": "jqDLjkjWoHhz"
   },
   "source": [
    "<hr>\n",
    "\n",
    "# MNISTデータセットを読み込む"
   ]
  },
  {
   "cell_type": "markdown",
   "metadata": {
    "colab_type": "text",
    "id": "_Z15SY5KoHh0"
   },
   "source": [
    "使用するモジュールをインポート"
   ]
  },
  {
   "cell_type": "code",
   "execution_count": null,
   "metadata": {
    "colab": {},
    "colab_type": "code",
    "id": "Cv4PT_PnoHh0"
   },
   "outputs": [],
   "source": [
    "import torch\n",
    "import torchvision as tv"
   ]
  },
  {
   "cell_type": "markdown",
   "metadata": {
    "colab_type": "text",
    "id": "g0jB7InJvpPE"
   },
   "source": [
    "MNISTに対して行うpreprocessを定義しておきます。"
   ]
  },
  {
   "cell_type": "code",
   "execution_count": null,
   "metadata": {
    "colab": {},
    "colab_type": "code",
    "id": "TfRyjNk-vn-z"
   },
   "outputs": [],
   "source": [
    " preprocess = tv.transforms.Compose([\n",
    "                                  tv.transforms.ToTensor(),\n",
    "                                  tv.transforms.Normalize((0.5, ), (0.5, ))])"
   ]
  },
  {
   "cell_type": "markdown",
   "metadata": {
    "colab_type": "text",
    "id": "qCoaw0LhoHh2"
   },
   "source": [
    "MNISTデータセット（訓練用、評価用）をそれぞれダウンロード。  \n",
    "パスは`/content/data`にしておきます。"
   ]
  },
  {
   "cell_type": "code",
   "execution_count": null,
   "metadata": {
    "colab": {
     "base_uri": "https://localhost:8080/",
     "height": 255
    },
    "colab_type": "code",
    "executionInfo": {
     "elapsed": 13029,
     "status": "ok",
     "timestamp": 1576049978664,
     "user": {
      "displayName": "コウ",
      "photoUrl": "",
      "userId": "15615658067056912208"
     },
     "user_tz": -540
    },
    "id": "ER64QpxIoHh3",
    "outputId": "ede59608-6408-4825-d584-d0a5f170f89a"
   },
   "outputs": [],
   "source": [
    "trainset = tv.datasets.MNIST(root='./data', \n",
    "                                           train=True,\n",
    "                                           download=True,\n",
    "                                           transform=preprocess)"
   ]
  },
  {
   "cell_type": "code",
   "execution_count": null,
   "metadata": {
    "colab": {},
    "colab_type": "code",
    "id": "ReZK33vTrtm4"
   },
   "outputs": [],
   "source": [
    "testset = tv.datasets.MNIST(root='./data', \n",
    "                                         train=False, \n",
    "                                         download=True, \n",
    "                                         transform=preprocess)"
   ]
  },
  {
   "cell_type": "markdown",
   "metadata": {
    "colab_type": "text",
    "id": "iQrKRe7ioHh4"
   },
   "source": [
    "<div style=\"border: 1px solid; padding: 10px\">\n",
    "※ MNISTデータがローカルにキャッシュされていない場合はダウンロードに時間がかかります\n",
    "</div>"
   ]
  },
  {
   "cell_type": "markdown",
   "metadata": {
    "colab_type": "text",
    "id": "gk1u-SQDoHh5"
   },
   "source": [
    "<hr>\n",
    "\n",
    "## MNISTデータセットの確認（1/5）"
   ]
  },
  {
   "cell_type": "markdown",
   "metadata": {
    "colab_type": "text",
    "id": "jAYR6BmmqKH1"
   },
   "source": [
    "trainsetオブジェクトの型を確認する。"
   ]
  },
  {
   "cell_type": "code",
   "execution_count": null,
   "metadata": {
    "colab": {
     "base_uri": "https://localhost:8080/",
     "height": 34
    },
    "colab_type": "code",
    "executionInfo": {
     "elapsed": 13200,
     "status": "ok",
     "timestamp": 1576049979046,
     "user": {
      "displayName": "コウ",
      "photoUrl": "",
      "userId": "15615658067056912208"
     },
     "user_tz": -540
    },
    "id": "k1PizQjxqM4K",
    "outputId": "30de7cb3-4b32-48ba-c910-937e5336bb43"
   },
   "outputs": [],
   "source": [
    "type(trainset)"
   ]
  },
  {
   "cell_type": "markdown",
   "metadata": {
    "colab_type": "text",
    "id": "l14W4qZ-oHh7"
   },
   "source": [
    "MNISTオブジェクトは特殊メソッド`__len__`を持っているので、組み込み関数`len`で要素数を取得できます。"
   ]
  },
  {
   "cell_type": "code",
   "execution_count": null,
   "metadata": {
    "colab": {
     "base_uri": "https://localhost:8080/",
     "height": 34
    },
    "colab_type": "code",
    "executionInfo": {
     "elapsed": 13110,
     "status": "ok",
     "timestamp": 1576049979047,
     "user": {
      "displayName": "コウ",
      "photoUrl": "",
      "userId": "15615658067056912208"
     },
     "user_tz": -540
    },
    "id": "9zSHcRxsoHh7",
    "outputId": "dfa2458c-2dfd-4e54-8532-2dc574ab90bf"
   },
   "outputs": [],
   "source": [
    "len(trainset)"
   ]
  },
  {
   "cell_type": "markdown",
   "metadata": {
    "colab_type": "text",
    "id": "KBhtoKl1oHh9"
   },
   "source": [
    "### 演習　: testset インスタンスの要素数を確認\n",
    "\n",
    "テスト用データセット testset の長さが 10,000 であることを確認してください\n",
    "\n"
   ]
  },
  {
   "cell_type": "code",
   "execution_count": null,
   "metadata": {
    "colab": {
     "base_uri": "https://localhost:8080/",
     "height": 34
    },
    "colab_type": "code",
    "executionInfo": {
     "elapsed": 13025,
     "status": "ok",
     "timestamp": 1576049979047,
     "user": {
      "displayName": "コウ",
      "photoUrl": "",
      "userId": "15615658067056912208"
     },
     "user_tz": -540
    },
    "id": "5kEpjC0woHh-",
    "outputId": "de148afc-5474-4f07-d647-495dbcf9410c"
   },
   "outputs": [],
   "source": [
    "len(testset)"
   ]
  },
  {
   "cell_type": "markdown",
   "metadata": {
    "colab_type": "text",
    "collapsed": true,
    "id": "M0fts18QoHh_"
   },
   "source": [
    "<hr>\n",
    "\n",
    "## MNISTデータセットの確認（2/5）"
   ]
  },
  {
   "cell_type": "markdown",
   "metadata": {
    "colab_type": "text",
    "id": "P5VsTwGDoHiA"
   },
   "source": [
    "訓練用データセット [123] (124番目)を表示"
   ]
  },
  {
   "cell_type": "code",
   "execution_count": null,
   "metadata": {
    "colab": {
     "base_uri": "https://localhost:8080/",
     "height": 1000
    },
    "colab_type": "code",
    "executionInfo": {
     "elapsed": 12918,
     "status": "ok",
     "timestamp": 1576049979048,
     "user": {
      "displayName": "コウ",
      "photoUrl": "",
      "userId": "15615658067056912208"
     },
     "user_tz": -540
    },
    "id": "W7d56_rgoHiA",
    "outputId": "46b3b7c4-45b4-4120-dd08-7e325f858e17",
    "scrolled": true
   },
   "outputs": [],
   "source": [
    "trainset[123]"
   ]
  },
  {
   "cell_type": "markdown",
   "metadata": {
    "colab_type": "text",
    "id": "4idd_4WOoHiC"
   },
   "source": [
    "テスト用データセット [456] (457番目)を表示"
   ]
  },
  {
   "cell_type": "code",
   "execution_count": null,
   "metadata": {
    "colab": {
     "base_uri": "https://localhost:8080/",
     "height": 1000
    },
    "colab_type": "code",
    "executionInfo": {
     "elapsed": 928,
     "status": "ok",
     "timestamp": 1576049990010,
     "user": {
      "displayName": "コウ",
      "photoUrl": "",
      "userId": "15615658067056912208"
     },
     "user_tz": -540
    },
    "id": "do1VcvizoHiD",
    "outputId": "3f470b50-e7c4-489d-d44c-b7d5e243344a",
    "scrolled": true
   },
   "outputs": [],
   "source": [
    "testset[456]"
   ]
  },
  {
   "cell_type": "markdown",
   "metadata": {
    "colab_type": "text",
    "id": "gbbzHsaaoHiE"
   },
   "source": [
    "torchvision.datasets.MNIST による得られる各サンプルデータは、以下の構造になっています。\n",
    "\n",
    "<p>(画像データ, ラベル)</p>\n",
    "\n",
    "- 画像データ: （28x28 合計784ピクセルの明るさを -1.00 ~ 1.00 にスケールしたもの)\n",
    "- ラベル: その画像データがどの数字かを、 0~9 の整数値として持つ\n",
    "\n",
    "> 普通、「明るさ」は0～1.0にスケールすることが多いんですが、-1～1にスケールしている意味はよく分かりません。  \n",
    "> 例えば、Chainerライブラリだと0～1でスケールされたデータが取得できます。 "
   ]
  },
  {
   "cell_type": "markdown",
   "metadata": {
    "colab_type": "text",
    "id": "8qokAx12oHiE"
   },
   "source": [
    "訓練用サンプル [123] の目標値（クラスラベル）を確認"
   ]
  },
  {
   "cell_type": "code",
   "execution_count": null,
   "metadata": {
    "colab": {
     "base_uri": "https://localhost:8080/",
     "height": 34
    },
    "colab_type": "code",
    "executionInfo": {
     "elapsed": 826,
     "status": "ok",
     "timestamp": 1576050034463,
     "user": {
      "displayName": "コウ",
      "photoUrl": "",
      "userId": "15615658067056912208"
     },
     "user_tz": -540
    },
    "id": "IlZY_sYLoHiF",
    "outputId": "e8cb35b4-bc1c-4b9d-c792-2bb18e02225e",
    "scrolled": true
   },
   "outputs": [],
   "source": [
    "trainset[123][1]"
   ]
  },
  {
   "cell_type": "markdown",
   "metadata": {
    "colab_type": "text",
    "id": "-hYio-LRoHiG"
   },
   "source": [
    "訓練用サンプル [123] の画像データ (784) を確認"
   ]
  },
  {
   "cell_type": "code",
   "execution_count": null,
   "metadata": {
    "colab": {
     "base_uri": "https://localhost:8080/",
     "height": 1000
    },
    "colab_type": "code",
    "executionInfo": {
     "elapsed": 848,
     "status": "ok",
     "timestamp": 1576050003247,
     "user": {
      "displayName": "コウ",
      "photoUrl": "",
      "userId": "15615658067056912208"
     },
     "user_tz": -540
    },
    "id": "6qg7McDuoHiH",
    "outputId": "25b96d10-d705-48b8-fcdc-e86ba2621e2c"
   },
   "outputs": [],
   "source": [
    "trainset[123][0]"
   ]
  },
  {
   "cell_type": "markdown",
   "metadata": {
    "colab_type": "text",
    "id": "WUUg4nBZoHiI"
   },
   "source": [
    "<hr>\n",
    "\n",
    "## MNISTデータセットの確認（3/5）"
   ]
  },
  {
   "cell_type": "markdown",
   "metadata": {
    "colab_type": "text",
    "id": "p7Usd7m-oHiJ"
   },
   "source": [
    "作業なし"
   ]
  },
  {
   "cell_type": "markdown",
   "metadata": {
    "colab_type": "text",
    "id": "cujrV5yXoHiJ"
   },
   "source": [
    "<hr>\n",
    "\n",
    "## MNISTデータセットの確認（4/5）"
   ]
  },
  {
   "cell_type": "markdown",
   "metadata": {
    "colab_type": "text",
    "id": "cVjV0cRToHiK"
   },
   "source": [
    "作業なし"
   ]
  },
  {
   "cell_type": "markdown",
   "metadata": {
    "colab_type": "text",
    "id": "_QIKpSeqoHiK"
   },
   "source": [
    "<hr>\n",
    "\n",
    "## MNISTデータセットの確認（5/5）"
   ]
  },
  {
   "cell_type": "markdown",
   "metadata": {
    "colab_type": "text",
    "id": "27TU8YEtoHiL"
   },
   "source": [
    "trainsetに含まれている画像データの型と形を見てみましょう。"
   ]
  },
  {
   "cell_type": "code",
   "execution_count": null,
   "metadata": {
    "colab": {
     "base_uri": "https://localhost:8080/",
     "height": 34
    },
    "colab_type": "code",
    "executionInfo": {
     "elapsed": 985,
     "status": "ok",
     "timestamp": 1576052798128,
     "user": {
      "displayName": "コウ",
      "photoUrl": "",
      "userId": "15615658067056912208"
     },
     "user_tz": -540
    },
    "id": "lcD8gJ489sY1",
    "outputId": "d7872bf2-74b7-4894-fd58-ffc3b6cf881c"
   },
   "outputs": [],
   "source": [
    "type(trainset[0][0])"
   ]
  },
  {
   "cell_type": "code",
   "execution_count": null,
   "metadata": {
    "colab": {
     "base_uri": "https://localhost:8080/",
     "height": 34
    },
    "colab_type": "code",
    "executionInfo": {
     "elapsed": 860,
     "status": "ok",
     "timestamp": 1576052798131,
     "user": {
      "displayName": "コウ",
      "photoUrl": "",
      "userId": "15615658067056912208"
     },
     "user_tz": -540
    },
    "id": "Ca9f7llU95-6",
    "outputId": "469a2041-c074-4b02-ce93-bdc799a87658"
   },
   "outputs": [],
   "source": [
    "trainset[0][0].shape"
   ]
  },
  {
   "cell_type": "markdown",
   "metadata": {
    "colab_type": "text",
    "id": "qnOpJjPsoHiL"
   },
   "source": [
    "torch型はCPUデバイスに乗っている場合はNumpyとほぼ互換するので構いません。  \n",
    "ただし、３次元データでは画像として出力することができないので、成形しましょう。\n",
    "\n",
    "0次元目にはCHデータが入っていますが、そのデータが邪魔なので単純に28x28次元に変換します。"
   ]
  },
  {
   "cell_type": "code",
   "execution_count": null,
   "metadata": {
    "colab": {},
    "colab_type": "code",
    "id": "0Ev2gI2K9eeS"
   },
   "outputs": [],
   "source": [
    "data = trainset[0][0].reshape(28,28)"
   ]
  },
  {
   "cell_type": "markdown",
   "metadata": {
    "colab_type": "text",
    "id": "oT_bhrEnBVov"
   },
   "source": [
    "出力処理自体は`matplotlib`を使います。"
   ]
  },
  {
   "cell_type": "code",
   "execution_count": null,
   "metadata": {
    "colab": {},
    "colab_type": "code",
    "id": "SMcU6-qvBUft"
   },
   "outputs": [],
   "source": [
    "import matplotlib.pyplot as plt\n",
    "%matplotlib inline"
   ]
  },
  {
   "cell_type": "code",
   "execution_count": null,
   "metadata": {
    "colab": {
     "base_uri": "https://localhost:8080/",
     "height": 265
    },
    "colab_type": "code",
    "executionInfo": {
     "elapsed": 979,
     "status": "ok",
     "timestamp": 1576052798924,
     "user": {
      "displayName": "コウ",
      "photoUrl": "",
      "userId": "15615658067056912208"
     },
     "user_tz": -540
    },
    "id": "A_31ETpN9f1J",
    "outputId": "88a9fac4-5928-484e-fd62-31354df251db"
   },
   "outputs": [],
   "source": [
    "plt.imshow(data)\n",
    "plt.show()"
   ]
  },
  {
   "cell_type": "markdown",
   "metadata": {
    "colab_type": "text",
    "id": "vYTULvMXoHiS"
   },
   "source": [
    "さらに一手間かけてモノクロ表示化\n"
   ]
  },
  {
   "cell_type": "code",
   "execution_count": null,
   "metadata": {
    "colab": {
     "base_uri": "https://localhost:8080/",
     "height": 282
    },
    "colab_type": "code",
    "executionInfo": {
     "elapsed": 1585,
     "status": "ok",
     "timestamp": 1576052799823,
     "user": {
      "displayName": "コウ",
      "photoUrl": "",
      "userId": "15615658067056912208"
     },
     "user_tz": -540
    },
    "id": "OIA8Hip3oHiT",
    "outputId": "43f8de3f-eef2-40d4-e80c-865cd6e20f0f"
   },
   "outputs": [],
   "source": [
    "plt.imshow(data, cmap='gray', vmin=0, vmax=1)"
   ]
  },
  {
   "cell_type": "markdown",
   "metadata": {
    "colab_type": "text",
    "id": "5k3cQLYjoHiW"
   },
   "source": [
    "クラスラベル目標値の表示"
   ]
  },
  {
   "cell_type": "code",
   "execution_count": null,
   "metadata": {
    "colab": {
     "base_uri": "https://localhost:8080/",
     "height": 34
    },
    "colab_type": "code",
    "executionInfo": {
     "elapsed": 721,
     "status": "ok",
     "timestamp": 1576052801151,
     "user": {
      "displayName": "コウ",
      "photoUrl": "",
      "userId": "15615658067056912208"
     },
     "user_tz": -540
    },
    "id": "ObesBOtToHiX",
    "outputId": "7dfe8fb7-a2b7-4065-f45f-bfc972bfb555"
   },
   "outputs": [],
   "source": [
    "trainset[0][1]"
   ]
  },
  {
   "cell_type": "markdown",
   "metadata": {
    "colab_type": "text",
    "id": "hwO6mmQjoHiZ"
   },
   "source": [
    "<div style=\"border: 1px solid; padding: 10px\">\n",
    "目標値（クラスラベル）と画像の内容が一致していることを確認してください。\n",
    "</div>"
   ]
  }
 ],
 "metadata": {
  "accelerator": "GPU",
  "colab": {
   "collapsed_sections": [],
   "name": "20_MNIST_Dataset.ipynb",
   "provenance": [],
   "toc_visible": true
  },
  "kernelspec": {
   "display_name": "Python 3",
   "language": "python",
   "name": "python3"
  },
  "language_info": {
   "codemirror_mode": {
    "name": "ipython",
    "version": 3
   },
   "file_extension": ".py",
   "mimetype": "text/x-python",
   "name": "python",
   "nbconvert_exporter": "python",
   "pygments_lexer": "ipython3",
   "version": "3.7.4"
  }
 },
 "nbformat": 4,
 "nbformat_minor": 1
}
