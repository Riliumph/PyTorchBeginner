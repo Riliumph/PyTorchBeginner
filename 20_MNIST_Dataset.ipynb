{
 "cells": [
  {
   "cell_type": "markdown",
   "metadata": {
    "colab_type": "text",
    "id": "m16HezcDoHhv"
   },
   "source": [
    "# PyTorch 初心者ハンズオン\n",
    "\n",
    "## MNISTデータセットへのアクセス\n",
    "\n",
    "ここでは、MNISTと呼ばれる、よく知られる手書き文字データ・セットによって、NNの流れを体感していただきましょう。"
   ]
  },
  {
   "cell_type": "markdown",
   "metadata": {
    "colab_type": "text",
    "id": "qjfm8zqGoHhy"
   },
   "source": [
    "## ページ内目次\n",
    "\n",
    "<ul>\n",
    "<li><a href=\"#MNISTデータセットを読み込む\">MNISTデータセットを読み込む</a></li>\n",
    "<li><a href=\"#MNISTデータセットの確認（1/5）\">MNISTデータセットの確認（1/5）</a></li>\n",
    "<li><a href=\"#MNISTデータセットの確認（2/5）\">MNISTデータセットの確認（2/5）</a></li>\n",
    "<li><a href=\"#MNISTデータセットの確認（3/5）\">MNISTデータセットの確認（3/5）</a></li>\n",
    "<li><a href=\"#MNISTデータセットの確認（4/5）\">MNISTデータセットの確認（4/5）</a></li>\n",
    "<li><a href=\"#MNISTデータセットの確認（5/5）\">MNISTデータセットの確認（5/5）</a></li>\n",
    "</ul>"
   ]
  },
  {
   "cell_type": "markdown",
   "metadata": {
    "colab_type": "text",
    "id": "YIjAyGAloHhy"
   },
   "source": [
    "<hr>\n",
    "\n",
    "<div style=\"border: 1px solid; padding: 10px\">\n",
    "\n",
    "<p>MNIST（正式名称 THE MNIST DATABASE of handwritten digits) は、以下のURLで公開されている手書き持ちのデータ・セットです。</p>\n",
    "\n",
    "<p><a href=\"http://yann.lecun.com/exdb/mnist/\">http://yann.lecun.com/exdb/mnist/</a></p>\n",
    "    \n",
    "<p>このデータセットには、下記のものが含まれます。</p>\n",
    "\n",
    "<ul>\n",
    "<li>学習用の手書き文字 60,000 サンプル</li>\n",
    "<li>評価用の手書き文字 10,000 サンプル</li>\n",
    "</ul>\n",
    "\n",
    "<p>各手書き文字サンプルは、 タテ28ドット、ヨコ28ドット、合計784ドットで構成されています。また各手書き文字画像がどの文字であるかを示す「ラベル」が付けられています。ラベルは、学習時の教師信号として利用できるほか、評価時には得られた結果が目的値であるかを確認するために利用できます。</p>\n",
    "\n",
    "<p>まずは、MNISTデータセットをロードして、内容を確認してみましょう。</p>\n",
    "</div>\n",
    "\n",
    "<hr>"
   ]
  },
  {
   "cell_type": "markdown",
   "metadata": {
    "colab_type": "text",
    "id": "jqDLjkjWoHhz"
   },
   "source": [
    "<hr>\n",
    "\n",
    "# MNISTデータセットを読み込む"
   ]
  },
  {
   "cell_type": "markdown",
   "metadata": {
    "colab_type": "text",
    "id": "_Z15SY5KoHh0"
   },
   "source": [
    "使用するモジュールをインポート"
   ]
  },
  {
   "cell_type": "code",
   "execution_count": null,
   "metadata": {
    "colab": {},
    "colab_type": "code",
    "id": "Cv4PT_PnoHh0"
   },
   "outputs": [],
   "source": [
    "import torch\n",
    "import torchvision as tv"
   ]
  },
  {
   "cell_type": "markdown",
   "metadata": {
    "colab_type": "text",
    "id": "g0jB7InJvpPE"
   },
   "source": [
    "MNISTに対して行うpreprocessを定義しておきます。"
   ]
  },
  {
   "cell_type": "code",
   "execution_count": null,
   "metadata": {
    "colab": {},
    "colab_type": "code",
    "id": "TfRyjNk-vn-z"
   },
   "outputs": [],
   "source": [
    " preprocess = tv.transforms.Compose([tv.transforms.ToTensor()])"
   ]
  },
  {
   "cell_type": "markdown",
   "metadata": {
    "colab_type": "text",
    "id": "qCoaw0LhoHh2"
   },
   "source": [
    "MNISTデータセット（訓練用、評価用）をそれぞれダウンロード。  \n",
    "パスは`/content/data`にしておきます。"
   ]
  },
  {
   "cell_type": "code",
   "execution_count": null,
   "metadata": {
    "colab": {},
    "colab_type": "code",
    "id": "ER64QpxIoHh3"
   },
   "outputs": [],
   "source": [
    "trainset = tv.datasets.MNIST(root='./data', \n",
    "                                           train=True,\n",
    "                                           download=True,\n",
    "                                           transform=preprocess)"
   ]
  },
  {
   "cell_type": "code",
   "execution_count": null,
   "metadata": {
    "colab": {},
    "colab_type": "code",
    "id": "ReZK33vTrtm4"
   },
   "outputs": [],
   "source": [
    "testset = tv.datasets.MNIST(root='./data', \n",
    "                                         train=False, \n",
    "                                         download=True, \n",
    "                                         transform=preprocess)"
   ]
  },
  {
   "cell_type": "markdown",
   "metadata": {
    "colab_type": "text",
    "id": "iQrKRe7ioHh4"
   },
   "source": [
    "<div style=\"border: 1px solid; padding: 10px\">\n",
    "※ MNISTデータがローカルにキャッシュされていない場合はダウンロードに時間がかかります\n",
    "</div>"
   ]
  },
  {
   "cell_type": "markdown",
   "metadata": {
    "colab_type": "text",
    "id": "gk1u-SQDoHh5"
   },
   "source": [
    "<hr>\n",
    "\n",
    "## MNISTデータセットの確認（1/5）"
   ]
  },
  {
   "cell_type": "markdown",
   "metadata": {
    "colab_type": "text",
    "id": "jAYR6BmmqKH1"
   },
   "source": [
    "trainsetオブジェクトの型を確認する。"
   ]
  },
  {
   "cell_type": "code",
   "execution_count": null,
   "metadata": {
    "colab": {
     "base_uri": "https://localhost:8080/",
     "height": 32
    },
    "colab_type": "code",
    "executionInfo": {
     "elapsed": 814,
     "status": "ok",
     "timestamp": 1576729845724,
     "user": {
      "displayName": "コウ",
      "photoUrl": "",
      "userId": "15615658067056912208"
     },
     "user_tz": -540
    },
    "id": "k1PizQjxqM4K",
    "outputId": "749b3caf-0a66-4a3a-fe2d-2944c6bdd2c8"
   },
   "outputs": [],
   "source": [
    "type(trainset)"
   ]
  },
  {
   "cell_type": "markdown",
   "metadata": {
    "colab_type": "text",
    "id": "l14W4qZ-oHh7"
   },
   "source": [
    "MNISTオブジェクトは特殊メソッド`__len__`を持っているので、組み込み関数`len`で要素数を取得できます。"
   ]
  },
  {
   "cell_type": "code",
   "execution_count": null,
   "metadata": {
    "colab": {
     "base_uri": "https://localhost:8080/",
     "height": 32
    },
    "colab_type": "code",
    "executionInfo": {
     "elapsed": 800,
     "status": "ok",
     "timestamp": 1576729845725,
     "user": {
      "displayName": "コウ",
      "photoUrl": "",
      "userId": "15615658067056912208"
     },
     "user_tz": -540
    },
    "id": "9zSHcRxsoHh7",
    "outputId": "5e03b249-965f-43e3-8a69-665b585d9dc6"
   },
   "outputs": [],
   "source": [
    "len(trainset)"
   ]
  },
  {
   "cell_type": "markdown",
   "metadata": {
    "colab_type": "text",
    "id": "KBhtoKl1oHh9"
   },
   "source": [
    "### 演習　: testset インスタンスの要素数を確認\n",
    "\n",
    "テスト用データセット testset の長さが 10,000 であることを確認してください\n",
    "\n"
   ]
  },
  {
   "cell_type": "code",
   "execution_count": null,
   "metadata": {
    "colab": {},
    "colab_type": "code",
    "id": "5kEpjC0woHh-"
   },
   "outputs": [],
   "source": []
  },
  {
   "cell_type": "markdown",
   "metadata": {
    "colab_type": "text",
    "collapsed": true,
    "id": "M0fts18QoHh_"
   },
   "source": [
    "<hr>\n",
    "\n",
    "## MNISTデータセットの確認（2/5）"
   ]
  },
  {
   "cell_type": "code",
   "execution_count": null,
   "metadata": {
    "colab": {},
    "colab_type": "code",
    "id": "nbG_zs22kVkP"
   },
   "outputs": [],
   "source": [
    "trainset[123]"
   ]
  },
  {
   "cell_type": "code",
   "execution_count": null,
   "metadata": {
    "colab": {},
    "colab_type": "code",
    "id": "FGEVWySjkhWl"
   },
   "outputs": [],
   "source": [
    "testset[456]"
   ]
  },
  {
   "cell_type": "markdown",
   "metadata": {
    "colab_type": "text",
    "id": "3fVog5DmkY1l"
   },
   "source": [
    "<hr>\n",
    "\n",
    "## MNISTデータセットの確認（3/5）"
   ]
  },
  {
   "cell_type": "markdown",
   "metadata": {
    "colab_type": "text",
    "id": "gbbzHsaaoHiE"
   },
   "source": [
    "torchvision.datasets.MNIST による得られる各サンプルデータは、以下の構造になっています。\n",
    "\n",
    "<p>(画像データ, ラベル)</p>\n",
    "\n",
    "- 画像データ: （28x28 合計784ピクセルの明るさを 0.0 ~ 1.0 にスケールしたもの)\n",
    "- ラベル: その画像データがどの数字かを、 0~9 の整数値として持つ\n"
   ]
  },
  {
   "cell_type": "markdown",
   "metadata": {
    "colab_type": "text",
    "id": "8qokAx12oHiE"
   },
   "source": [
    "訓練用サンプル [54] の目標値（クラスラベル）を確認"
   ]
  },
  {
   "cell_type": "code",
   "execution_count": null,
   "metadata": {
    "colab": {
     "base_uri": "https://localhost:8080/",
     "height": 32
    },
    "colab_type": "code",
    "executionInfo": {
     "elapsed": 592,
     "status": "ok",
     "timestamp": 1576731444818,
     "user": {
      "displayName": "コウ",
      "photoUrl": "",
      "userId": "15615658067056912208"
     },
     "user_tz": -540
    },
    "id": "IlZY_sYLoHiF",
    "outputId": "8a8e1ae8-c4f4-4e12-bc95-f7c7f52be110",
    "scrolled": true
   },
   "outputs": [],
   "source": [
    "trainset[54][1]"
   ]
  },
  {
   "cell_type": "markdown",
   "metadata": {
    "colab_type": "text",
    "id": "-hYio-LRoHiG"
   },
   "source": [
    "訓練用サンプル [54] の画像データ (784次元) を確認"
   ]
  },
  {
   "cell_type": "code",
   "execution_count": null,
   "metadata": {
    "colab": {},
    "colab_type": "code",
    "id": "6qg7McDuoHiH"
   },
   "outputs": [],
   "source": [
    "trainset[54][0]"
   ]
  },
  {
   "cell_type": "markdown",
   "metadata": {
    "colab_type": "text",
    "id": "cujrV5yXoHiJ"
   },
   "source": [
    "<hr>\n",
    "\n",
    "## MNISTデータセットの確認（4/5）"
   ]
  },
  {
   "cell_type": "markdown",
   "metadata": {
    "colab_type": "text",
    "id": "cVjV0cRToHiK"
   },
   "source": [
    "作業なし"
   ]
  },
  {
   "cell_type": "markdown",
   "metadata": {
    "colab_type": "text",
    "id": "_QIKpSeqoHiK"
   },
   "source": [
    "<hr>\n",
    "\n",
    "## MNISTデータセットの確認（5/5）"
   ]
  },
  {
   "cell_type": "markdown",
   "metadata": {
    "colab_type": "text",
    "id": "27TU8YEtoHiL"
   },
   "source": [
    "trainsetに含まれている画像データの型と形を見てみましょう。"
   ]
  },
  {
   "cell_type": "code",
   "execution_count": null,
   "metadata": {
    "colab": {
     "base_uri": "https://localhost:8080/",
     "height": 32
    },
    "colab_type": "code",
    "executionInfo": {
     "elapsed": 1041,
     "status": "ok",
     "timestamp": 1576729846007,
     "user": {
      "displayName": "コウ",
      "photoUrl": "",
      "userId": "15615658067056912208"
     },
     "user_tz": -540
    },
    "id": "lcD8gJ489sY1",
    "outputId": "8507727e-78d3-41d8-9ec1-800c2c0ee6de"
   },
   "outputs": [],
   "source": [
    "type(trainset[54][0])"
   ]
  },
  {
   "cell_type": "code",
   "execution_count": null,
   "metadata": {
    "colab": {
     "base_uri": "https://localhost:8080/",
     "height": 32
    },
    "colab_type": "code",
    "executionInfo": {
     "elapsed": 1035,
     "status": "ok",
     "timestamp": 1576729846007,
     "user": {
      "displayName": "コウ",
      "photoUrl": "",
      "userId": "15615658067056912208"
     },
     "user_tz": -540
    },
    "id": "Ca9f7llU95-6",
    "outputId": "1416fbd3-eb39-4eca-d49c-0046ab277d12"
   },
   "outputs": [],
   "source": [
    "trainset[54][0].shape"
   ]
  },
  {
   "cell_type": "markdown",
   "metadata": {
    "colab_type": "text",
    "id": "qnOpJjPsoHiL"
   },
   "source": [
    "torch型はCPUデバイスに乗っている場合はNumpyとほぼ互換するので構いません。  \n",
    "ただし、３次元データでは画像として出力することができないので、成形しましょう。\n",
    "\n",
    "0次元目にはCHデータが入っていますが、そのデータが邪魔なので単純に28x28次元に変換します。"
   ]
  },
  {
   "cell_type": "code",
   "execution_count": null,
   "metadata": {
    "colab": {},
    "colab_type": "code",
    "id": "0Ev2gI2K9eeS"
   },
   "outputs": [],
   "source": [
    "data = trainset[54][0].reshape(28,28)"
   ]
  },
  {
   "cell_type": "markdown",
   "metadata": {
    "colab_type": "text",
    "id": "oT_bhrEnBVov"
   },
   "source": [
    "出力処理自体は`matplotlib`を使います。"
   ]
  },
  {
   "cell_type": "code",
   "execution_count": null,
   "metadata": {
    "colab": {},
    "colab_type": "code",
    "id": "SMcU6-qvBUft"
   },
   "outputs": [],
   "source": [
    "import matplotlib.pyplot as plt\n",
    "%matplotlib inline"
   ]
  },
  {
   "cell_type": "code",
   "execution_count": null,
   "metadata": {
    "colab": {
     "base_uri": "https://localhost:8080/",
     "height": 281
    },
    "colab_type": "code",
    "executionInfo": {
     "elapsed": 625,
     "status": "ok",
     "timestamp": 1576735005166,
     "user": {
      "displayName": "コウ",
      "photoUrl": "",
      "userId": "15615658067056912208"
     },
     "user_tz": -540
    },
    "id": "A_31ETpN9f1J",
    "outputId": "10947670-9f06-4b98-ae82-0dd43adfde10"
   },
   "outputs": [],
   "source": [
    "plt.imshow(data)"
   ]
  },
  {
   "cell_type": "markdown",
   "metadata": {
    "colab_type": "text",
    "id": "vYTULvMXoHiS"
   },
   "source": [
    "さらに一手間かけてモノクロ表示化\n"
   ]
  },
  {
   "cell_type": "code",
   "execution_count": null,
   "metadata": {
    "colab": {
     "base_uri": "https://localhost:8080/",
     "height": 281
    },
    "colab_type": "code",
    "executionInfo": {
     "elapsed": 1251,
     "status": "ok",
     "timestamp": 1576729846246,
     "user": {
      "displayName": "コウ",
      "photoUrl": "",
      "userId": "15615658067056912208"
     },
     "user_tz": -540
    },
    "id": "OIA8Hip3oHiT",
    "outputId": "88c5ab7a-0d4f-415a-cdd5-24c6047b7e9d"
   },
   "outputs": [],
   "source": [
    "plt.imshow(data, cmap='gray', vmin=0, vmax=1)"
   ]
  },
  {
   "cell_type": "markdown",
   "metadata": {
    "colab_type": "text",
    "id": "5k3cQLYjoHiW"
   },
   "source": [
    "クラスラベル目標値の表示"
   ]
  },
  {
   "cell_type": "code",
   "execution_count": null,
   "metadata": {
    "colab": {
     "base_uri": "https://localhost:8080/",
     "height": 32
    },
    "colab_type": "code",
    "executionInfo": {
     "elapsed": 1247,
     "status": "ok",
     "timestamp": 1576729846247,
     "user": {
      "displayName": "コウ",
      "photoUrl": "",
      "userId": "15615658067056912208"
     },
     "user_tz": -540
    },
    "id": "ObesBOtToHiX",
    "outputId": "65426381-b522-42e9-83a8-af3a406b5b9a"
   },
   "outputs": [],
   "source": [
    "trainset[0][1]"
   ]
  },
  {
   "cell_type": "markdown",
   "metadata": {
    "colab_type": "text",
    "id": "hwO6mmQjoHiZ"
   },
   "source": [
    "<div style=\"border: 1px solid; padding: 10px\">\n",
    "目標値（クラスラベル）と画像の内容が一致していることを確認してください。\n",
    "</div>"
   ]
  }
 ],
 "metadata": {
  "accelerator": "GPU",
  "colab": {
   "collapsed_sections": [],
   "name": "20_MNIST_Dataset.ipynb",
   "provenance": [],
   "toc_visible": true
  },
  "kernelspec": {
   "display_name": "Python 3",
   "language": "python",
   "name": "python3"
  },
  "language_info": {
   "codemirror_mode": {
    "name": "ipython",
    "version": 3
   },
   "file_extension": ".py",
   "mimetype": "text/x-python",
   "name": "python",
   "nbconvert_exporter": "python",
   "pygments_lexer": "ipython3",
   "version": "3.7.4"
  }
 },
 "nbformat": 4,
 "nbformat_minor": 1
}
