{
 "cells": [
  {
   "cell_type": "markdown",
   "metadata": {
    "colab_type": "text",
    "id": "w3lL2me1e7Pg"
   },
   "source": [
    "# PyTorch 初心者ハンズオン\n",
    "\n",
    "## はじめての画像分類\n",
    "---"
   ]
  },
  {
   "cell_type": "markdown",
   "metadata": {
    "colab_type": "text",
    "id": "_HBKj56re7Pj"
   },
   "source": [
    "## ページ内目次\n",
    "\n",
    "<ul>\n",
    "<li><a href=\"#画像ファイルの読み込み\">画像ファイルの読み込み</a></li>\n",
    "<li><a href=\"#PyTorchのインポート、VGG16モデルのロード\">PyTorchのインポート、VGG16モデルのロード</a></li>\n",
    "<li><a href=\"#モデルを使って画像のクラスを予測する\">モデルを使って画像のクラスを予測する</a></li>\n",
    "<li><a href=\"#Variableクラス中の数値データへのアクセス\">Variableクラス中の数値データへのアクセス</a></li>\n",
    "<li><a href=\"#複数画像をバッチ処理する\">複数画像をバッチ処理する</a></li>\n",
    "<li><a href=\"#modelが返した確率をグラフ表示する\">modelが返した確率をグラフ表示する</a></li>\n",
    "<li><a href=\"#ラベルリストの利用\">ラベルリストの利用</a></li>\n",
    "<li><a href=\"#Top-N-クラスの調査\">Top-N-クラスの調査</a></li>\n",
    "<li><a href=\"#Top-N-クラスの調査（クラスラベルとあわせて）\">Top-Nクラスの調査（クラスラベルとあわせて）</a></li>\n",
    "<li><a href=\"#matplotlib-による円グラフの表示\">matplotlibによる円グラフの表示</a></li>\n",
    "<li><a href=\"#さらなる演習\">さらなる演習</a></li>\n",
    "</ul>"
   ]
  },
  {
   "cell_type": "markdown",
   "metadata": {
    "colab_type": "text",
    "id": "YWepssIye7Pk"
   },
   "source": [
    "<hr>\n",
    "\n",
    "PyTorch 初心者ハンズオンにようこそ！\n",
    "\n",
    "本ハンズオンでは、ディープラーニングやPyTorch フレームワークを利用したことがない方を対象として、ディープラーニングによる画像分類の方法をご紹介します。\n",
    "\n",
    "<hr>"
   ]
  },
  {
   "cell_type": "markdown",
   "metadata": {
    "colab_type": "text",
    "id": "M9DSTRJ2e7Pl"
   },
   "source": [
    "画像に何が映っているか、深層学習によって推測させてみましょう。PyTorchを使った場合、有名なネットワーク構造がいくつか、すぐに試せる状態になっています。ここでは、2015年に発表された VGG16 を使ってみましょう。"
   ]
  },
  {
   "cell_type": "markdown",
   "metadata": {
    "colab_type": "text",
    "id": "xYeWYPfve7Pm"
   },
   "source": [
    "<div style=\"border: 1px solid; padding: 10px\">\n",
    "VGG16ネットワークは、224x224の画像を1000クラスに分類するためのネットワークです。\n",
    "<p>\n",
    "Very Deep Convolutional Networks for Large-Scale Image Recognition<br>https://arxiv.org/abs/1409.1556\n",
    "\n",
    "<p>PyTorch では torchvision.models.vgg16 クラスが定義されています。 PyTorch 自体に学習済みデータ組み込まれていませんが、公開されている学習済みモデルを読み込んで利用できるため、学習に時間をかけなくても試せます。\n",
    "\n",
    "https://github.com/pytorch/vision/blob/master/torchvision/models/vgg.py\n",
    "\n",
    "</div>"
   ]
  },
  {
   "cell_type": "markdown",
   "metadata": {
    "colab_type": "text",
    "id": "XFAvWzCve7Po"
   },
   "source": [
    "<hr>"
   ]
  },
  {
   "cell_type": "markdown",
   "metadata": {
    "colab_type": "text",
    "id": "JWgRME4Re7Po"
   },
   "source": [
    "### 画像ファイルの読み込み"
   ]
  },
  {
   "cell_type": "code",
   "execution_count": null,
   "metadata": {
    "colab": {
     "base_uri": "https://localhost:8080/",
     "height": 122
    },
    "colab_type": "code",
    "executionInfo": {
     "elapsed": 34817,
     "status": "ok",
     "timestamp": 1576054778030,
     "user": {
      "displayName": "コウ",
      "photoUrl": "",
      "userId": "15615658067056912208"
     },
     "user_tz": -540
    },
    "id": "3GfhA8rToBu0",
    "outputId": "da2d35f5-5ca5-40a7-d235-709efb8972c5"
   },
   "outputs": [],
   "source": [
    "from google.colab import drive\n",
    "drive_path = '/content/drive/'\n",
    "drive.mount(drive_path)\n",
    "pj_path = drive_path + 'My Drive/ColabNotebooks/PyTorchBeginner/'"
   ]
  },
  {
   "cell_type": "code",
   "execution_count": null,
   "metadata": {
    "colab": {},
    "colab_type": "code",
    "id": "Hj_r_6uXIQlw"
   },
   "outputs": [],
   "source": [
    "import numpy as np"
   ]
  },
  {
   "cell_type": "code",
   "execution_count": null,
   "metadata": {
    "colab": {},
    "colab_type": "code",
    "id": "GwgF2iAce7Pp"
   },
   "outputs": [],
   "source": [
    "from PIL import Image\n",
    "\n",
    "img = Image.open(pj_path + \"_images/cat.jpg\")"
   ]
  },
  {
   "cell_type": "code",
   "execution_count": null,
   "metadata": {
    "colab": {
     "base_uri": "https://localhost:8080/",
     "height": 442
    },
    "colab_type": "code",
    "executionInfo": {
     "elapsed": 37423,
     "status": "ok",
     "timestamp": 1576054780645,
     "user": {
      "displayName": "コウ",
      "photoUrl": "",
      "userId": "15615658067056912208"
     },
     "user_tz": -540
    },
    "id": "TX8okSzDe7Pr",
    "outputId": "f20958ff-63da-40e6-92ea-525685fd0ac9"
   },
   "outputs": [],
   "source": [
    "img"
   ]
  },
  {
   "cell_type": "markdown",
   "metadata": {
    "colab_type": "text",
    "id": "9-yLOUfXe7Pt"
   },
   "source": [
    "上記ブロックを実行し、猫が表示されましたか？"
   ]
  },
  {
   "cell_type": "markdown",
   "metadata": {
    "colab_type": "text",
    "id": "3ZYSxEg7Wv8H"
   },
   "source": [
    "一応、サイズを確認しておきましょう。"
   ]
  },
  {
   "cell_type": "code",
   "execution_count": null,
   "metadata": {
    "colab": {
     "base_uri": "https://localhost:8080/",
     "height": 34
    },
    "colab_type": "code",
    "executionInfo": {
     "elapsed": 37422,
     "status": "ok",
     "timestamp": 1576054780646,
     "user": {
      "displayName": "コウ",
      "photoUrl": "",
      "userId": "15615658067056912208"
     },
     "user_tz": -540
    },
    "id": "vvdPZgpxWzBV",
    "outputId": "ab545819-1506-45cb-8a26-928541e408ba"
   },
   "outputs": [],
   "source": [
    "img.size"
   ]
  },
  {
   "cell_type": "markdown",
   "metadata": {
    "colab_type": "text",
    "id": "0GAgeKgNLogK"
   },
   "source": [
    "---"
   ]
  },
  {
   "cell_type": "markdown",
   "metadata": {
    "colab_type": "text",
    "id": "5IU24ZqXe7Pu"
   },
   "source": [
    "### PyTorchのインポート、VGG16モデルのロード\n",
    "\n",
    "PyTorchにはDataLoaderというモジュールが存在する。\n",
    "\n",
    "- torchvision\n",
    "- torchtext\n",
    "- torchaudio"
   ]
  },
  {
   "cell_type": "markdown",
   "metadata": {
    "colab_type": "text",
    "id": "Xfv2kplge7Pu"
   },
   "source": [
    "PyTorchのインポート、訓練済みモデルのロード"
   ]
  },
  {
   "cell_type": "code",
   "execution_count": null,
   "metadata": {
    "colab": {},
    "colab_type": "code",
    "id": "pspR7maeg2tY"
   },
   "outputs": [],
   "source": [
    "import torch"
   ]
  },
  {
   "cell_type": "code",
   "execution_count": null,
   "metadata": {
    "colab": {},
    "colab_type": "code",
    "id": "K2zXY6lde7Pv"
   },
   "outputs": [],
   "source": [
    "from torchvision import datasets, models, transforms"
   ]
  },
  {
   "cell_type": "code",
   "execution_count": null,
   "metadata": {
    "colab": {
     "base_uri": "https://localhost:8080/",
     "height": 51
    },
    "colab_type": "code",
    "executionInfo": {
     "elapsed": 50233,
     "status": "ok",
     "timestamp": 1576054793462,
     "user": {
      "displayName": "コウ",
      "photoUrl": "",
      "userId": "15615658067056912208"
     },
     "user_tz": -540
    },
    "id": "7stZpJkWg7TF",
    "outputId": "91d90320-911c-4749-c1ee-5da82f82b376"
   },
   "outputs": [],
   "source": [
    "model = models.vgg16_bn(pretrained=True)"
   ]
  },
  {
   "cell_type": "markdown",
   "metadata": {
    "colab_type": "text",
    "id": "kJdf7sine7Pw"
   },
   "source": [
    "ここで、 model には、 VGG16 と呼ばれる有名な画像分類ネットワークがロードされます。\n",
    "\n",
    "<div style=\"border: 1px solid; padding: 10px\">\n",
    "<tt>In[*]</tt> という表示がしばらく続くかもしれません。VGG16のデータファイルがない場合、インターネットからデータ(約500MB)をダウンロードし変換する必要があるため、辛抱強く待ってみてください。</div>"
   ]
  },
  {
   "cell_type": "markdown",
   "metadata": {
    "colab_type": "text",
    "id": "VCjMpoprKQpH"
   },
   "source": [
    "機械学習において、初期値はランダムな値が用いられる。しかし、それでは結果が変わってしまって初心者の学習を阻害してしまうため、乱数を固定する必要がある。  \n",
    "PyTorchのモデルはeval()で評価モードに切り替えることができる。"
   ]
  },
  {
   "cell_type": "code",
   "execution_count": null,
   "metadata": {
    "colab": {
     "base_uri": "https://localhost:8080/",
     "height": 1000
    },
    "colab_type": "code",
    "executionInfo": {
     "elapsed": 50232,
     "status": "ok",
     "timestamp": 1576054793463,
     "user": {
      "displayName": "コウ",
      "photoUrl": "",
      "userId": "15615658067056912208"
     },
     "user_tz": -540
    },
    "id": "BLRw331dKPWZ",
    "outputId": "5dc98a1e-ada4-4138-b4cb-0b064518d3ea"
   },
   "outputs": [],
   "source": [
    "model.eval()"
   ]
  },
  {
   "cell_type": "markdown",
   "metadata": {
    "colab_type": "text",
    "id": "JaFBeQVce7Px"
   },
   "source": [
    "モデルの確認"
   ]
  },
  {
   "cell_type": "code",
   "execution_count": null,
   "metadata": {
    "colab": {
     "base_uri": "https://localhost:8080/",
     "height": 34
    },
    "colab_type": "code",
    "executionInfo": {
     "elapsed": 50230,
     "status": "ok",
     "timestamp": 1576054793463,
     "user": {
      "displayName": "コウ",
      "photoUrl": "",
      "userId": "15615658067056912208"
     },
     "user_tz": -540
    },
    "id": "uTQAsc2ce7Py",
    "outputId": "8064713d-c8f2-4d78-aa37-2c9a9ff9a26c"
   },
   "outputs": [],
   "source": [
    "type(model)"
   ]
  },
  {
   "cell_type": "markdown",
   "metadata": {
    "colab_type": "text",
    "id": "hXIcmTDNe7Pz"
   },
   "source": [
    "model オブジェクトが torchvision.models.vgg.VGG クラスであることを確認してみてください。\n"
   ]
  },
  {
   "cell_type": "code",
   "execution_count": null,
   "metadata": {
    "colab": {
     "base_uri": "https://localhost:8080/",
     "height": 34
    },
    "colab_type": "code",
    "executionInfo": {
     "elapsed": 50229,
     "status": "ok",
     "timestamp": 1576054793464,
     "user": {
      "displayName": "コウ",
      "photoUrl": "",
      "userId": "15615658067056912208"
     },
     "user_tz": -540
    },
    "id": "pndPkZot9rB_",
    "outputId": "37d93028-e6a8-45c4-d141-4e10b71a6efc"
   },
   "outputs": [],
   "source": [
    "device = torch.device(\"cuda:0\" if torch.cuda.is_available() else \"cpu\")\n",
    "device"
   ]
  },
  {
   "cell_type": "code",
   "execution_count": null,
   "metadata": {
    "colab": {},
    "colab_type": "code",
    "id": "YnPuvWWe-2FH"
   },
   "outputs": [],
   "source": [
    "model = model.to(device)"
   ]
  },
  {
   "cell_type": "markdown",
   "metadata": {
    "colab_type": "text",
    "id": "lUGgAc9cLogX"
   },
   "source": [
    "---"
   ]
  },
  {
   "cell_type": "markdown",
   "metadata": {
    "colab_type": "text",
    "id": "c5MK02PNe7P0"
   },
   "source": [
    "### 前処理を行う\n"
   ]
  },
  {
   "cell_type": "markdown",
   "metadata": {
    "colab_type": "text",
    "id": "fKj2HsLyWNnW"
   },
   "source": [
    "PyTorchでは、画像をテンソル型にする必要がある。  \n",
    "前処理をまとめて定義しておく。"
   ]
  },
  {
   "cell_type": "code",
   "execution_count": null,
   "metadata": {
    "colab": {},
    "colab_type": "code",
    "id": "Z7fsYlSHWY32"
   },
   "outputs": [],
   "source": [
    "preprocess = transforms.Compose([\n",
    "                                  transforms.Resize(256),\n",
    "                                  transforms.CenterCrop(224),\n",
    "                                  transforms.ToTensor(),\n",
    "                                  transforms.Normalize(mean=[0.485, 0.456, 0.406],std=[0.229, 0.224, 0.225])\n",
    "])"
   ]
  },
  {
   "cell_type": "markdown",
   "metadata": {
    "colab_type": "text",
    "id": "DOyeeEahXiyq"
   },
   "source": [
    "前処理を実行して、画像からテンソルを取得してみる。"
   ]
  },
  {
   "cell_type": "code",
   "execution_count": null,
   "metadata": {
    "colab": {
     "base_uri": "https://localhost:8080/",
     "height": 34
    },
    "colab_type": "code",
    "executionInfo": {
     "elapsed": 57011,
     "status": "ok",
     "timestamp": 1576054800251,
     "user": {
      "displayName": "コウ",
      "photoUrl": "",
      "userId": "15615658067056912208"
     },
     "user_tz": -540
    },
    "id": "mXCKEz7aXmva",
    "outputId": "96daaab9-9037-4871-d094-edaf6503b2bc"
   },
   "outputs": [],
   "source": [
    "img_tensor = preprocess(img).to(device)\n",
    "img_tensor.shape"
   ]
  },
  {
   "cell_type": "code",
   "execution_count": null,
   "metadata": {
    "colab": {
     "base_uri": "https://localhost:8080/",
     "height": 34
    },
    "colab_type": "code",
    "executionInfo": {
     "elapsed": 57009,
     "status": "ok",
     "timestamp": 1576054800251,
     "user": {
      "displayName": "コウ",
      "photoUrl": "",
      "userId": "15615658067056912208"
     },
     "user_tz": -540
    },
    "id": "d40ripe5-Xi3",
    "outputId": "46d2aeb5-9a29-4eaa-ec98-aebd1908a6a3"
   },
   "outputs": [],
   "source": [
    "type(img_tensor)"
   ]
  },
  {
   "cell_type": "markdown",
   "metadata": {
    "colab_type": "text",
    "id": "h56zZIAxX1ki"
   },
   "source": [
    "tensorの順番は少し直観的ではないかもしれない。  \n",
    "CH, Height, Widthの順番に格納されているので、さっき確認した画像サイズと照らし合わせてみよう。\n"
   ]
  },
  {
   "cell_type": "markdown",
   "metadata": {
    "colab_type": "text",
    "id": "59QaYdekYadc"
   },
   "source": [
    "画像をモデルに入力するときは、3次元テンソルではなく、４次元テンソルである必要がある。  \n",
    "何の要素が必要かというと、入力する画像の枚数データである。  \n",
    "これを**バッチサイズ**と呼ぶため、必ず覚えておいてほしい。\n",
    "\n",
    "今回は１枚だけを入力するので、0次元目に１を新規要素として追加する。\n"
   ]
  },
  {
   "cell_type": "code",
   "execution_count": null,
   "metadata": {
    "colab": {
     "base_uri": "https://localhost:8080/",
     "height": 34
    },
    "colab_type": "code",
    "executionInfo": {
     "elapsed": 57009,
     "status": "ok",
     "timestamp": 1576054800252,
     "user": {
      "displayName": "コウ",
      "photoUrl": "",
      "userId": "15615658067056912208"
     },
     "user_tz": -540
    },
    "id": "1xRXaI0jeDe0",
    "outputId": "4094dc4e-7235-4c22-e6de-8893f3d9e545"
   },
   "outputs": [],
   "source": [
    "img_tensor.unsqueeze_(0)\n",
    "img_tensor.size()"
   ]
  },
  {
   "cell_type": "markdown",
   "metadata": {
    "colab_type": "text",
    "id": "cMVnX3HxLogh"
   },
   "source": [
    "---"
   ]
  },
  {
   "cell_type": "markdown",
   "metadata": {
    "colab_type": "text",
    "id": "2wFCnHoqYKQW"
   },
   "source": [
    "### モデルを使って画像のクラスを予測する\n",
    "\n",
    "テンソルをニューラルネットワークに入力し、出力 p を得る"
   ]
  },
  {
   "cell_type": "markdown",
   "metadata": {
    "colab_type": "text",
    "id": "1WWuJZ5De7P0"
   },
   "source": [
    "モデルにテンソルを渡す場合はVariableにする必要がある。  \n",
    "Variableクラスをインポートしよう。"
   ]
  },
  {
   "cell_type": "code",
   "execution_count": null,
   "metadata": {
    "colab": {},
    "colab_type": "code",
    "id": "76W6nFDChMI8"
   },
   "outputs": [],
   "source": [
    "from torch.autograd import Variable"
   ]
  },
  {
   "cell_type": "code",
   "execution_count": null,
   "metadata": {
    "colab": {},
    "colab_type": "code",
    "id": "ZSRMp-N6e7P1"
   },
   "outputs": [],
   "source": [
    "p = model(Variable(img_tensor))"
   ]
  },
  {
   "cell_type": "markdown",
   "metadata": {
    "colab_type": "text",
    "id": "BF5PhQ5se7P2"
   },
   "source": [
    "※ modelのCPU実行には、いくらか時間がかかります。"
   ]
  },
  {
   "cell_type": "markdown",
   "metadata": {
    "colab_type": "text",
    "id": "sRFpwtkge7P3"
   },
   "source": [
    "予測結果（の生データ）を表示してみる"
   ]
  },
  {
   "cell_type": "code",
   "execution_count": null,
   "metadata": {
    "colab": {
     "base_uri": "https://localhost:8080/",
     "height": 1000
    },
    "colab_type": "code",
    "executionInfo": {
     "elapsed": 57004,
     "status": "ok",
     "timestamp": 1576054800253,
     "user": {
      "displayName": "コウ",
      "photoUrl": "",
      "userId": "15615658067056912208"
     },
     "user_tz": -540
    },
    "id": "v4ulJtp2e7P3",
    "outputId": "465259f5-21f6-4dce-8d8f-8d47a9e7a542",
    "scrolled": true
   },
   "outputs": [],
   "source": [
    "p"
   ]
  },
  {
   "cell_type": "markdown",
   "metadata": {
    "colab_type": "text",
    "id": "GN3Pns2ye7P5"
   },
   "source": [
    "たくさんの値がはいった行列（Variable型）が見えるはずです。"
   ]
  },
  {
   "cell_type": "markdown",
   "metadata": {},
   "source": [
    "---"
   ]
  },
  {
   "cell_type": "markdown",
   "metadata": {
    "colab_type": "text",
    "id": "iMKGbuFXe7P5"
   },
   "source": [
    "### Variableクラス中の数値データへのアクセス"
   ]
  },
  {
   "cell_type": "markdown",
   "metadata": {
    "colab_type": "text",
    "id": "OopxeQnae7P6"
   },
   "source": [
    "Variable クラスはPyTorchが行列を扱うための構造です。中に入っている行列に数値としてアクセスしたい場合は、 p.data を試してみてください。"
   ]
  },
  {
   "cell_type": "code",
   "execution_count": null,
   "metadata": {
    "colab": {
     "base_uri": "https://localhost:8080/",
     "height": 34
    },
    "colab_type": "code",
    "executionInfo": {
     "elapsed": 57003,
     "status": "ok",
     "timestamp": 1576054800253,
     "user": {
      "displayName": "コウ",
      "photoUrl": "",
      "userId": "15615658067056912208"
     },
     "user_tz": -540
    },
    "id": "jY7Krcn9e7P6",
    "outputId": "b542b18e-07e4-47d8-9739-84a332f54b86"
   },
   "outputs": [],
   "source": [
    "p.__class__"
   ]
  },
  {
   "cell_type": "code",
   "execution_count": null,
   "metadata": {
    "colab": {
     "base_uri": "https://localhost:8080/",
     "height": 34
    },
    "colab_type": "code",
    "executionInfo": {
     "elapsed": 57002,
     "status": "ok",
     "timestamp": 1576054800254,
     "user": {
      "displayName": "コウ",
      "photoUrl": "",
      "userId": "15615658067056912208"
     },
     "user_tz": -540
    },
    "id": "EVZ1Ww_Pe7P7",
    "outputId": "84072985-baef-40e7-add1-e22c8fedc967"
   },
   "outputs": [],
   "source": [
    "p.data.__class__"
   ]
  },
  {
   "cell_type": "code",
   "execution_count": null,
   "metadata": {
    "colab": {
     "base_uri": "https://localhost:8080/",
     "height": 34
    },
    "colab_type": "code",
    "executionInfo": {
     "elapsed": 57000,
     "status": "ok",
     "timestamp": 1576054800254,
     "user": {
      "displayName": "コウ",
      "photoUrl": "",
      "userId": "15615658067056912208"
     },
     "user_tz": -540
    },
    "id": "miv-HpaKe7P9",
    "outputId": "c1ac481b-b9bb-4561-f32d-08fab6800ef3"
   },
   "outputs": [],
   "source": [
    "p[0, 1]"
   ]
  },
  {
   "cell_type": "code",
   "execution_count": null,
   "metadata": {
    "colab": {
     "base_uri": "https://localhost:8080/",
     "height": 34
    },
    "colab_type": "code",
    "executionInfo": {
     "elapsed": 56998,
     "status": "ok",
     "timestamp": 1576054800254,
     "user": {
      "displayName": "コウ",
      "photoUrl": "",
      "userId": "15615658067056912208"
     },
     "user_tz": -540
    },
    "id": "wGFN_xZZe7P_",
    "outputId": "4aa7da24-3015-4eb0-baa9-6faad83b9422"
   },
   "outputs": [],
   "source": [
    "p.data[0, 1]"
   ]
  },
  {
   "cell_type": "markdown",
   "metadata": {
    "colab_type": "text",
    "id": "lOoLUlsOLogw"
   },
   "source": [
    "---"
   ]
  },
  {
   "cell_type": "markdown",
   "metadata": {
    "colab_type": "text",
    "id": "5TzqUQgbe7QA"
   },
   "source": [
    "### 複数画像をバッチ処理する\n",
    "\n",
    "複数の画像を連続で処理したい場合は、配列として画像を複数渡して、まとめて予測を得ることができます。この際、 modelが返すテンソル（イメージ数、 1000クラス）になります。\n",
    "\n",
    "1枚単位で画像を予測する場合と結果は一緒ですが、GPU搭載サーバーで短時間に多数の画像を予測したい場合、多数の画像をまとめることにより、システム全体のスループットが向上します。"
   ]
  },
  {
   "cell_type": "markdown",
   "metadata": {
    "colab_type": "text",
    "id": "CbMClO44e7QB"
   },
   "source": [
    "#### 1枚のみ処理する場合"
   ]
  },
  {
   "cell_type": "code",
   "execution_count": null,
   "metadata": {
    "colab": {
     "base_uri": "https://localhost:8080/",
     "height": 34
    },
    "colab_type": "code",
    "executionInfo": {
     "elapsed": 56997,
     "status": "ok",
     "timestamp": 1576054800255,
     "user": {
      "displayName": "コウ",
      "photoUrl": "",
      "userId": "15615658067056912208"
     },
     "user_tz": -540
    },
    "id": "FlVfAqJFe7QB",
    "outputId": "cffa17e4-bd7c-4bbd-9a4a-6cd3403f6518"
   },
   "outputs": [],
   "source": [
    "img_tensor1 = preprocess(img)\n",
    "img_tensor1.unsqueeze_(0)\n",
    "img_tensor.shape"
   ]
  },
  {
   "cell_type": "markdown",
   "metadata": {
    "colab_type": "text",
    "id": "3l7uDpQSLogy"
   },
   "source": [
    "生成したモデルをNvidiaのGPUに転送しましょう。"
   ]
  },
  {
   "cell_type": "code",
   "execution_count": null,
   "metadata": {
    "colab": {},
    "colab_type": "code",
    "id": "xSqyhXMEu_-a"
   },
   "outputs": [],
   "source": [
    "p1 =  model(Variable(img_tensor1).to(device))"
   ]
  },
  {
   "cell_type": "code",
   "execution_count": null,
   "metadata": {
    "colab": {
     "base_uri": "https://localhost:8080/",
     "height": 34
    },
    "colab_type": "code",
    "executionInfo": {
     "elapsed": 56504,
     "status": "ok",
     "timestamp": 1576054800255,
     "user": {
      "displayName": "コウ",
      "photoUrl": "",
      "userId": "15615658067056912208"
     },
     "user_tz": -540
    },
    "id": "hKZ5p6zze7QD",
    "outputId": "51c83817-7d90-4040-bc13-3164470d5e5b"
   },
   "outputs": [],
   "source": [
    "p1.shape # => (1, 000)"
   ]
  },
  {
   "cell_type": "markdown",
   "metadata": {
    "colab_type": "text",
    "id": "FV6xFeo4e7QF"
   },
   "source": [
    "#### 2枚処理する場合\n",
    "\n",
    "操作は基本的にNumpyに準拠しているため、それと同じように次元を操作する。  \n",
    "今回は、新しい次元を軸にテンソルを連結したいため、stack関数を用いる。  \n",
    "まず、前に解説したSeriesの次元が2になっていることを確認しよう。"
   ]
  },
  {
   "cell_type": "code",
   "execution_count": null,
   "metadata": {
    "colab": {
     "base_uri": "https://localhost:8080/",
     "height": 34
    },
    "colab_type": "code",
    "executionInfo": {
     "elapsed": 56105,
     "status": "ok",
     "timestamp": 1576054800256,
     "user": {
      "displayName": "コウ",
      "photoUrl": "",
      "userId": "15615658067056912208"
     },
     "user_tz": -540
    },
    "id": "HFUImK4Xe7QG",
    "outputId": "35191454-296e-46f2-b2a4-21e37cc0e619"
   },
   "outputs": [],
   "source": [
    "img_tensor2 = preprocess(img).to(device)\n",
    "img_tensor2 = torch.stack([img_tensor2, img_tensor2])\n",
    "img_tensor2.shape"
   ]
  },
  {
   "cell_type": "code",
   "execution_count": null,
   "metadata": {
    "colab": {},
    "colab_type": "code",
    "id": "xVYegGCouT9u"
   },
   "outputs": [],
   "source": [
    "p2 =  model(Variable(img_tensor2).to(device))"
   ]
  },
  {
   "cell_type": "code",
   "execution_count": null,
   "metadata": {
    "colab": {
     "base_uri": "https://localhost:8080/",
     "height": 34
    },
    "colab_type": "code",
    "executionInfo": {
     "elapsed": 55714,
     "status": "ok",
     "timestamp": 1576054800256,
     "user": {
      "displayName": "コウ",
      "photoUrl": "",
      "userId": "15615658067056912208"
     },
     "user_tz": -540
    },
    "id": "fKF3QLP1e7QJ",
    "outputId": "29d5f887-9479-4424-dc06-c0250f9644b5"
   },
   "outputs": [],
   "source": [
    "p2.shape # 演習: 結果を予想してください"
   ]
  },
  {
   "cell_type": "markdown",
   "metadata": {
    "colab_type": "text",
    "id": "JR6atgLHe7QK"
   },
   "source": [
    "#### 3枚処理する場合"
   ]
  },
  {
   "cell_type": "markdown",
   "metadata": {
    "colab_type": "text",
    "id": "QlzEcjKMe7QL"
   },
   "source": [
    "【演習】  \n",
    "３枚の画像をmodelに渡して、期待どおりのテンソルが戻されることを確認してください。"
   ]
  },
  {
   "cell_type": "code",
   "execution_count": null,
   "metadata": {
    "colab": {
     "base_uri": "https://localhost:8080/",
     "height": 34
    },
    "colab_type": "code",
    "executionInfo": {
     "elapsed": 55136,
     "status": "ok",
     "timestamp": 1576054800257,
     "user": {
      "displayName": "コウ",
      "photoUrl": "",
      "userId": "15615658067056912208"
     },
     "user_tz": -540
    },
    "id": "zTP8xHnre7QL",
    "outputId": "d17384f4-7e2c-4c56-a56b-1a5e2ae611b2"
   },
   "outputs": [],
   "source": [
    "img_tensor3 = preprocess(img).to(device)\n",
    "img_tensor3 = torch.stack([img_tensor3, img_tensor3, img_tensor3])\n",
    "p3 = model(Variable(img_tensor3).to(device))\n",
    "p3.shape"
   ]
  },
  {
   "cell_type": "markdown",
   "metadata": {},
   "source": [
    "---"
   ]
  },
  {
   "cell_type": "markdown",
   "metadata": {
    "colab_type": "text",
    "id": "XXas8A-He7QT"
   },
   "source": [
    "### modelが返した確率をグラフ表示する\n"
   ]
  },
  {
   "cell_type": "markdown",
   "metadata": {
    "colab_type": "text",
    "id": "P7cS7Sdde7QU"
   },
   "source": [
    "以降、予測した最初の画像 (0行目) の内容について調査していきます。  \n",
    "変数 d に p.data[0] を代入し、以降の操作は d に対して行います。\n"
   ]
  },
  {
   "cell_type": "code",
   "execution_count": null,
   "metadata": {
    "colab": {},
    "colab_type": "code",
    "id": "TH7416oWe7QU"
   },
   "outputs": [],
   "source": [
    "d = p.data[0]"
   ]
  },
  {
   "cell_type": "code",
   "execution_count": null,
   "metadata": {
    "colab": {
     "base_uri": "https://localhost:8080/",
     "height": 34
    },
    "colab_type": "code",
    "executionInfo": {
     "elapsed": 54359,
     "status": "ok",
     "timestamp": 1576054800257,
     "user": {
      "displayName": "コウ",
      "photoUrl": "",
      "userId": "15615658067056912208"
     },
     "user_tz": -540
    },
    "id": "WxE4Srvye7QW",
    "outputId": "daeddea6-4c97-4446-c824-45c31af91c1d"
   },
   "outputs": [],
   "source": [
    "d.shape # dの要素数を確認したい方はお試しください"
   ]
  },
  {
   "cell_type": "code",
   "execution_count": null,
   "metadata": {
    "colab": {
     "base_uri": "https://localhost:8080/",
     "height": 1000
    },
    "colab_type": "code",
    "executionInfo": {
     "elapsed": 54179,
     "status": "ok",
     "timestamp": 1576054800258,
     "user": {
      "displayName": "コウ",
      "photoUrl": "",
      "userId": "15615658067056912208"
     },
     "user_tz": -540
    },
    "id": "sWOft5yDe7QY",
    "outputId": "4d5ac244-ba72-41d2-e679-1766ab0130ba",
    "scrolled": true
   },
   "outputs": [],
   "source": [
    "d # 中身を見たい方はお試しください"
   ]
  },
  {
   "cell_type": "markdown",
   "metadata": {
    "colab_type": "text",
    "id": "4pMFYhgqNsrq"
   },
   "source": [
    "これからこのデータをグラフに直していきますが、マイナス値が含まれているためそれらを修正します。  \n",
    "1000項目の内どの程度その項目らしいかを表しているので、これを確率値に直してみます。\n",
    "\n",
    "> 厳密には確率値ではないです。"
   ]
  },
  {
   "cell_type": "code",
   "execution_count": null,
   "metadata": {
    "colab": {},
    "colab_type": "code",
    "id": "Ll8eFFICN7n8"
   },
   "outputs": [],
   "source": [
    "import torch.nn.functional as F"
   ]
  },
  {
   "cell_type": "code",
   "execution_count": null,
   "metadata": {
    "colab": {
     "base_uri": "https://localhost:8080/",
     "height": 51
    },
    "colab_type": "code",
    "executionInfo": {
     "elapsed": 1096,
     "status": "ok",
     "timestamp": 1576055451355,
     "user": {
      "displayName": "コウ",
      "photoUrl": "",
      "userId": "15615658067056912208"
     },
     "user_tz": -540
    },
    "id": "nGZUy9m2N-qe",
    "outputId": "a5b9788f-7bb6-4a47-9540-362c00b8f455"
   },
   "outputs": [],
   "source": [
    "softmax_d = F.softmax(d, dim=0)\n",
    "softmax_d[:5]"
   ]
  },
  {
   "cell_type": "markdown",
   "metadata": {
    "colab_type": "text",
    "id": "fEyaMVnte7QZ"
   },
   "source": [
    "ここまでで出力層までの計算処理が終わりました。\n",
    "\n",
    "d を棒グラフとして表示してみます。"
   ]
  },
  {
   "cell_type": "markdown",
   "metadata": {},
   "source": [
    "棒グラフを表示するのは`matplotlib`で行います。  \n",
    "\n",
    "これから出力されたデータを見ていきますが、`matplotlib`だけでなく、通常のライブラリはCUDAに対応していません。  \n",
    "ニューラルネットワークの重たい処理も終わっているので、ここでGPUからCPUにデータを移してしまいます。"
   ]
  },
  {
   "cell_type": "code",
   "execution_count": null,
   "metadata": {
    "colab": {
     "base_uri": "https://localhost:8080/",
     "height": 34
    },
    "colab_type": "code",
    "executionInfo": {
     "elapsed": 1228,
     "status": "ok",
     "timestamp": 1576055451747,
     "user": {
      "displayName": "コウ",
      "photoUrl": "",
      "userId": "15615658067056912208"
     },
     "user_tz": -540
    },
    "id": "KgROVQSiMUng",
    "outputId": "67413557-6d7b-46c4-81f8-c9ba5dae05e0"
   },
   "outputs": [],
   "source": [
    "softmax_d = softmax_d.to(\"cpu\")　# 今までと違ってベタ指定\n",
    "softmax_d[:5]"
   ]
  },
  {
   "cell_type": "markdown",
   "metadata": {
    "colab_type": "text",
    "id": "_O5fhKSFMxo5"
   },
   "source": [
    "`device='cuda:0'`がなくなったことを確認してください。"
   ]
  },
  {
   "cell_type": "code",
   "execution_count": null,
   "metadata": {
    "colab": {
     "base_uri": "https://localhost:8080/",
     "height": 609
    },
    "colab_type": "code",
    "executionInfo": {
     "elapsed": 3106,
     "status": "ok",
     "timestamp": 1576055453957,
     "user": {
      "displayName": "コウ",
      "photoUrl": "",
      "userId": "15615658067056912208"
     },
     "user_tz": -540
    },
    "id": "s2eRaf2Ye7QZ",
    "outputId": "145ea50e-94bb-4a7f-f68b-046d5ce398ea",
    "scrolled": true
   },
   "outputs": [],
   "source": [
    "import matplotlib.pyplot as plt\n",
    " \n",
    "%matplotlib inline \n",
    "plt.style.use('ggplot')\n",
    "plt.figure(figsize=(20,10))\n",
    "plt.bar(x=range(len(softmax_d)), height=softmax_d)\n",
    "plt.plot()"
   ]
  },
  {
   "cell_type": "markdown",
   "metadata": {
    "colab_type": "text",
    "id": "Cos1H5n6e7Qb"
   },
   "source": [
    "<div style=\"border: 1px solid; padding: 10px\">これは、0番目から999番目のクラスまで、そのクラスである確率の棒グラフです。200 ~ 400 の間にもっとも高いバーが見えているはずですが、この最も高い値がいくつめの要素か調べていきます。</div>"
   ]
  },
  {
   "cell_type": "markdown",
   "metadata": {
    "colab_type": "text",
    "id": "Gc5mae5MM-vS"
   },
   "source": [
    "\n"
   ]
  },
  {
   "cell_type": "markdown",
   "metadata": {
    "colab_type": "text",
    "id": "jqP7edXUe7Qb"
   },
   "source": [
    "配列 d の中から最大値を探す\n"
   ]
  },
  {
   "cell_type": "code",
   "execution_count": null,
   "metadata": {
    "colab": {},
    "colab_type": "code",
    "id": "KJU8jN-qe7Qb"
   },
   "outputs": [],
   "source": [
    "predicted_label = np.argmax(softmax_d)"
   ]
  },
  {
   "cell_type": "markdown",
   "metadata": {
    "colab_type": "text",
    "id": "H21gedN-e7Qd"
   },
   "source": [
    "最大値がある要素の番号を表示\n"
   ]
  },
  {
   "cell_type": "code",
   "execution_count": null,
   "metadata": {
    "colab": {
     "base_uri": "https://localhost:8080/",
     "height": 34
    },
    "colab_type": "code",
    "executionInfo": {
     "elapsed": 2141,
     "status": "ok",
     "timestamp": 1576055453959,
     "user": {
      "displayName": "コウ",
      "photoUrl": "",
      "userId": "15615658067056912208"
     },
     "user_tz": -540
    },
    "id": "sfnltz4oe7Qe",
    "outputId": "41b057a7-c499-425c-c0a3-69a75b61bd9c",
    "scrolled": true
   },
   "outputs": [],
   "source": [
    "predicted_label"
   ]
  },
  {
   "cell_type": "markdown",
   "metadata": {
    "colab_type": "text",
    "id": "krmpKlwee7Qg"
   },
   "source": [
    "d[predicted_label] は d の中の最大値で、確率（0.0〜1.0）\n"
   ]
  },
  {
   "cell_type": "code",
   "execution_count": null,
   "metadata": {
    "colab": {
     "base_uri": "https://localhost:8080/",
     "height": 34
    },
    "colab_type": "code",
    "executionInfo": {
     "elapsed": 1811,
     "status": "ok",
     "timestamp": 1576055453959,
     "user": {
      "displayName": "コウ",
      "photoUrl": "",
      "userId": "15615658067056912208"
     },
     "user_tz": -540
    },
    "id": "I174JnbYe7Qg",
    "outputId": "c7de4bb8-e327-4330-a55b-49a981bb98e6"
   },
   "outputs": [],
   "source": [
    "softmax_d[predicted_label]"
   ]
  },
  {
   "cell_type": "markdown",
   "metadata": {
    "colab_type": "text",
    "id": "Z6ZPF-fge7Qj"
   },
   "source": [
    "`np.argmax(softmax_d)` が 281  を返した場合、入力した画像 img は 281 番目のクラスに分類されたことを意味しています。"
   ]
  },
  {
   "cell_type": "markdown",
   "metadata": {},
   "source": [
    "---"
   ]
  },
  {
   "cell_type": "markdown",
   "metadata": {
    "colab_type": "text",
    "id": "GWyB30hxe7Qj"
   },
   "source": [
    "## ラベルリストの利用"
   ]
  },
  {
   "cell_type": "markdown",
   "metadata": {
    "colab_type": "text",
    "id": "zAw9_tnSe7Qj"
   },
   "source": [
    "入力した画像は、 predicted_label 番目（285番目）のクラスである確率が高いことがわかりました。しかし、この 285 番目のクラスというのは何を指しているのでしょうか。\n",
    "\n",
    "（このモデルの学習時に利用された）クラスラベルリスト <a href=\"synset_words.txt\">synset_words.txt</a>  と照合することで、このクラスラベルが何を意味しているのかを調べます。"
   ]
  },
  {
   "cell_type": "code",
   "execution_count": null,
   "metadata": {
    "colab": {},
    "colab_type": "code",
    "id": "NJlKXiace7Qk"
   },
   "outputs": [],
   "source": [
    "labels = open(pj_path+\"synset_words.txt\", \"r\").readlines()"
   ]
  },
  {
   "cell_type": "markdown",
   "metadata": {
    "colab_type": "text",
    "id": "91vYMd3z4ctz"
   },
   "source": [
    "labels の内容を確認する (1000個まで表示すると長いので、とりあえず最初の10個まで)"
   ]
  },
  {
   "cell_type": "code",
   "execution_count": null,
   "metadata": {
    "colab": {
     "base_uri": "https://localhost:8080/",
     "height": 187
    },
    "colab_type": "code",
    "executionInfo": {
     "elapsed": 1075,
     "status": "ok",
     "timestamp": 1576055473354,
     "user": {
      "displayName": "コウ",
      "photoUrl": "",
      "userId": "15615658067056912208"
     },
     "user_tz": -540
    },
    "id": "pHuXAE-Je7Ql",
    "outputId": "1563458a-a9f3-4454-d2be-47090bc5ec6b"
   },
   "outputs": [],
   "source": [
    "labels[:10]"
   ]
  },
  {
   "cell_type": "markdown",
   "metadata": {
    "colab_type": "text",
    "id": "ld9AiUvfe7Qm"
   },
   "source": [
    "入力画像に対して最も高い確率を示したクラスのラベル文字列を表示してみよう。  \n",
    "predict_label 番目の要素を調べる\n"
   ]
  },
  {
   "cell_type": "code",
   "execution_count": null,
   "metadata": {
    "colab": {
     "base_uri": "https://localhost:8080/",
     "height": 34
    },
    "colab_type": "code",
    "executionInfo": {
     "elapsed": 1260,
     "status": "ok",
     "timestamp": 1576055476054,
     "user": {
      "displayName": "コウ",
      "photoUrl": "",
      "userId": "15615658067056912208"
     },
     "user_tz": -540
    },
    "id": "OXoslH7we7Qn",
    "outputId": "825f2e24-66dd-46fa-94b7-85b46cf356c0"
   },
   "outputs": [],
   "source": [
    "labels[predicted_label]"
   ]
  },
  {
   "cell_type": "markdown",
   "metadata": {
    "colab_type": "text",
    "id": "RvvFc0Jbe7Qo"
   },
   "source": [
    "実行した結果、tabby, tabby cat、つまり、ニューラルネットワークは、この画像が  tabby, tabby catに分類した、ということになります。\n",
    "\n",
    "> 別のライブラリのChainerで同じモデルを使ってやってみたらEgyptian catになりました。"
   ]
  },
  {
   "cell_type": "markdown",
   "metadata": {
    "colab_type": "text",
    "id": "vgdfcAZee7Qp"
   },
   "source": [
    "<hr>\n",
    "\n",
    "## Top-N クラスの調査"
   ]
  },
  {
   "cell_type": "markdown",
   "metadata": {
    "colab_type": "text",
    "id": "-S74tRI0e7Qt"
   },
   "source": [
    "<div style=\"border: 1px solid; padding: 10px\">返された値は「入力された画像が各クラスの値である確率」だと説明しました。また、最大値は 281番目の要素であることがわかりました。最大値に続く、大きな値を探してみましょう。</div>"
   ]
  },
  {
   "cell_type": "markdown",
   "metadata": {
    "colab_type": "text",
    "id": "OKqEDVJxe7Qt"
   },
   "source": [
    "確率を昇順にソートして、最後の最大3件を表示\n"
   ]
  },
  {
   "cell_type": "code",
   "execution_count": null,
   "metadata": {
    "colab": {
     "base_uri": "https://localhost:8080/",
     "height": 34
    },
    "colab_type": "code",
    "executionInfo": {
     "elapsed": 1072,
     "status": "ok",
     "timestamp": 1576055479134,
     "user": {
      "displayName": "コウ",
      "photoUrl": "",
      "userId": "15615658067056912208"
     },
     "user_tz": -540
    },
    "id": "sBm5AZgEe7Qt",
    "outputId": "37cba1fc-7acf-4b48-e42e-ddcbbce664b7"
   },
   "outputs": [],
   "source": [
    "softmax_d.topk(3)"
   ]
  },
  {
   "cell_type": "markdown",
   "metadata": {
    "colab_type": "text",
    "id": "Z61g2KDPe7Qx"
   },
   "source": [
    "<hr>\n",
    "\n",
    "## Top-N クラスの調査（クラスラベルとあわせて）"
   ]
  },
  {
   "cell_type": "markdown",
   "metadata": {
    "colab_type": "text",
    "id": "vpjYRrGRe7Qx"
   },
   "source": [
    "<div style=\"border: 1px solid; padding: 10px\">このままではクラスラベルがなく、確率値が何に対応しているのかがわかりません。以下の操作で確率とクラスラベルをマージした上でソートしてみましょう。</div>"
   ]
  },
  {
   "cell_type": "markdown",
   "metadata": {
    "colab_type": "text",
    "id": "Q_F-Y_mme7Qy"
   },
   "source": [
    "確率とクラスラベルを組みわせたリストの作成"
   ]
  },
  {
   "cell_type": "code",
   "execution_count": null,
   "metadata": {
    "colab": {
     "base_uri": "https://localhost:8080/",
     "height": 204
    },
    "colab_type": "code",
    "executionInfo": {
     "elapsed": 1064,
     "status": "ok",
     "timestamp": 1576055481809,
     "user": {
      "displayName": "コウ",
      "photoUrl": "",
      "userId": "15615658067056912208"
     },
     "user_tz": -540
    },
    "id": "S2J6ZBaCe7Qz",
    "outputId": "2900c876-b376-4f58-80d4-3bdc33dd0b79"
   },
   "outputs": [],
   "source": [
    "p2 = list(zip(softmax_d, labels))\n",
    "p2[:10]"
   ]
  },
  {
   "cell_type": "markdown",
   "metadata": {
    "colab_type": "text",
    "id": "blgdIRcKe7Q0"
   },
   "source": [
    "作成した組み合わせリストから Top 3 を表示\n",
    "\n",
    "`topk`を使わなくても、リスト形式の演算もできます。"
   ]
  },
  {
   "cell_type": "code",
   "execution_count": null,
   "metadata": {
    "colab": {
     "base_uri": "https://localhost:8080/",
     "height": 68
    },
    "colab_type": "code",
    "executionInfo": {
     "elapsed": 727,
     "status": "ok",
     "timestamp": 1576055482122,
     "user": {
      "displayName": "コウ",
      "photoUrl": "",
      "userId": "15615658067056912208"
     },
     "user_tz": -540
    },
    "id": "nAJgd4mMe7Q0",
    "outputId": "4760c560-e0fa-41cd-bc28-790af77910df"
   },
   "outputs": [],
   "source": [
    "sorted(p2, reverse=True)[:3]"
   ]
  },
  {
   "cell_type": "markdown",
   "metadata": {
    "colab_type": "text",
    "id": "kGuCB3Roe7Q2"
   },
   "source": [
    "<div style=\"border: 1px solid; padding: 10px\">\n",
    "出力例\n",
    "\n",
    "<p>\n",
    "[<br>(0.52825135, 'n02124075 Egyptian cat\\n'), <br>\n",
    "   (0.11501167, 'n02123045 tabby, tabby cat\\n'), <br>\n",
    "   (0.052949127, 'n02123159 tiger cat\\n')<br>]\n",
    "</div>"
   ]
  },
  {
   "cell_type": "markdown",
   "metadata": {
    "colab_type": "text",
    "id": "AFGh3K0Ve7Q2"
   },
   "source": [
    "<hr>\n",
    "\n",
    "【演習】<br><br>同様に、Top-10 クラスを確認してください。"
   ]
  },
  {
   "cell_type": "code",
   "execution_count": null,
   "metadata": {
    "colab": {
     "base_uri": "https://localhost:8080/",
     "height": 187
    },
    "colab_type": "code",
    "executionInfo": {
     "elapsed": 1427,
     "status": "ok",
     "timestamp": 1576055518705,
     "user": {
      "displayName": "コウ",
      "photoUrl": "",
      "userId": "15615658067056912208"
     },
     "user_tz": -540
    },
    "id": "g9xLJ7IKe7Q3",
    "outputId": "dcc8dc66-4415-403f-9c19-48713a028795"
   },
   "outputs": [],
   "source": [
    "p2 = list(zip(softmax_d, labels))\n",
    "sorted(p2, reverse=True)[:10]"
   ]
  },
  {
   "cell_type": "markdown",
   "metadata": {
    "colab_type": "text",
    "id": "XFUQVaRpe7Q3"
   },
   "source": [
    "<hr>\n",
    "\n",
    "## matplotlib による円グラフの表示"
   ]
  },
  {
   "cell_type": "markdown",
   "metadata": {
    "colab_type": "text",
    "id": "7sbCxtOme7Q4"
   },
   "source": [
    "<div style=\"border: 1px solid; padding: 10px\">降順にソートした確率一覧を matplotlib の円グラフにすることで、Top-Nクラスがどれぐらいの割合を占めるのかを視覚的に確認できます。</div>"
   ]
  },
  {
   "cell_type": "code",
   "execution_count": null,
   "metadata": {
    "colab": {
     "base_uri": "https://localhost:8080/",
     "height": 187
    },
    "colab_type": "code",
    "executionInfo": {
     "elapsed": 1043,
     "status": "ok",
     "timestamp": 1576055542770,
     "user": {
      "displayName": "コウ",
      "photoUrl": "",
      "userId": "15615658067056912208"
     },
     "user_tz": -540
    },
    "id": "SMHfUNH-e7Q4",
    "outputId": "eb5a829f-1613-4df0-ef00-cfc555d3497e"
   },
   "outputs": [],
   "source": [
    "sorted_softmax_d = sorted(softmax_d, key=lambda x:-x)\n",
    "sorted_softmax_d[:10]"
   ]
  },
  {
   "cell_type": "code",
   "execution_count": null,
   "metadata": {
    "colab": {
     "base_uri": "https://localhost:8080/",
     "height": 592
    },
    "colab_type": "code",
    "executionInfo": {
     "elapsed": 2257,
     "status": "ok",
     "timestamp": 1576055557010,
     "user": {
      "displayName": "コウ",
      "photoUrl": "",
      "userId": "15615658067056912208"
     },
     "user_tz": -540
    },
    "id": "L4UIeIbqJSr9",
    "outputId": "6b50164d-fd5d-4c26-dab9-07eb0e9b4c45"
   },
   "outputs": [],
   "source": [
    "plt.style.use('ggplot')\n",
    "plt.rcParams.update({'font.size':15})\n",
    "plt.figure(figsize=(10,10))\n",
    "plt.pie(sorted_softmax_d)\n",
    "plt.plot()"
   ]
  },
  {
   "cell_type": "markdown",
   "metadata": {
    "colab_type": "text",
    "id": "_hXTjc-ue7Q5"
   },
   "source": [
    "<hr>\n",
    "\n",
    "## さらなる演習\n",
    "\n",
    "【演習】  \n",
    "ハンズオン環境に用意されている画像を model にわたし、各画像の予測クラス（１画像あたり1クラス）を表示してください。\n"
   ]
  },
  {
   "cell_type": "markdown",
   "metadata": {
    "colab_type": "text",
    "id": "C8UCcu7He7Q5"
   },
   "source": [
    "ハンズオン環境に存在する画像</a>をまとめて読み込みたい場合は、次のブロックを実行してください。"
   ]
  },
  {
   "cell_type": "code",
   "execution_count": null,
   "metadata": {
    "colab": {},
    "colab_type": "code",
    "id": "cmSUjoGOe7Q6"
   },
   "outputs": [],
   "source": [
    "img_airplane = Image.open(pj_path+\"_images/airplane.jpg\")\n",
    "img_cat = Image.open(pj_path+\"_images/cat.jpg\")\n",
    "img_dog = Image.open(pj_path+\"_images/dog.jpg\")\n",
    "img_dolphin = Image.open(pj_path+\"_images/dolphin.jpg\")\n",
    "img_human1 = Image.open(pj_path+\"_images/human_1.jpg\")\n",
    "img_human2 = Image.open(pj_path+\"_images/human_2.jpg\")\n",
    "img_spider = Image.open(pj_path+\"_images/spider.jpg\")"
   ]
  },
  {
   "cell_type": "code",
   "execution_count": null,
   "metadata": {
    "colab": {},
    "colab_type": "code",
    "id": "P5-g_x6re7Q7"
   },
   "outputs": [],
   "source": [
    "# 演習\n",
    "img_tensor_ = preprocess(img_airplane).cuda()\n",
    "img_tensor_.unsqueeze_(0)\n",
    "p_ = model(img_tensor_)"
   ]
  }
 ],
 "metadata": {
  "accelerator": "GPU",
  "colab": {
   "collapsed_sections": [],
   "name": "01_VGG16.ipynb",
   "provenance": []
  },
  "kernelspec": {
   "display_name": "Python 3",
   "language": "python",
   "name": "python3"
  },
  "language_info": {
   "codemirror_mode": {
    "name": "ipython",
    "version": 3
   },
   "file_extension": ".py",
   "mimetype": "text/x-python",
   "name": "python",
   "nbconvert_exporter": "python",
   "pygments_lexer": "ipython3",
   "version": "3.7.4"
  }
 },
 "nbformat": 4,
 "nbformat_minor": 1
}
