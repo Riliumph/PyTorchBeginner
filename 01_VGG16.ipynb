{
 "cells": [
  {
   "cell_type": "markdown",
   "metadata": {
    "colab_type": "text",
    "id": "w3lL2me1e7Pg"
   },
   "source": [
    "# PyTorch 初心者ハンズオン\n",
    "\n",
    "## はじめての画像分類\n",
    "---"
   ]
  },
  {
   "cell_type": "markdown",
   "metadata": {
    "colab_type": "text",
    "id": "_HBKj56re7Pj"
   },
   "source": [
    "## ページ内目次\n",
    "\n",
    "<ul>\n",
    "<li><a href=\"#画像ファイルの読み込み\">画像ファイルの読み込み</a></li>\n",
    "<li><a href=\"#PyTorchのインポート、VGG16モデルのロード\">PyTorchのインポート、VGG16モデルのロード</a></li>\n",
    "<li><a href=\"#モデルを使って画像のクラスを予測する\">モデルを使って画像のクラスを予測する</a></li>\n",
    "<li><a href=\"#Tensorクラス中の数値データへのアクセス\">Tensorクラス中の数値データへのアクセス</a></li>\n",
    "<li><a href=\"#複数画像をバッチ処理する\">複数画像をバッチ処理する</a></li>\n",
    "<li><a href=\"#modelが返す行列を理解する\">modelが返す行列を理解する</a></li>\n",
    "<li><a href=\"#modelが返した確率をグラフ表示する\">modelが返した確率をグラフ表示する</a></li>\n",
    "<li><a href=\"#ラベルリストの利用\">ラベルリストの利用</a></li>\n",
    "<li><a href=\"#Top-N クラスの調査\">Top-N クラスの調査</a></li>\n",
    "<li><a href=\"#matplotlib-による円グラフの表示\">matplotlibによる円グラフの表示</a></li>\n",
    "<li><a href=\"#さらなる演習\">さらなる演習</a></li>\n",
    "</ul>"
   ]
  },
  {
   "cell_type": "markdown",
   "metadata": {
    "colab_type": "text",
    "id": "YWepssIye7Pk"
   },
   "source": [
    "<hr>\n",
    "\n",
    "PyTorch 初心者ハンズオンにようこそ！\n",
    "\n",
    "本ハンズオンでは、ディープラーニングやPyTorch フレームワークを利用したことがない方を対象として、ディープラーニングによる画像分類の方法をご紹介します。\n",
    "\n",
    "<hr>"
   ]
  },
  {
   "cell_type": "markdown",
   "metadata": {
    "colab_type": "text",
    "id": "M9DSTRJ2e7Pl"
   },
   "source": [
    "画像に何が映っているか、深層学習によって推測させてみましょう。PyTorchを使った場合、有名なネットワーク構造がいくつか、すぐに試せる状態になっています。ここでは、2015年に発表された VGG16 を使ってみましょう。"
   ]
  },
  {
   "cell_type": "markdown",
   "metadata": {
    "colab_type": "text",
    "id": "xYeWYPfve7Pm"
   },
   "source": [
    "<div style=\"border: 1px solid; padding: 10px\">\n",
    "VGG16ネットワークは、224x224の画像を1000クラスに分類するためのネットワークです。\n",
    "<p>\n",
    "Very Deep Convolutional Networks for Large-Scale Image Recognition<br>https://arxiv.org/abs/1409.1556\n",
    "\n",
    "<p>PyTorch では torchvision.models.vgg16 クラスが定義されています。 PyTorch 自体に学習済みデータ組み込まれていませんが、公開されている学習済みモデルを読み込んで利用できるため、学習に時間をかけなくても試せます。\n",
    "\n",
    "https://github.com/pytorch/vision/blob/master/torchvision/models/vgg.py\n",
    "\n",
    "</div>"
   ]
  },
  {
   "cell_type": "markdown",
   "metadata": {
    "colab_type": "text",
    "id": "XFAvWzCve7Po"
   },
   "source": [
    "<hr>"
   ]
  },
  {
   "cell_type": "markdown",
   "metadata": {
    "colab_type": "text",
    "id": "JWgRME4Re7Po"
   },
   "source": [
    "### 画像ファイルの読み込み"
   ]
  },
  {
   "cell_type": "code",
   "execution_count": null,
   "metadata": {
    "colab": {
     "base_uri": "https://localhost:8080/",
     "height": 32
    },
    "colab_type": "code",
    "executionInfo": {
     "elapsed": 2050,
     "status": "ok",
     "timestamp": 1576661611502,
     "user": {
      "displayName": "コウ",
      "photoUrl": "",
      "userId": "15615658067056912208"
     },
     "user_tz": -540
    },
    "id": "3GfhA8rToBu0",
    "outputId": "42d61798-3dab-4d05-8ab6-be64b80e2f88"
   },
   "outputs": [],
   "source": [
    "from google.colab import drive\n",
    "drive_path = '/content/drive/'\n",
    "drive.mount(drive_path)\n",
    "pj_path = drive_path + 'My Drive/ColabNotebooks/PyTorchBeginner/'"
   ]
  },
  {
   "cell_type": "code",
   "execution_count": null,
   "metadata": {
    "colab": {},
    "colab_type": "code",
    "id": "GwgF2iAce7Pp"
   },
   "outputs": [],
   "source": [
    "from PIL import Image\n",
    "\n",
    "img = Image.open(pj_path + \"_images/cat.jpg\")"
   ]
  },
  {
   "cell_type": "code",
   "execution_count": null,
   "metadata": {
    "colab": {
     "base_uri": "https://localhost:8080/",
     "height": 442
    },
    "colab_type": "code",
    "executionInfo": {
     "elapsed": 2033,
     "status": "ok",
     "timestamp": 1576661611504,
     "user": {
      "displayName": "コウ",
      "photoUrl": "",
      "userId": "15615658067056912208"
     },
     "user_tz": -540
    },
    "id": "TX8okSzDe7Pr",
    "outputId": "fd883ff6-112f-43ea-ea4c-0afd60a3c439"
   },
   "outputs": [],
   "source": [
    "img"
   ]
  },
  {
   "cell_type": "markdown",
   "metadata": {
    "colab_type": "text",
    "id": "9-yLOUfXe7Pt"
   },
   "source": [
    "上記ブロックを実行し、猫が表示されましたか？"
   ]
  },
  {
   "cell_type": "markdown",
   "metadata": {
    "colab_type": "text",
    "id": "3ZYSxEg7Wv8H"
   },
   "source": [
    "一応、サイズを確認しておきましょう。"
   ]
  },
  {
   "cell_type": "code",
   "execution_count": null,
   "metadata": {
    "colab": {
     "base_uri": "https://localhost:8080/",
     "height": 32
    },
    "colab_type": "code",
    "executionInfo": {
     "elapsed": 2018,
     "status": "ok",
     "timestamp": 1576661611504,
     "user": {
      "displayName": "コウ",
      "photoUrl": "",
      "userId": "15615658067056912208"
     },
     "user_tz": -540
    },
    "id": "vvdPZgpxWzBV",
    "outputId": "be3f7b09-37e6-4e4f-84b0-b560ef6bec96"
   },
   "outputs": [],
   "source": [
    "img.size"
   ]
  },
  {
   "cell_type": "markdown",
   "metadata": {
    "colab_type": "text",
    "id": "0GAgeKgNLogK"
   },
   "source": [
    "---"
   ]
  },
  {
   "cell_type": "markdown",
   "metadata": {
    "colab_type": "text",
    "id": "5IU24ZqXe7Pu"
   },
   "source": [
    "### PyTorchのインポート、VGG16モデルのロード\n"
   ]
  },
  {
   "cell_type": "markdown",
   "metadata": {
    "colab_type": "text",
    "id": "Xfv2kplge7Pu"
   },
   "source": [
    "PyTorchのインポート、訓練済みモデルのロード"
   ]
  },
  {
   "cell_type": "code",
   "execution_count": null,
   "metadata": {
    "colab": {},
    "colab_type": "code",
    "id": "pspR7maeg2tY"
   },
   "outputs": [],
   "source": [
    "import torch as t\n",
    "import torchvision as tv"
   ]
  },
  {
   "cell_type": "markdown",
   "metadata": {
    "colab_type": "text",
    "id": "KkXiR2-YBTPN"
   },
   "source": [
    "ここで、 model にはVGG16 と呼ばれる有名な画像分類ネットワークがロードします。"
   ]
  },
  {
   "cell_type": "code",
   "execution_count": null,
   "metadata": {
    "colab": {},
    "colab_type": "code",
    "id": "7stZpJkWg7TF"
   },
   "outputs": [],
   "source": [
    "model = tv.models.vgg16(pretrained=True)"
   ]
  },
  {
   "cell_type": "markdown",
   "metadata": {
    "colab_type": "text",
    "id": "wXkfKCwWOj8S"
   },
   "source": [
    "モデルの確認\n",
    "\n",
    "model オブジェクトが torchvision.models.vgg.VGG クラスであることを確認してみてください。"
   ]
  },
  {
   "cell_type": "code",
   "execution_count": null,
   "metadata": {
    "colab": {
     "base_uri": "https://localhost:8080/",
     "height": 32
    },
    "colab_type": "code",
    "executionInfo": {
     "elapsed": 3085,
     "status": "ok",
     "timestamp": 1576661612608,
     "user": {
      "displayName": "コウ",
      "photoUrl": "",
      "userId": "15615658067056912208"
     },
     "user_tz": -540
    },
    "id": "E27_F3RdOgym",
    "outputId": "055deb7f-50ac-4c01-90ef-c4a9c291244a"
   },
   "outputs": [],
   "source": [
    "type(model)"
   ]
  },
  {
   "cell_type": "markdown",
   "metadata": {
    "colab_type": "text",
    "id": "VCjMpoprKQpH"
   },
   "source": [
    "機械学習では、モデルを使用するタイミングは二つあり、PyTorchではそれぞれを切り替える必要があります。\n",
    "\n",
    "\n",
    "- 学習フェイズ  \n",
    "  整備されたデータを使って正しい結論を導けるようにパラメータを調整するフェイズ\n",
    "- 推論フェイズ  \n",
    "  調整されたパラメータを使って新しいデータを判定するフェイズ\n",
    "\n",
    "今回は学習済みのモデルを使用するので推論フェイズになります。\n",
    "\n",
    "> Some models use modules which have different training and evaluation behavior, such as batch normalization. To switch between these modes, use model.train() or model.eval() as appropriate. See train() or eval() for details.\n",
    "> https://pytorch.org/docs/master/torchvision/models.html"
   ]
  },
  {
   "cell_type": "code",
   "execution_count": null,
   "metadata": {
    "colab": {
     "base_uri": "https://localhost:8080/",
     "height": 757
    },
    "colab_type": "code",
    "executionInfo": {
     "elapsed": 3072,
     "status": "ok",
     "timestamp": 1576661612608,
     "user": {
      "displayName": "コウ",
      "photoUrl": "",
      "userId": "15615658067056912208"
     },
     "user_tz": -540
    },
    "id": "BLRw331dKPWZ",
    "outputId": "ffaf4568-17f4-4e5b-9ec2-0be7d02a1337"
   },
   "outputs": [],
   "source": [
    "model.eval()"
   ]
  },
  {
   "cell_type": "markdown",
   "metadata": {
    "colab_type": "text",
    "id": "JaFBeQVce7Px"
   },
   "source": [
    "パワーポイントのモデルと見比べてみましょう。\n",
    "画像のサイズは書かれていませんが、`Conv2d`の第１引数と第２引数から3次元目の変化が見て取れます。\n",
    "\n",
    "featuresのあとはclassifierが続けて実行されます。\n",
    "結果、1000クラスまでの分類ができるNNとなっています。\n",
    "\n",
    "一点だけ注意しなければならないのは、資料では出力レイヤーはsoftmaxと書かれていますが、PyTorchのネットワーク構造はそうはなっていないということです。  \n",
    "プログラマーが自力でsoftmaxを適用する必要があります。"
   ]
  },
  {
   "cell_type": "code",
   "execution_count": null,
   "metadata": {
    "colab": {},
    "colab_type": "code",
    "id": "uTQAsc2ce7Py"
   },
   "outputs": [],
   "source": []
  },
  {
   "cell_type": "markdown",
   "metadata": {
    "colab_type": "text",
    "id": "7397DVuLJUi7"
   },
   "source": [
    "推論自体はそんなに重たい処理ではないのでCPUでも十分な速度が出ます。  \n",
    "しかし、次の「学習」を学ぶ過程ではCPUでは荷が重いので、ここでCPUとGPUの切り替えを学んでおきましょう。"
   ]
  },
  {
   "cell_type": "code",
   "execution_count": null,
   "metadata": {
    "colab": {
     "base_uri": "https://localhost:8080/",
     "height": 32
    },
    "colab_type": "code",
    "executionInfo": {
     "elapsed": 3047,
     "status": "ok",
     "timestamp": 1576661612609,
     "user": {
      "displayName": "コウ",
      "photoUrl": "",
      "userId": "15615658067056912208"
     },
     "user_tz": -540
    },
    "id": "pndPkZot9rB_",
    "outputId": "d98cea81-de42-4c9c-e9ea-fa48f211696e"
   },
   "outputs": [],
   "source": [
    "device = t.device(\"cuda:0\" if t.cuda.is_available() else \"cpu\")\n",
    "device"
   ]
  },
  {
   "cell_type": "code",
   "execution_count": null,
   "metadata": {
    "colab": {},
    "colab_type": "code",
    "id": "YnPuvWWe-2FH"
   },
   "outputs": [],
   "source": [
    "model = model.to(device)"
   ]
  },
  {
   "cell_type": "markdown",
   "metadata": {
    "colab_type": "text",
    "id": "lUGgAc9cLogX"
   },
   "source": [
    "---"
   ]
  },
  {
   "cell_type": "markdown",
   "metadata": {
    "colab_type": "text",
    "id": "c5MK02PNe7P0"
   },
   "source": [
    "### 前処理を行う\n"
   ]
  },
  {
   "cell_type": "markdown",
   "metadata": {
    "colab_type": "text",
    "id": "fKj2HsLyWNnW"
   },
   "source": [
    "PyTorchでは、画像をテンソル型にする必要がある。  \n",
    "前処理をまとめて定義しておく。\n",
    "\n",
    "> https://pytorch.org/docs/master/torchvision/models.html"
   ]
  },
  {
   "cell_type": "code",
   "execution_count": null,
   "metadata": {
    "colab": {},
    "colab_type": "code",
    "id": "Z7fsYlSHWY32"
   },
   "outputs": [],
   "source": [
    "preprocess = tv.transforms.Compose([\n",
    "                                  tv.transforms.Resize(256),\n",
    "                                  tv.transforms.CenterCrop(224),\n",
    "                                  tv.transforms.ToTensor(),\n",
    "                                  tv.transforms.Normalize(mean=[0.485, 0.456, 0.406],std=[0.229, 0.224, 0.225])\n",
    "])"
   ]
  },
  {
   "cell_type": "markdown",
   "metadata": {
    "colab_type": "text",
    "id": "DOyeeEahXiyq"
   },
   "source": [
    "前処理を実行して、画像からテンソルを取得してみる。  \n",
    "前処理自体はCPUに行わせます。"
   ]
  },
  {
   "cell_type": "code",
   "execution_count": null,
   "metadata": {
    "colab": {
     "base_uri": "https://localhost:8080/",
     "height": 32
    },
    "colab_type": "code",
    "executionInfo": {
     "elapsed": 6170,
     "status": "ok",
     "timestamp": 1576661615759,
     "user": {
      "displayName": "コウ",
      "photoUrl": "",
      "userId": "15615658067056912208"
     },
     "user_tz": -540
    },
    "id": "mXCKEz7aXmva",
    "outputId": "fb3716be-d866-4cf9-fd5f-18e8c2f29338"
   },
   "outputs": [],
   "source": [
    "img_tensor = preprocess(img)\n",
    "img_tensor.shape"
   ]
  },
  {
   "cell_type": "markdown",
   "metadata": {
    "colab_type": "text",
    "id": "26A1OJHEVzQp"
   },
   "source": [
    "tensorの順番は少し直観的ではないかもしれない。  \n",
    "CH, Height, Widthの順番に格納されているので、さっき確認した画像サイズと照らし合わせてみよう。"
   ]
  },
  {
   "cell_type": "markdown",
   "metadata": {
    "colab_type": "text",
    "id": "59QaYdekYadc"
   },
   "source": [
    "画像をモデルに入力するときは、3次元テンソルではなく、４次元テンソルである必要がある。  \n",
    "何の要素が必要かというと、入力する画像の枚数データである。  \n",
    "これを**バッチサイズ**と呼ぶため、必ず覚えておいてほしい。\n",
    "\n",
    "今回は１枚だけを入力するので、0次元目に１を新規要素として追加する。\n"
   ]
  },
  {
   "cell_type": "code",
   "execution_count": null,
   "metadata": {
    "colab": {
     "base_uri": "https://localhost:8080/",
     "height": 32
    },
    "colab_type": "code",
    "executionInfo": {
     "elapsed": 6158,
     "status": "ok",
     "timestamp": 1576661615760,
     "user": {
      "displayName": "コウ",
      "photoUrl": "",
      "userId": "15615658067056912208"
     },
     "user_tz": -540
    },
    "id": "1xRXaI0jeDe0",
    "outputId": "a2a5fd14-4a20-4e4a-a810-1b5b0067a27e"
   },
   "outputs": [],
   "source": [
    "img_tensor.unsqueeze_(0)\n",
    "img_tensor.size()"
   ]
  },
  {
   "cell_type": "markdown",
   "metadata": {
    "colab_type": "text",
    "id": "cMVnX3HxLogh"
   },
   "source": [
    "---"
   ]
  },
  {
   "cell_type": "markdown",
   "metadata": {
    "colab_type": "text",
    "id": "2wFCnHoqYKQW"
   },
   "source": [
    "### モデルを使って画像のクラスを予測する\n",
    "\n",
    "テンソルをニューラルネットワークに入力し、出力 p を得る"
   ]
  },
  {
   "cell_type": "code",
   "execution_count": null,
   "metadata": {
    "colab": {},
    "colab_type": "code",
    "id": "ZSRMp-N6e7P1"
   },
   "outputs": [],
   "source": [
    "p = model(img_tensor.to(device))"
   ]
  },
  {
   "cell_type": "markdown",
   "metadata": {
    "colab_type": "text",
    "id": "BF5PhQ5se7P2"
   },
   "source": [
    "※ modelのCPU実行には、いくらか時間がかかります。"
   ]
  },
  {
   "cell_type": "markdown",
   "metadata": {
    "colab_type": "text",
    "id": "sRFpwtkge7P3"
   },
   "source": [
    "予測結果（の生データ）を表示してみる"
   ]
  },
  {
   "cell_type": "code",
   "execution_count": null,
   "metadata": {
    "colab": {
     "base_uri": "https://localhost:8080/",
     "height": 32
    },
    "colab_type": "code",
    "executionInfo": {
     "elapsed": 978,
     "status": "ok",
     "timestamp": 1576663127646,
     "user": {
      "displayName": "コウ",
      "photoUrl": "",
      "userId": "15615658067056912208"
     },
     "user_tz": -540
    },
    "id": "zz6NXa5sW7zy",
    "outputId": "ecb18641-d7bd-46db-bf30-fbe08699f53f"
   },
   "outputs": [],
   "source": [
    "p.shape"
   ]
  },
  {
   "cell_type": "code",
   "execution_count": null,
   "metadata": {
    "colab": {
     "base_uri": "https://localhost:8080/",
     "height": 1000
    },
    "colab_type": "code",
    "executionInfo": {
     "elapsed": 902,
     "status": "ok",
     "timestamp": 1576663129306,
     "user": {
      "displayName": "コウ",
      "photoUrl": "",
      "userId": "15615658067056912208"
     },
     "user_tz": -540
    },
    "id": "v4ulJtp2e7P3",
    "outputId": "08f448ec-e830-472f-92ec-c1253a80a841",
    "scrolled": true
   },
   "outputs": [],
   "source": [
    "p"
   ]
  },
  {
   "cell_type": "markdown",
   "metadata": {
    "colab_type": "text",
    "id": "GN3Pns2ye7P5"
   },
   "source": [
    "たくさんの値がはいった行列（Tensor型）が見えるはずです。"
   ]
  },
  {
   "cell_type": "markdown",
   "metadata": {
    "colab_type": "text",
    "id": "fsLlSsGRJUjS"
   },
   "source": [
    "---"
   ]
  },
  {
   "cell_type": "markdown",
   "metadata": {
    "colab_type": "text",
    "id": "iMKGbuFXe7P5"
   },
   "source": [
    "### Tensorクラス中の数値データへのアクセス\n",
    "\n",
    "Tensor クラスはPyTorchが行列を扱うための構造です。"
   ]
  },
  {
   "cell_type": "code",
   "execution_count": null,
   "metadata": {
    "colab": {
     "base_uri": "https://localhost:8080/",
     "height": 32
    },
    "colab_type": "code",
    "executionInfo": {
     "elapsed": 6130,
     "status": "ok",
     "timestamp": 1576661615761,
     "user": {
      "displayName": "コウ",
      "photoUrl": "",
      "userId": "15615658067056912208"
     },
     "user_tz": -540
    },
    "id": "jY7Krcn9e7P6",
    "outputId": "fd3c279c-7b6e-428d-d8cc-19a0d40b7ddb"
   },
   "outputs": [],
   "source": [
    "p.__class__"
   ]
  },
  {
   "cell_type": "code",
   "execution_count": null,
   "metadata": {
    "colab": {
     "base_uri": "https://localhost:8080/",
     "height": 32
    },
    "colab_type": "code",
    "executionInfo": {
     "elapsed": 6104,
     "status": "ok",
     "timestamp": 1576661615761,
     "user": {
      "displayName": "コウ",
      "photoUrl": "",
      "userId": "15615658067056912208"
     },
     "user_tz": -540
    },
    "id": "EVZ1Ww_Pe7P7",
    "outputId": "b2a5714c-087c-4506-babd-85a77d8906eb"
   },
   "outputs": [],
   "source": [
    "p.detach().__class__"
   ]
  },
  {
   "cell_type": "markdown",
   "metadata": {
    "colab_type": "text",
    "id": "vq_gUVQ40Nc_"
   },
   "source": [
    "データの他にも、勾配を算出する関数も持っていることが分かる。"
   ]
  },
  {
   "cell_type": "code",
   "execution_count": null,
   "metadata": {
    "colab": {
     "base_uri": "https://localhost:8080/",
     "height": 32
    },
    "colab_type": "code",
    "executionInfo": {
     "elapsed": 6073,
     "status": "ok",
     "timestamp": 1576661615761,
     "user": {
      "displayName": "コウ",
      "photoUrl": "",
      "userId": "15615658067056912208"
     },
     "user_tz": -540
    },
    "id": "miv-HpaKe7P9",
    "outputId": "aac265b4-6dfc-47ef-c8ed-f02726c974af"
   },
   "outputs": [],
   "source": [
    "p[0,1]"
   ]
  },
  {
   "cell_type": "code",
   "execution_count": null,
   "metadata": {
    "colab": {
     "base_uri": "https://localhost:8080/",
     "height": 32
    },
    "colab_type": "code",
    "executionInfo": {
     "elapsed": 6053,
     "status": "ok",
     "timestamp": 1576661615762,
     "user": {
      "displayName": "コウ",
      "photoUrl": "",
      "userId": "15615658067056912208"
     },
     "user_tz": -540
    },
    "id": "YiGUk2AcyBW3",
    "outputId": "8dfa468e-01b6-42b7-d30e-d8f58b331b89"
   },
   "outputs": [],
   "source": [
    "p.detach()[0,1]"
   ]
  },
  {
   "cell_type": "markdown",
   "metadata": {
    "colab_type": "text",
    "id": "lOoLUlsOLogw"
   },
   "source": [
    "---"
   ]
  },
  {
   "cell_type": "markdown",
   "metadata": {
    "colab_type": "text",
    "id": "5TzqUQgbe7QA"
   },
   "source": [
    "### 複数画像をバッチ処理する\n",
    "\n",
    "複数の画像を連続で処理したい場合は、配列として画像を複数渡して、まとめて予測を得ることができます。この際、 modelが返すテンソル（イメージ数、 1000クラス）になります。\n",
    "\n",
    "1枚単位で画像を予測する場合と結果は一緒ですが、GPU搭載サーバーで短時間に多数の画像を予測したい場合、多数の画像をまとめることにより、システム全体のスループットが向上します。"
   ]
  },
  {
   "cell_type": "markdown",
   "metadata": {
    "colab_type": "text",
    "id": "CbMClO44e7QB"
   },
   "source": [
    "#### 1枚のみ処理する場合"
   ]
  },
  {
   "cell_type": "code",
   "execution_count": null,
   "metadata": {
    "colab": {
     "base_uri": "https://localhost:8080/",
     "height": 32
    },
    "colab_type": "code",
    "executionInfo": {
     "elapsed": 6039,
     "status": "ok",
     "timestamp": 1576661615762,
     "user": {
      "displayName": "コウ",
      "photoUrl": "",
      "userId": "15615658067056912208"
     },
     "user_tz": -540
    },
    "id": "FlVfAqJFe7QB",
    "outputId": "012f2836-811d-4016-84f4-c60ced0c1763"
   },
   "outputs": [],
   "source": [
    "img_tensor1 = preprocess(img)\n",
    "img_tensor1.unsqueeze_(0)\n",
    "img_tensor.shape"
   ]
  },
  {
   "cell_type": "markdown",
   "metadata": {
    "colab_type": "text",
    "id": "3l7uDpQSLogy"
   },
   "source": [
    "生成したモデルをNvidiaのGPUに転送しましょう。"
   ]
  },
  {
   "cell_type": "code",
   "execution_count": null,
   "metadata": {
    "colab": {},
    "colab_type": "code",
    "id": "xSqyhXMEu_-a"
   },
   "outputs": [],
   "source": [
    "p1 =  model(img_tensor1.to(device))"
   ]
  },
  {
   "cell_type": "code",
   "execution_count": null,
   "metadata": {
    "colab": {
     "base_uri": "https://localhost:8080/",
     "height": 32
    },
    "colab_type": "code",
    "executionInfo": {
     "elapsed": 6023,
     "status": "ok",
     "timestamp": 1576661615764,
     "user": {
      "displayName": "コウ",
      "photoUrl": "",
      "userId": "15615658067056912208"
     },
     "user_tz": -540
    },
    "id": "hKZ5p6zze7QD",
    "outputId": "bab30223-4fa2-4b50-cc37-2762b1081b12"
   },
   "outputs": [],
   "source": [
    "p1.shape # => (1, 000)"
   ]
  },
  {
   "cell_type": "markdown",
   "metadata": {
    "colab_type": "text",
    "id": "FV6xFeo4e7QF"
   },
   "source": [
    "#### 2枚処理する場合\n",
    "\n",
    "操作は基本的にNumpyに準拠しているため、それと同じように次元を操作する。  \n",
    "今回は、新しい次元を軸にテンソルを連結したいため、stack関数を用いる。  \n",
    "まず、前に解説したSeriesの次元が2になっていることを確認しよう。"
   ]
  },
  {
   "cell_type": "code",
   "execution_count": null,
   "metadata": {
    "colab": {
     "base_uri": "https://localhost:8080/",
     "height": 32
    },
    "colab_type": "code",
    "executionInfo": {
     "elapsed": 6008,
     "status": "ok",
     "timestamp": 1576661615765,
     "user": {
      "displayName": "コウ",
      "photoUrl": "",
      "userId": "15615658067056912208"
     },
     "user_tz": -540
    },
    "id": "HFUImK4Xe7QG",
    "outputId": "94a8bd3d-0b34-4de1-c591-3d6e113708bf"
   },
   "outputs": [],
   "source": [
    "img_tensor2 = preprocess(img)\n",
    "img_tensor2 = t.stack([img_tensor2, img_tensor2])\n",
    "img_tensor2.shape"
   ]
  },
  {
   "cell_type": "code",
   "execution_count": null,
   "metadata": {
    "colab": {},
    "colab_type": "code",
    "id": "xVYegGCouT9u"
   },
   "outputs": [],
   "source": [
    "p2 =  model(img_tensor2.to(device))"
   ]
  },
  {
   "cell_type": "code",
   "execution_count": null,
   "metadata": {
    "colab": {
     "base_uri": "https://localhost:8080/",
     "height": 32
    },
    "colab_type": "code",
    "executionInfo": {
     "elapsed": 5827,
     "status": "ok",
     "timestamp": 1576661615765,
     "user": {
      "displayName": "コウ",
      "photoUrl": "",
      "userId": "15615658067056912208"
     },
     "user_tz": -540
    },
    "id": "fKF3QLP1e7QJ",
    "outputId": "efb418e7-b2a9-42fd-db66-ad5322307185"
   },
   "outputs": [],
   "source": [
    "p2.shape # 演習: 結果を予想してください"
   ]
  },
  {
   "cell_type": "markdown",
   "metadata": {
    "colab_type": "text",
    "id": "JR6atgLHe7QK"
   },
   "source": [
    "#### 3枚処理する場合"
   ]
  },
  {
   "cell_type": "markdown",
   "metadata": {
    "colab_type": "text",
    "id": "QlzEcjKMe7QL"
   },
   "source": [
    "【演習】  \n",
    "３枚の画像をmodelに渡して、期待通りのテンソルが戻されることを確認してください。"
   ]
  },
  {
   "cell_type": "code",
   "execution_count": null,
   "metadata": {
    "colab": {
     "base_uri": "https://localhost:8080/",
     "height": 32
    },
    "colab_type": "code",
    "executionInfo": {
     "elapsed": 5818,
     "status": "ok",
     "timestamp": 1576661615766,
     "user": {
      "displayName": "コウ",
      "photoUrl": "",
      "userId": "15615658067056912208"
     },
     "user_tz": -540
    },
    "id": "zTP8xHnre7QL",
    "outputId": "486d18de-c498-45b2-a3ff-c0c45014b178"
   },
   "outputs": [],
   "source": [
    "img_tensor3 = preprocess(img)\n",
    "img_tensor3 = t.stack([img_tensor3, img_tensor3, img_tensor3])\n",
    "p3 = model(img_tensor3.to(device))\n",
    "p3.shape"
   ]
  },
  {
   "cell_type": "markdown",
   "metadata": {
    "colab_type": "text",
    "id": "_AdHQ8ZdJUjn"
   },
   "source": [
    "---"
   ]
  },
  {
   "cell_type": "markdown",
   "metadata": {
    "colab_type": "text",
    "id": "XXas8A-He7QT"
   },
   "source": [
    "### modelが返す行列を理解する\n"
   ]
  },
  {
   "cell_type": "markdown",
   "metadata": {
    "colab_type": "text",
    "id": "P7cS7Sdde7QU"
   },
   "source": [
    "以降、予測した最初の画像 (0行目) の内容について調査していきます。  \n",
    "変数 d に p.detach()[0] を代入し、以降の操作は d に対して行います。\n"
   ]
  },
  {
   "cell_type": "code",
   "execution_count": null,
   "metadata": {
    "colab": {},
    "colab_type": "code",
    "id": "TH7416oWe7QU"
   },
   "outputs": [],
   "source": [
    "d = p.detach()[0]"
   ]
  },
  {
   "cell_type": "code",
   "execution_count": null,
   "metadata": {
    "colab": {
     "base_uri": "https://localhost:8080/",
     "height": 32
    },
    "colab_type": "code",
    "executionInfo": {
     "elapsed": 455,
     "status": "ok",
     "timestamp": 1576663137063,
     "user": {
      "displayName": "コウ",
      "photoUrl": "",
      "userId": "15615658067056912208"
     },
     "user_tz": -540
    },
    "id": "WxE4Srvye7QW",
    "outputId": "7412744c-259f-4832-d6dc-186e29916afe"
   },
   "outputs": [],
   "source": [
    "d.shape # dの要素数を確認したい方はお試しください"
   ]
  },
  {
   "cell_type": "code",
   "execution_count": null,
   "metadata": {
    "colab": {
     "base_uri": "https://localhost:8080/",
     "height": 1000
    },
    "colab_type": "code",
    "executionInfo": {
     "elapsed": 429,
     "status": "ok",
     "timestamp": 1576663137929,
     "user": {
      "displayName": "コウ",
      "photoUrl": "",
      "userId": "15615658067056912208"
     },
     "user_tz": -540
    },
    "id": "sWOft5yDe7QY",
    "outputId": "b1170096-63bb-4fff-dc91-bd4a4aefec12",
    "scrolled": true
   },
   "outputs": [],
   "source": [
    "d # 中身を見たい方はお試しください"
   ]
  },
  {
   "cell_type": "markdown",
   "metadata": {
    "colab_type": "text",
    "id": "4pMFYhgqNsrq"
   },
   "source": [
    "PyTorchに足りなかったsoftmax処理を実行しましょう。  \n",
    "softmax処理によってデータが確率値になります。\n",
    "\n",
    "> 厳密には確率ではありません。"
   ]
  },
  {
   "cell_type": "code",
   "execution_count": null,
   "metadata": {
    "colab": {},
    "colab_type": "code",
    "id": "Ll8eFFICN7n8"
   },
   "outputs": [],
   "source": [
    "import torch.nn.functional as F"
   ]
  },
  {
   "cell_type": "code",
   "execution_count": null,
   "metadata": {
    "colab": {
     "base_uri": "https://localhost:8080/",
     "height": 49
    },
    "colab_type": "code",
    "executionInfo": {
     "elapsed": 538,
     "status": "ok",
     "timestamp": 1576663143451,
     "user": {
      "displayName": "コウ",
      "photoUrl": "",
      "userId": "15615658067056912208"
     },
     "user_tz": -540
    },
    "id": "nGZUy9m2N-qe",
    "outputId": "0d452b70-427b-4da6-f32c-6153d71e371d"
   },
   "outputs": [],
   "source": [
    "softmax_d = F.softmax(d, dim=0)\n",
    "softmax_d[:5]"
   ]
  },
  {
   "cell_type": "markdown",
   "metadata": {
    "colab_type": "text",
    "id": "fEyaMVnte7QZ"
   },
   "source": [
    "ここまでで出力層までの計算処理が終わりました。\n",
    "\n",
    "d を棒グラフとして表示してみます。"
   ]
  },
  {
   "cell_type": "markdown",
   "metadata": {
    "colab_type": "text",
    "id": "uQp_i2o6R5GY"
   },
   "source": [
    "### modelが返した確率をグラフ表示する"
   ]
  },
  {
   "cell_type": "markdown",
   "metadata": {
    "colab_type": "text",
    "id": "jfbKRpMhJUjy"
   },
   "source": [
    "棒グラフの表示は`matplotlib`で行います。  \n",
    "\n",
    "これから出力されたデータを見ていきますが、`matplotlib`だけでなく、通常のライブラリはCUDAに対応していません。  \n",
    "NNの重たい処理も終わっているので、ここでGPUからCPUにデータを移してしまいます。"
   ]
  },
  {
   "cell_type": "code",
   "execution_count": null,
   "metadata": {
    "colab": {
     "base_uri": "https://localhost:8080/",
     "height": 49
    },
    "colab_type": "code",
    "executionInfo": {
     "elapsed": 544,
     "status": "ok",
     "timestamp": 1576663148114,
     "user": {
      "displayName": "コウ",
      "photoUrl": "",
      "userId": "15615658067056912208"
     },
     "user_tz": -540
    },
    "id": "KgROVQSiMUng",
    "outputId": "57d9c844-ab23-4b73-9e71-6baa2ed020d2"
   },
   "outputs": [],
   "source": [
    "softmax_d = softmax_d#.cpu() # 今までと違ってベタ指定\n",
    "softmax_d[:5]"
   ]
  },
  {
   "cell_type": "markdown",
   "metadata": {
    "colab_type": "text",
    "id": "_O5fhKSFMxo5"
   },
   "source": [
    "`device='cuda:0'`がなくなったことを確認してください。"
   ]
  },
  {
   "cell_type": "code",
   "execution_count": null,
   "metadata": {
    "colab": {
     "base_uri": "https://localhost:8080/",
     "height": 608
    },
    "colab_type": "code",
    "executionInfo": {
     "elapsed": 7428,
     "status": "ok",
     "timestamp": 1576661617449,
     "user": {
      "displayName": "コウ",
      "photoUrl": "",
      "userId": "15615658067056912208"
     },
     "user_tz": -540
    },
    "id": "s2eRaf2Ye7QZ",
    "outputId": "b4e35999-6709-44ad-b1ec-653407c6d1ac",
    "scrolled": true
   },
   "outputs": [],
   "source": [
    "import matplotlib.pyplot as plt\n",
    "%matplotlib inline \n",
    "\n",
    "plt.style.use('ggplot')\n",
    "plt.figure(figsize=(20,10))\n",
    "plt.bar(x=range(len(softmax_d)), height=softmax_d)\n",
    "plt.plot()"
   ]
  },
  {
   "cell_type": "markdown",
   "metadata": {
    "colab_type": "text",
    "id": "Cos1H5n6e7Qb"
   },
   "source": [
    "<div style=\"border: 1px solid; padding: 10px\">これは、0番目から999番目のクラスまで、そのクラスである確率の棒グラフです。200 ~ 400 の間にもっとも高いバーが見えているはずですが、この最も高い値がいくつめの要素か調べていきます。</div>"
   ]
  },
  {
   "cell_type": "markdown",
   "metadata": {
    "colab_type": "text",
    "id": "jqP7edXUe7Qb"
   },
   "source": [
    "配列 d の中から最大値を探す\n"
   ]
  },
  {
   "cell_type": "code",
   "execution_count": null,
   "metadata": {
    "colab": {},
    "colab_type": "code",
    "id": "TIubKb5-ntII"
   },
   "outputs": [],
   "source": [
    "import numpy as np"
   ]
  },
  {
   "cell_type": "code",
   "execution_count": null,
   "metadata": {
    "colab": {
     "base_uri": "https://localhost:8080/",
     "height": 450
    },
    "colab_type": "code",
    "executionInfo": {
     "elapsed": 812,
     "status": "error",
     "timestamp": 1576663152263,
     "user": {
      "displayName": "コウ",
      "photoUrl": "",
      "userId": "15615658067056912208"
     },
     "user_tz": -540
    },
    "id": "KJU8jN-qe7Qb",
    "outputId": "268db1c2-446c-43a3-f6e8-28cfe83d9ca7"
   },
   "outputs": [],
   "source": [
    "predicted_label = np.argmax(softmax_d) # Tensor型 -> Numpy型へ自動変換"
   ]
  },
  {
   "cell_type": "markdown",
   "metadata": {
    "colab_type": "text",
    "id": "H21gedN-e7Qd"
   },
   "source": [
    "最大値がある要素の番号を表示\n"
   ]
  },
  {
   "cell_type": "code",
   "execution_count": null,
   "metadata": {
    "colab": {
     "base_uri": "https://localhost:8080/",
     "height": 32
    },
    "colab_type": "code",
    "executionInfo": {
     "elapsed": 7401,
     "status": "ok",
     "timestamp": 1576661617451,
     "user": {
      "displayName": "コウ",
      "photoUrl": "",
      "userId": "15615658067056912208"
     },
     "user_tz": -540
    },
    "id": "sfnltz4oe7Qe",
    "outputId": "790098b5-ac28-48e1-fbc3-34ae3c478ef1",
    "scrolled": true
   },
   "outputs": [],
   "source": [
    "predicted_label"
   ]
  },
  {
   "cell_type": "markdown",
   "metadata": {
    "colab_type": "text",
    "id": "krmpKlwee7Qg"
   },
   "source": [
    "d[predicted_label] は d の中の最大値で、確率（0.0〜1.0）\n"
   ]
  },
  {
   "cell_type": "code",
   "execution_count": null,
   "metadata": {
    "colab": {
     "base_uri": "https://localhost:8080/",
     "height": 32
    },
    "colab_type": "code",
    "executionInfo": {
     "elapsed": 7392,
     "status": "ok",
     "timestamp": 1576661617452,
     "user": {
      "displayName": "コウ",
      "photoUrl": "",
      "userId": "15615658067056912208"
     },
     "user_tz": -540
    },
    "id": "I174JnbYe7Qg",
    "outputId": "fe16b0c0-ba78-4387-8ddf-c618091fd91a"
   },
   "outputs": [],
   "source": [
    "softmax_d[predicted_label]"
   ]
  },
  {
   "cell_type": "markdown",
   "metadata": {
    "colab_type": "text",
    "id": "Z6ZPF-fge7Qj"
   },
   "source": [
    "`np.argmax(softmax_d)` が 281  を返した場合、入力した画像 img は 281 番目のクラスに分類されたことを意味しています。"
   ]
  },
  {
   "cell_type": "markdown",
   "metadata": {
    "colab_type": "text",
    "id": "4G4kbWlrJUj8"
   },
   "source": [
    "---"
   ]
  },
  {
   "cell_type": "markdown",
   "metadata": {
    "colab_type": "text",
    "id": "GWyB30hxe7Qj"
   },
   "source": [
    "## ラベルリストの利用"
   ]
  },
  {
   "cell_type": "markdown",
   "metadata": {
    "colab_type": "text",
    "id": "zAw9_tnSe7Qj"
   },
   "source": [
    "入力した画像は、 predicted_label 番目（281番目）のクラスである確率が高いことがわかりました。  \n",
    "しかし、この 281 番目のクラスというのは何を指しているのでしょうか。\n",
    "\n",
    "（このモデルの学習時に利用された）クラスラベルリスト <a href=\"synset_words.txt\">synset_words.txt</a>  と照合することで、このクラスラベルが何を意味しているのかを調べます。"
   ]
  },
  {
   "cell_type": "code",
   "execution_count": null,
   "metadata": {
    "colab": {
     "base_uri": "https://localhost:8080/",
     "height": 32
    },
    "colab_type": "code",
    "executionInfo": {
     "elapsed": 591,
     "status": "ok",
     "timestamp": 1576664425669,
     "user": {
      "displayName": "コウ",
      "photoUrl": "",
      "userId": "15615658067056912208"
     },
     "user_tz": -540
    },
    "id": "NJlKXiace7Qk",
    "outputId": "0c033209-54be-490e-dd27-2139e3cddf38"
   },
   "outputs": [],
   "source": [
    "with open(pj_path+\"synset_words.txt\", 'r') as f:\n",
    "    labels = f.readlines()"
   ]
  },
  {
   "cell_type": "markdown",
   "metadata": {
    "colab_type": "text",
    "id": "91vYMd3z4ctz"
   },
   "source": [
    "labels の内容を確認する (1000個まで表示すると長いので、とりあえず最初の10個まで)"
   ]
  },
  {
   "cell_type": "code",
   "execution_count": null,
   "metadata": {
    "colab": {
     "base_uri": "https://localhost:8080/",
     "height": 181
    },
    "colab_type": "code",
    "executionInfo": {
     "elapsed": 7377,
     "status": "ok",
     "timestamp": 1576661617452,
     "user": {
      "displayName": "コウ",
      "photoUrl": "",
      "userId": "15615658067056912208"
     },
     "user_tz": -540
    },
    "id": "pHuXAE-Je7Ql",
    "outputId": "10800b73-1231-4ad5-d8bf-5191e5e10170"
   },
   "outputs": [],
   "source": [
    "labels[:10]"
   ]
  },
  {
   "cell_type": "markdown",
   "metadata": {
    "colab_type": "text",
    "id": "ld9AiUvfe7Qm"
   },
   "source": [
    "入力画像に対して最も高い確率を示したクラスのラベル文字列を表示してみよう。  \n",
    "predict_label 番目の要素を調べる\n"
   ]
  },
  {
   "cell_type": "code",
   "execution_count": null,
   "metadata": {
    "colab": {
     "base_uri": "https://localhost:8080/",
     "height": 32
    },
    "colab_type": "code",
    "executionInfo": {
     "elapsed": 7371,
     "status": "ok",
     "timestamp": 1576661617453,
     "user": {
      "displayName": "コウ",
      "photoUrl": "",
      "userId": "15615658067056912208"
     },
     "user_tz": -540
    },
    "id": "OXoslH7we7Qn",
    "outputId": "80100ac4-db93-44a5-8283-16f618d07fbd"
   },
   "outputs": [],
   "source": [
    "labels[predicted_label]"
   ]
  },
  {
   "cell_type": "markdown",
   "metadata": {
    "colab_type": "text",
    "id": "RvvFc0Jbe7Qo"
   },
   "source": [
    "実行した結果、tabby, tabby cat、つまり、ニューラルネットワークは、この画像が  tabby, tabby catに分類した、ということになります。"
   ]
  },
  {
   "cell_type": "markdown",
   "metadata": {
    "colab_type": "text",
    "id": "vgdfcAZee7Qp"
   },
   "source": [
    "<hr>\n",
    "\n",
    "## Top-N クラスの調査"
   ]
  },
  {
   "cell_type": "markdown",
   "metadata": {
    "colab_type": "text",
    "id": "-S74tRI0e7Qt"
   },
   "source": [
    "<div style=\"border: 1px solid; padding: 10px\">返された値は「入力された画像が各クラスの値である確率」だと説明しました。\n",
    "また、最大値は 281番目の要素であることがわかりました。最大値に続く、大きな値を探してみましょう。</div>"
   ]
  },
  {
   "cell_type": "markdown",
   "metadata": {
    "colab_type": "text",
    "id": "OKqEDVJxe7Qt"
   },
   "source": [
    "確率を昇順にソートして、最後の最大3件を表示\n"
   ]
  },
  {
   "cell_type": "code",
   "execution_count": null,
   "metadata": {
    "colab": {
     "base_uri": "https://localhost:8080/",
     "height": 32
    },
    "colab_type": "code",
    "executionInfo": {
     "elapsed": 7363,
     "status": "ok",
     "timestamp": 1576661617454,
     "user": {
      "displayName": "コウ",
      "photoUrl": "",
      "userId": "15615658067056912208"
     },
     "user_tz": -540
    },
    "id": "sBm5AZgEe7Qt",
    "outputId": "b61b042e-1d04-46da-a89a-d5196fcece25"
   },
   "outputs": [],
   "source": [
    "softmax_d.topk(3)"
   ]
  },
  {
   "cell_type": "markdown",
   "metadata": {
    "colab_type": "text",
    "id": "vpjYRrGRe7Qx"
   },
   "source": [
    "<div style=\"border: 1px solid; padding: 10px\">このままではクラスラベルがなく、確率値が何に対応しているのかがわかりません。以下の操作で確率とクラスラベルをマージした上でソートしてみましょう。</div>"
   ]
  },
  {
   "cell_type": "markdown",
   "metadata": {
    "colab_type": "text",
    "id": "Q_F-Y_mme7Qy"
   },
   "source": [
    "確率とクラスラベルを組みわせたリストの作成\n",
    "\n"
   ]
  },
  {
   "cell_type": "code",
   "execution_count": null,
   "metadata": {
    "colab": {
     "base_uri": "https://localhost:8080/",
     "height": 214
    },
    "colab_type": "code",
    "executionInfo": {
     "elapsed": 7357,
     "status": "ok",
     "timestamp": 1576661617454,
     "user": {
      "displayName": "コウ",
      "photoUrl": "",
      "userId": "15615658067056912208"
     },
     "user_tz": -540
    },
    "id": "S2J6ZBaCe7Qz",
    "outputId": "3565ef14-2506-44fc-a37d-b1290f8abf1e"
   },
   "outputs": [],
   "source": [
    "p2 = list(zip(softmax_d, labels))\n",
    "p2[:10]"
   ]
  },
  {
   "cell_type": "markdown",
   "metadata": {
    "colab_type": "text",
    "id": "blgdIRcKe7Q0"
   },
   "source": [
    "作成した組み合わせリストから Top 3 を表示\n",
    "\n",
    "`topk`を使わなくても、リスト形式の演算もできます。"
   ]
  },
  {
   "cell_type": "code",
   "execution_count": null,
   "metadata": {
    "colab": {
     "base_uri": "https://localhost:8080/",
     "height": 65
    },
    "colab_type": "code",
    "executionInfo": {
     "elapsed": 7595,
     "status": "ok",
     "timestamp": 1576661617704,
     "user": {
      "displayName": "コウ",
      "photoUrl": "",
      "userId": "15615658067056912208"
     },
     "user_tz": -540
    },
    "id": "nAJgd4mMe7Q0",
    "outputId": "ada903b9-c40a-4c0f-ea58-e0b45ea36cb5"
   },
   "outputs": [],
   "source": [
    "sorted(p2, reverse=True)[:3]"
   ]
  },
  {
   "cell_type": "markdown",
   "metadata": {
    "colab_type": "text",
    "id": "kGuCB3Roe7Q2"
   },
   "source": [
    "<div style=\"border: 1px solid; padding: 10px\">\n",
    "出力例\n",
    "\n",
    "<p>\n",
    "[<br>(0.52825135, 'n02124075 Egyptian cat\\n'), <br>\n",
    "   (0.11501167, 'n02123045 tabby, tabby cat\\n'), <br>\n",
    "   (0.052949127, 'n02123159 tiger cat\\n')<br>]\n",
    "</div>"
   ]
  },
  {
   "cell_type": "markdown",
   "metadata": {
    "colab_type": "text",
    "id": "AFGh3K0Ve7Q2"
   },
   "source": [
    "<hr>\n",
    "\n",
    "【演習】<br><br>同様に、Top-10 クラスを確認してください。"
   ]
  },
  {
   "cell_type": "code",
   "execution_count": null,
   "metadata": {
    "colab": {
     "base_uri": "https://localhost:8080/",
     "height": 181
    },
    "colab_type": "code",
    "executionInfo": {
     "elapsed": 7584,
     "status": "ok",
     "timestamp": 1576661617704,
     "user": {
      "displayName": "コウ",
      "photoUrl": "",
      "userId": "15615658067056912208"
     },
     "user_tz": -540
    },
    "id": "g9xLJ7IKe7Q3",
    "outputId": "371aa56e-8837-428b-c695-dcc7372d8a22"
   },
   "outputs": [],
   "source": [
    "p2 = list(zip(softmax_d, labels))\n",
    "sorted(p2, reverse=True)[:10]"
   ]
  },
  {
   "cell_type": "markdown",
   "metadata": {
    "colab_type": "text",
    "id": "XFUQVaRpe7Q3"
   },
   "source": [
    "<hr>\n",
    "\n",
    "## matplotlib による円グラフの表示"
   ]
  },
  {
   "cell_type": "markdown",
   "metadata": {
    "colab_type": "text",
    "id": "7sbCxtOme7Q4"
   },
   "source": [
    "<div style=\"border: 1px solid; padding: 10px\">降順にソートした確率一覧を matplotlib の円グラフにすることで、Top-Nクラスがどれぐらいの割合を占めるのかを視覚的に確認できます。</div>"
   ]
  },
  {
   "cell_type": "code",
   "execution_count": null,
   "metadata": {
    "colab": {
     "base_uri": "https://localhost:8080/",
     "height": 181
    },
    "colab_type": "code",
    "executionInfo": {
     "elapsed": 7578,
     "status": "ok",
     "timestamp": 1576661617705,
     "user": {
      "displayName": "コウ",
      "photoUrl": "",
      "userId": "15615658067056912208"
     },
     "user_tz": -540
    },
    "id": "SMHfUNH-e7Q4",
    "outputId": "5ed386de-8edd-4433-c8fa-58f27d445afb"
   },
   "outputs": [],
   "source": [
    "sorted_softmax_d = sorted(softmax_d, key=lambda x:-x)\n",
    "sorted_softmax_d[:10]"
   ]
  },
  {
   "cell_type": "code",
   "execution_count": null,
   "metadata": {
    "colab": {
     "base_uri": "https://localhost:8080/",
     "height": 591
    },
    "colab_type": "code",
    "executionInfo": {
     "elapsed": 9305,
     "status": "ok",
     "timestamp": 1576661619442,
     "user": {
      "displayName": "コウ",
      "photoUrl": "",
      "userId": "15615658067056912208"
     },
     "user_tz": -540
    },
    "id": "L4UIeIbqJSr9",
    "outputId": "08483864-0182-4a13-f602-5bcf8f8a2bd2"
   },
   "outputs": [],
   "source": [
    "plt.style.use('ggplot')\n",
    "plt.rcParams.update({'font.size':15})\n",
    "plt.figure(figsize=(10,10))\n",
    "plt.pie(sorted_softmax_d)\n",
    "plt.plot()"
   ]
  },
  {
   "cell_type": "markdown",
   "metadata": {
    "colab_type": "text",
    "id": "_hXTjc-ue7Q5"
   },
   "source": [
    "<hr>\n",
    "\n",
    "## さらなる演習\n",
    "\n",
    "【演習】  \n",
    "ハンズオン環境に用意されている画像を model にわたし、各画像の予測クラス（１画像あたり1クラス）を表示してください。\n"
   ]
  },
  {
   "cell_type": "markdown",
   "metadata": {
    "colab_type": "text",
    "id": "C8UCcu7He7Q5"
   },
   "source": [
    "ハンズオン環境に存在する画像</a>をまとめて読み込みたい場合は、次のブロックを実行してください。"
   ]
  },
  {
   "cell_type": "code",
   "execution_count": null,
   "metadata": {
    "colab": {},
    "colab_type": "code",
    "id": "cmSUjoGOe7Q6"
   },
   "outputs": [],
   "source": [
    "img_airplane = Image.open(pj_path+\"_images/airplane.jpg\")\n",
    "img_cat = Image.open(pj_path+\"_images/cat.jpg\")\n",
    "img_dog = Image.open(pj_path+\"_images/dog.jpg\")\n",
    "img_dolphin = Image.open(pj_path+\"_images/dolphin.jpg\")\n",
    "img_human1 = Image.open(pj_path+\"_images/human_1.jpg\")\n",
    "img_human2 = Image.open(pj_path+\"_images/human_2.jpg\")\n",
    "img_spider = Image.open(pj_path+\"_images/spider.jpg\")"
   ]
  },
  {
   "cell_type": "code",
   "execution_count": null,
   "metadata": {
    "colab": {},
    "colab_type": "code",
    "id": "P5-g_x6re7Q7"
   },
   "outputs": [],
   "source": [
    "# 演習\n",
    "img_tensor_ = preprocess(img_airplane).cuda()\n",
    "img_tensor_.unsqueeze_(0)\n",
    "p_ = model(img_tensor_)"
   ]
  }
 ],
 "metadata": {
  "accelerator": "GPU",
  "colab": {
   "collapsed_sections": [],
   "name": "01_VGG16.ipynb",
   "provenance": []
  },
  "kernelspec": {
   "display_name": "Python 3",
   "language": "python",
   "name": "python3"
  },
  "language_info": {
   "codemirror_mode": {
    "name": "ipython",
    "version": 3
   },
   "file_extension": ".py",
   "mimetype": "text/x-python",
   "name": "python",
   "nbconvert_exporter": "python",
   "pygments_lexer": "ipython3",
   "version": "3.7.4"
  }
 },
 "nbformat": 4,
 "nbformat_minor": 1
}
