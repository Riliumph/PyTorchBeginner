{
 "cells": [
  {
   "cell_type": "markdown",
   "metadata": {
    "colab_type": "text",
    "id": "w3lL2me1e7Pg"
   },
   "source": [
    "# Chainer 初心者ハンズオン\n",
    "# はじめての画像分類"
   ]
  },
  {
   "cell_type": "markdown",
   "metadata": {
    "colab_type": "text",
    "id": "_HBKj56re7Pj"
   },
   "source": [
    "<hr>\n",
    "\n",
    "## ページ内目次\n",
    "\n",
    "<ul>\n",
    "<li><a href=\"#画像ファイルの読み込み\">画像ファイルの読み込み</a></li>\n",
    "<li><a href=\"#Chainerのインポート、VGG16モデルのロード\">Chainerのインポート、VGG16モデルのロード</a></li>\n",
    "<li><a href=\"#モデルを使って画像のクラスを予測する\">モデルを使って画像のクラスを予測する</a></li><li><a href=\"#Variableクラス中の数値データへのアクセス\">Variableクラス中の数値データへのアクセス</a></li>\n",
    "<li><a href=\"#複数画像をバッチ処理する\">複数画像をバッチ処理する</a></li>\n",
    "<li><a href=\"#model.predict()-が返す行列を理解する\">model.predict()が返す行列を理解する</a></li>\n",
    "<li><a href=\"#model.predict()-が返した確率をグラフ表示する\">model.predict()が返した確率をグラフ表示する</a></li>\n",
    "<li><a href=\"#ラベルリストの利用\">ラベルリストの利用</a></li>\n",
    "<li><a href=\"#Top-N-クラスの調査\">Top-N-クラスの調査</a></li>\n",
    "<li><a href=\"#Top-N-クラスの調査（クラスラベルとあわせて）\">Top-Nクラスの調査（クラスラベルとあわせて）</a></li>\n",
    "<li><a href=\"#matplotlib-による円グラフの表示\">matplotlibによる円グラフの表示</a></li>\n",
    "<li><a href=\"#さらなる演習\">さらなる演習</a></li>\n",
    "<li><a href=\"#様々な画像をまとめてロードする\">様々な画像をまとめてロードする</a></li>\n",
    "</ul>"
   ]
  },
  {
   "cell_type": "markdown",
   "metadata": {
    "colab_type": "text",
    "id": "YWepssIye7Pk"
   },
   "source": [
    "<hr>\n",
    "\n",
    "PyTorch 初心者ハンズオンにようこそ！\n",
    "\n",
    "本ハンズオンでは、ディープラーニングやPyTorch フレームワークを利用したことがない方を対象として、ディープラーニングによる画像分類の方法をご紹介します。\n",
    "\n",
    "<hr>"
   ]
  },
  {
   "cell_type": "markdown",
   "metadata": {
    "colab_type": "text",
    "id": "M9DSTRJ2e7Pl"
   },
   "source": [
    "画像に何が映っているか、深層学習によって推測させてみましょう。PyTorchを使った場合、有名なネットワーク構造がいくつか、すぐに試せる状態になっています。ここでは、2015年に発表された VGG16 を使ってみましょう。"
   ]
  },
  {
   "cell_type": "markdown",
   "metadata": {
    "colab_type": "text",
    "id": "xYeWYPfve7Pm"
   },
   "source": [
    "<div style=\"border: 1px solid; padding: 10px\">\n",
    "VGG16ネットワークは、224x224の画像を1000クラスに分類するためのネットワークです。\n",
    "\n",
    "<img src=\"_images/vgg16.png\">\n",
    "図: VGG16ネットワークの構造\n",
    "<p>\n",
    "Very Deep Convolutional Networks for Large-Scale Image Recognition<br>https://arxiv.org/abs/1409.1556\n",
    "\n",
    "<p>Chainer では links.model.vision.vgg.VGG16Layers クラスが定義されています。 Chainer 自体に学習済みデータは提供されていませんが、 Caffe 向けに公開されている学習済みモデルを読み込んで利用できるため、学習に時間をかけなくても試せます。\n",
    "\n",
    "https://github.com/chainer/chainer/blob/v2/chainer/links/model/vision/vgg.py\n",
    "\n",
    "</div>"
   ]
  },
  {
   "cell_type": "markdown",
   "metadata": {
    "colab_type": "text",
    "id": "0v_pslAee7Pm"
   },
   "source": [
    "この環境には<a href=\"00_sample_images.ipynb\">以下の画像</a>が準備されています。\n",
    "\n",
    "<table><tr style=\"align: center\"><td>airplane.jpg</td><td>cat.jpg</td><td>dog.jpg</td><td>dolphin.jpg</td><td>human_1.jpg</td><td>human_2.jpg</td><td>spider.jpg</td></tr>\n",
    "<tr><td><img src=\"airplane.jpg\" style=\"width: 96px\"></td><td><img src=\"cat.jpg\" style=\"width: 96px\"></td><td><img src=\"dog.jpg\"  style=\"width: 96px\"></td><td><img src=\"dolphin.jpg\" style=\"width: 96px\"></td><td><img src=\"human_1.jpg\" style=\"width: 96px\"></td><td><img src=\"human_2.jpg\" style=\"width: 96px\"></td><td><img src=\"spider.jpg\" style=\"width: 96px\"></td></tr></table>"
   ]
  },
  {
   "cell_type": "markdown",
   "metadata": {
    "colab_type": "text",
    "id": "6UfLH7W1e7Pn"
   },
   "source": [
    "これらの画像から1点選択し、読み込みます。下記の Notebook は cat.jpg を選択した選定で解説します。"
   ]
  },
  {
   "cell_type": "markdown",
   "metadata": {
    "colab_type": "text",
    "id": "XFAvWzCve7Po"
   },
   "source": [
    "<hr>"
   ]
  },
  {
   "cell_type": "markdown",
   "metadata": {
    "colab_type": "text",
    "id": "JWgRME4Re7Po"
   },
   "source": [
    "## 画像ファイルの読み込み"
   ]
  },
  {
   "cell_type": "code",
   "execution_count": null,
   "metadata": {
    "colab": {
     "base_uri": "https://localhost:8080/",
     "height": 122
    },
    "colab_type": "code",
    "executionInfo": {
     "elapsed": 30886,
     "status": "ok",
     "timestamp": 1575971591042,
     "user": {
      "displayName": "コウ",
      "photoUrl": "",
      "userId": "15615658067056912208"
     },
     "user_tz": -540
    },
    "id": "3GfhA8rToBu0",
    "outputId": "4b8da1b9-cada-40a7-f80a-748e677d5fd2"
   },
   "outputs": [],
   "source": [
    "from google.colab import drive\n",
    "drive_path = '/content/drive/'\n",
    "drive.mount(drive_path)\n",
    "pj_path = drive_path + 'My Drive/ColabNotebooks/PyTorchBeginner/'"
   ]
  },
  {
   "cell_type": "code",
   "execution_count": null,
   "metadata": {
    "colab": {},
    "colab_type": "code",
    "id": "Hj_r_6uXIQlw"
   },
   "outputs": [],
   "source": [
    "import numpy as np"
   ]
  },
  {
   "cell_type": "code",
   "execution_count": null,
   "metadata": {
    "colab": {},
    "colab_type": "code",
    "id": "GwgF2iAce7Pp"
   },
   "outputs": [],
   "source": [
    "from PIL import Image\n",
    "\n",
    "img = Image.open(pj_path + \"_images/cat.jpg\")"
   ]
  },
  {
   "cell_type": "code",
   "execution_count": null,
   "metadata": {
    "colab": {
     "base_uri": "https://localhost:8080/",
     "height": 442
    },
    "colab_type": "code",
    "executionInfo": {
     "elapsed": 32883,
     "status": "ok",
     "timestamp": 1575971593053,
     "user": {
      "displayName": "コウ",
      "photoUrl": "",
      "userId": "15615658067056912208"
     },
     "user_tz": -540
    },
    "id": "TX8okSzDe7Pr",
    "outputId": "76778069-0f55-436b-eb59-b5d39b7cfc10"
   },
   "outputs": [],
   "source": [
    "img"
   ]
  },
  {
   "cell_type": "markdown",
   "metadata": {
    "colab_type": "text",
    "id": "9-yLOUfXe7Pt"
   },
   "source": [
    "上記ブロックを実行し、猫が表示されましたか？"
   ]
  },
  {
   "cell_type": "markdown",
   "metadata": {
    "colab_type": "text",
    "id": "3ZYSxEg7Wv8H"
   },
   "source": [
    "一応、サイズを確認しておきましょう。"
   ]
  },
  {
   "cell_type": "code",
   "execution_count": null,
   "metadata": {
    "colab": {
     "base_uri": "https://localhost:8080/",
     "height": 34
    },
    "colab_type": "code",
    "executionInfo": {
     "elapsed": 32875,
     "status": "ok",
     "timestamp": 1575971593054,
     "user": {
      "displayName": "コウ",
      "photoUrl": "",
      "userId": "15615658067056912208"
     },
     "user_tz": -540
    },
    "id": "vvdPZgpxWzBV",
    "outputId": "0f813e87-796c-4e0f-cdcf-03bb0e760026"
   },
   "outputs": [],
   "source": [
    "img.size"
   ]
  },
  {
   "cell_type": "markdown",
   "metadata": {
    "colab_type": "text",
    "id": "5IU24ZqXe7Pu"
   },
   "source": [
    "<hr>\n",
    "\n",
    "## PyTorchのインポート、VGG16モデルのロード\n",
    "\n",
    "PyTorchにはDataLoaderというモジュールが存在する。\n",
    "\n",
    "- torchvision\n",
    "- torchtext\n",
    "- torchaudio"
   ]
  },
  {
   "cell_type": "markdown",
   "metadata": {
    "colab_type": "text",
    "id": "Xfv2kplge7Pu"
   },
   "source": [
    "PyTorchのインポート、訓練済みモデルのロード"
   ]
  },
  {
   "cell_type": "code",
   "execution_count": null,
   "metadata": {
    "colab": {},
    "colab_type": "code",
    "id": "pspR7maeg2tY"
   },
   "outputs": [],
   "source": [
    "import torch"
   ]
  },
  {
   "cell_type": "code",
   "execution_count": null,
   "metadata": {
    "colab": {},
    "colab_type": "code",
    "id": "K2zXY6lde7Pv"
   },
   "outputs": [],
   "source": [
    "from torchvision import datasets, models, transforms"
   ]
  },
  {
   "cell_type": "code",
   "execution_count": null,
   "metadata": {
    "colab": {
     "base_uri": "https://localhost:8080/",
     "height": 51
    },
    "colab_type": "code",
    "executionInfo": {
     "elapsed": 43087,
     "status": "ok",
     "timestamp": 1575971603275,
     "user": {
      "displayName": "コウ",
      "photoUrl": "",
      "userId": "15615658067056912208"
     },
     "user_tz": -540
    },
    "id": "7stZpJkWg7TF",
    "outputId": "7a6a8918-c1ea-4d10-f136-bad8698fb712"
   },
   "outputs": [],
   "source": [
    "model = models.vgg16_bn(pretrained=True)"
   ]
  },
  {
   "cell_type": "markdown",
   "metadata": {
    "colab_type": "text",
    "id": "kJdf7sine7Pw"
   },
   "source": [
    "ここで、 model には、 VGG16 と呼ばれる有名な画像分類ネットワークがロードされます。\n",
    "\n",
    "<div style=\"border: 1px solid; padding: 10px\">\n",
    "<tt>In[*]</tt> という表示がしばらく続くかもしれません。VGG16のデータファイルがない場合、インターネットからデータ(約500MB)をダウンロードし変換する必要があるため、辛抱強く待ってみてください。</div>"
   ]
  },
  {
   "cell_type": "markdown",
   "metadata": {
    "colab_type": "text",
    "id": "VCjMpoprKQpH"
   },
   "source": [
    "機械学習において、初期値はランダムな値が用いられる。しかし、それでは結果が変わってしまって初心者の学習を阻害してしまうため、乱数を固定する必要がある。  \n",
    "PyTorchのモデルはeval()で評価モードに切り替えることができる。"
   ]
  },
  {
   "cell_type": "code",
   "execution_count": null,
   "metadata": {
    "colab": {
     "base_uri": "https://localhost:8080/",
     "height": 1000
    },
    "colab_type": "code",
    "executionInfo": {
     "elapsed": 43077,
     "status": "ok",
     "timestamp": 1575971603276,
     "user": {
      "displayName": "コウ",
      "photoUrl": "",
      "userId": "15615658067056912208"
     },
     "user_tz": -540
    },
    "id": "BLRw331dKPWZ",
    "outputId": "5c6adef4-652b-4011-e9dd-a550a1832fdc"
   },
   "outputs": [],
   "source": [
    "model.eval()"
   ]
  },
  {
   "cell_type": "markdown",
   "metadata": {
    "colab_type": "text",
    "id": "JaFBeQVce7Px"
   },
   "source": [
    "モデルの確認"
   ]
  },
  {
   "cell_type": "code",
   "execution_count": null,
   "metadata": {
    "colab": {
     "base_uri": "https://localhost:8080/",
     "height": 34
    },
    "colab_type": "code",
    "executionInfo": {
     "elapsed": 43718,
     "status": "ok",
     "timestamp": 1575971603928,
     "user": {
      "displayName": "コウ",
      "photoUrl": "",
      "userId": "15615658067056912208"
     },
     "user_tz": -540
    },
    "id": "uTQAsc2ce7Py",
    "outputId": "37f8a5d3-13be-44df-f726-b156379f52e3"
   },
   "outputs": [],
   "source": [
    "type(model)"
   ]
  },
  {
   "cell_type": "markdown",
   "metadata": {
    "colab_type": "text",
    "id": "hXIcmTDNe7Pz"
   },
   "source": [
    "model オブジェクトが torchvision.models.vgg.VGG クラスであることを確認してみてください。\n"
   ]
  },
  {
   "cell_type": "code",
   "execution_count": null,
   "metadata": {
    "colab": {
     "base_uri": "https://localhost:8080/",
     "height": 34
    },
    "colab_type": "code",
    "executionInfo": {
     "elapsed": 43710,
     "status": "ok",
     "timestamp": 1575971603929,
     "user": {
      "displayName": "コウ",
      "photoUrl": "",
      "userId": "15615658067056912208"
     },
     "user_tz": -540
    },
    "id": "pndPkZot9rB_",
    "outputId": "5d8fb596-9a4e-4506-c5e9-d153dfb59f09"
   },
   "outputs": [],
   "source": [
    "device = torch.device(\"cuda:0\" if torch.cuda.is_available() else \"cpu\")\n",
    "device"
   ]
  },
  {
   "cell_type": "code",
   "execution_count": null,
   "metadata": {
    "colab": {},
    "colab_type": "code",
    "id": "YnPuvWWe-2FH"
   },
   "outputs": [],
   "source": [
    "model = model.to(device)"
   ]
  },
  {
   "cell_type": "markdown",
   "metadata": {
    "colab_type": "text",
    "id": "c5MK02PNe7P0"
   },
   "source": [
    "<hr>\n",
    "\n",
    "## 前処理を行う\n"
   ]
  },
  {
   "cell_type": "markdown",
   "metadata": {
    "colab_type": "text",
    "id": "fKj2HsLyWNnW"
   },
   "source": [
    "PyTorchでは、画像をテンソル型にする必要がある。  \n",
    "前処理をまとめて定義しておく。"
   ]
  },
  {
   "cell_type": "code",
   "execution_count": null,
   "metadata": {
    "colab": {},
    "colab_type": "code",
    "id": "Z7fsYlSHWY32"
   },
   "outputs": [],
   "source": [
    "preprocess = transforms.Compose([\n",
    "                                  transforms.Resize(256),\n",
    "                                  transforms.CenterCrop(224),\n",
    "                                  transforms.ToTensor(),\n",
    "                                  transforms.Normalize(mean=[0.485, 0.456, 0.406],std=[0.229, 0.224, 0.225])\n",
    "])"
   ]
  },
  {
   "cell_type": "markdown",
   "metadata": {
    "colab_type": "text",
    "id": "DOyeeEahXiyq"
   },
   "source": [
    "前処理を実行して、画像からテンソルを取得してみる。"
   ]
  },
  {
   "cell_type": "code",
   "execution_count": null,
   "metadata": {
    "colab": {
     "base_uri": "https://localhost:8080/",
     "height": 34
    },
    "colab_type": "code",
    "executionInfo": {
     "elapsed": 48915,
     "status": "ok",
     "timestamp": 1575971609170,
     "user": {
      "displayName": "コウ",
      "photoUrl": "",
      "userId": "15615658067056912208"
     },
     "user_tz": -540
    },
    "id": "mXCKEz7aXmva",
    "outputId": "71f2a2bf-4a0b-4ec1-9684-f0fdd4701533"
   },
   "outputs": [],
   "source": [
    "img_tensor = preprocess(img).cuda()\n",
    "img_tensor.shape"
   ]
  },
  {
   "cell_type": "code",
   "execution_count": null,
   "metadata": {
    "colab": {
     "base_uri": "https://localhost:8080/",
     "height": 34
    },
    "colab_type": "code",
    "executionInfo": {
     "elapsed": 48902,
     "status": "ok",
     "timestamp": 1575971609171,
     "user": {
      "displayName": "コウ",
      "photoUrl": "",
      "userId": "15615658067056912208"
     },
     "user_tz": -540
    },
    "id": "d40ripe5-Xi3",
    "outputId": "8b7d797f-4219-4026-a8a9-545ac7d46735"
   },
   "outputs": [],
   "source": [
    "type(img_tensor)"
   ]
  },
  {
   "cell_type": "markdown",
   "metadata": {
    "colab_type": "text",
    "id": "h56zZIAxX1ki"
   },
   "source": [
    "tensorの順番は少し直観的ではないかもしれない。  \n",
    "CH, Height, Widthの順番に格納されているので、さっき確認した画像サイズと照らし合わせてみよう。\n"
   ]
  },
  {
   "cell_type": "markdown",
   "metadata": {
    "colab_type": "text",
    "id": "59QaYdekYadc"
   },
   "source": [
    "画像をモデルに入力するときは、3次元テンソルではなく、４次元テンソルである必要がある。  \n",
    "何の要素が必要かというと、入力する画像の枚数データである。  \n",
    "これを**バッチサイズ**と呼ぶため、必ず覚えておいてほしい。\n",
    "\n",
    "今回は１枚だけを入力するので、0次元目に１を新規要素として追加する。\n"
   ]
  },
  {
   "cell_type": "code",
   "execution_count": null,
   "metadata": {
    "colab": {
     "base_uri": "https://localhost:8080/",
     "height": 34
    },
    "colab_type": "code",
    "executionInfo": {
     "elapsed": 48891,
     "status": "ok",
     "timestamp": 1575971609171,
     "user": {
      "displayName": "コウ",
      "photoUrl": "",
      "userId": "15615658067056912208"
     },
     "user_tz": -540
    },
    "id": "1xRXaI0jeDe0",
    "outputId": "f432c751-2b06-4de0-e58a-2920d87f64f5"
   },
   "outputs": [],
   "source": [
    "img_tensor.unsqueeze_(0)\n",
    "img_tensor.size()"
   ]
  },
  {
   "cell_type": "markdown",
   "metadata": {
    "colab_type": "text",
    "id": "2wFCnHoqYKQW"
   },
   "source": [
    "<hr>\n",
    "\n",
    "## モデルを使って画像のクラスを予測する"
   ]
  },
  {
   "cell_type": "markdown",
   "metadata": {
    "colab_type": "text",
    "id": "1WWuJZ5De7P0"
   },
   "source": [
    "テンソルをニューラルネットワークに入力し、出力 p を得る\n",
    "\n",
    "モデルにテンソルを渡す場合はVariableにする必要がある。  \n",
    "Variableクラスをインポートしよう。"
   ]
  },
  {
   "cell_type": "code",
   "execution_count": null,
   "metadata": {
    "colab": {},
    "colab_type": "code",
    "id": "76W6nFDChMI8"
   },
   "outputs": [],
   "source": [
    "from torch.autograd import Variable"
   ]
  },
  {
   "cell_type": "code",
   "execution_count": null,
   "metadata": {
    "colab": {},
    "colab_type": "code",
    "id": "ZSRMp-N6e7P1"
   },
   "outputs": [],
   "source": [
    "p = model(Variable(img_tensor))"
   ]
  },
  {
   "cell_type": "markdown",
   "metadata": {
    "colab_type": "text",
    "id": "BF5PhQ5se7P2"
   },
   "source": [
    "※ model.predict() の実行には、いくらか時間がかかります。\n",
    "\n"
   ]
  },
  {
   "cell_type": "markdown",
   "metadata": {
    "colab_type": "text",
    "id": "sRFpwtkge7P3"
   },
   "source": [
    "予測結果（の生データ）を表示してみる"
   ]
  },
  {
   "cell_type": "code",
   "execution_count": null,
   "metadata": {
    "colab": {
     "base_uri": "https://localhost:8080/",
     "height": 1000
    },
    "colab_type": "code",
    "executionInfo": {
     "elapsed": 48875,
     "status": "ok",
     "timestamp": 1575971609172,
     "user": {
      "displayName": "コウ",
      "photoUrl": "",
      "userId": "15615658067056912208"
     },
     "user_tz": -540
    },
    "id": "v4ulJtp2e7P3",
    "outputId": "73e0e5c5-e74d-4d5e-f4f2-0666de9b8b3e",
    "scrolled": true
   },
   "outputs": [],
   "source": [
    "p"
   ]
  },
  {
   "cell_type": "markdown",
   "metadata": {
    "colab_type": "text",
    "id": "GN3Pns2ye7P5"
   },
   "source": [
    "たくさんの値がはいった行列（Variable型）が見えるはずです。"
   ]
  },
  {
   "cell_type": "markdown",
   "metadata": {
    "colab_type": "text",
    "id": "iMKGbuFXe7P5"
   },
   "source": [
    "<hr>\n",
    "\n",
    "## Variableクラス中の数値データへのアクセス"
   ]
  },
  {
   "cell_type": "markdown",
   "metadata": {
    "colab_type": "text",
    "id": "OopxeQnae7P6"
   },
   "source": [
    "Variable クラスはPyTorchが行列を扱うための構造です。中に入っている行列に数値としてアクセスしたい場合は、 p.data を試してみてください。"
   ]
  },
  {
   "cell_type": "code",
   "execution_count": null,
   "metadata": {
    "colab": {
     "base_uri": "https://localhost:8080/",
     "height": 34
    },
    "colab_type": "code",
    "executionInfo": {
     "elapsed": 48862,
     "status": "ok",
     "timestamp": 1575971609173,
     "user": {
      "displayName": "コウ",
      "photoUrl": "",
      "userId": "15615658067056912208"
     },
     "user_tz": -540
    },
    "id": "jY7Krcn9e7P6",
    "outputId": "10a5b6cf-0135-4e9c-b819-492a68352638"
   },
   "outputs": [],
   "source": [
    "p.__class__"
   ]
  },
  {
   "cell_type": "code",
   "execution_count": null,
   "metadata": {
    "colab": {
     "base_uri": "https://localhost:8080/",
     "height": 34
    },
    "colab_type": "code",
    "executionInfo": {
     "elapsed": 48854,
     "status": "ok",
     "timestamp": 1575971609173,
     "user": {
      "displayName": "コウ",
      "photoUrl": "",
      "userId": "15615658067056912208"
     },
     "user_tz": -540
    },
    "id": "EVZ1Ww_Pe7P7",
    "outputId": "1e7748ce-972b-4a08-8612-d82141abbaf6"
   },
   "outputs": [],
   "source": [
    "p.data.__class__"
   ]
  },
  {
   "cell_type": "code",
   "execution_count": null,
   "metadata": {
    "colab": {
     "base_uri": "https://localhost:8080/",
     "height": 34
    },
    "colab_type": "code",
    "executionInfo": {
     "elapsed": 48841,
     "status": "ok",
     "timestamp": 1575971609173,
     "user": {
      "displayName": "コウ",
      "photoUrl": "",
      "userId": "15615658067056912208"
     },
     "user_tz": -540
    },
    "id": "miv-HpaKe7P9",
    "outputId": "6be42a41-bc3e-4711-fccb-dccf56081d0b"
   },
   "outputs": [],
   "source": [
    "p[0, 1]"
   ]
  },
  {
   "cell_type": "code",
   "execution_count": null,
   "metadata": {
    "colab": {
     "base_uri": "https://localhost:8080/",
     "height": 34
    },
    "colab_type": "code",
    "executionInfo": {
     "elapsed": 48832,
     "status": "ok",
     "timestamp": 1575971609174,
     "user": {
      "displayName": "コウ",
      "photoUrl": "",
      "userId": "15615658067056912208"
     },
     "user_tz": -540
    },
    "id": "wGFN_xZZe7P_",
    "outputId": "e77e31f2-edaa-4525-cdae-65a1e9ed66c6"
   },
   "outputs": [],
   "source": [
    "p.data[0, 1]"
   ]
  },
  {
   "cell_type": "markdown",
   "metadata": {
    "colab_type": "text",
    "id": "5TzqUQgbe7QA"
   },
   "source": [
    "<hr>\n",
    "\n",
    "## 複数画像をバッチ処理する"
   ]
  },
  {
   "cell_type": "markdown",
   "metadata": {
    "colab_type": "text",
    "id": "W-46OQZje7QB"
   },
   "source": [
    "複数の画像を連続で処理したい場合は、配列として画像を複数渡して、まとめて予測を得ることができます。この際、 modelが返すテンソル（イメージ数、 1000クラス）になります。\n",
    "\n",
    "1枚単位で画像を予測する場合と結果は一緒ですが、GPU搭載サーバーで短時間に多数の画像を予測したい場合、多数の画像をまとめることにより、システム全体のスループットが向上します。\n"
   ]
  },
  {
   "cell_type": "markdown",
   "metadata": {
    "colab_type": "text",
    "id": "CbMClO44e7QB"
   },
   "source": [
    "### 1枚のみ処理する場合"
   ]
  },
  {
   "cell_type": "code",
   "execution_count": null,
   "metadata": {
    "colab": {
     "base_uri": "https://localhost:8080/",
     "height": 34
    },
    "colab_type": "code",
    "executionInfo": {
     "elapsed": 48823,
     "status": "ok",
     "timestamp": 1575971609174,
     "user": {
      "displayName": "コウ",
      "photoUrl": "",
      "userId": "15615658067056912208"
     },
     "user_tz": -540
    },
    "id": "FlVfAqJFe7QB",
    "outputId": "7ac9ba99-8a04-428e-b4ee-808065f82b92"
   },
   "outputs": [],
   "source": [
    "img_tensor1 = preprocess(img)\n",
    "img_tensor1.unsqueeze_(0)\n",
    "img_tensor.shape"
   ]
  },
  {
   "cell_type": "code",
   "execution_count": null,
   "metadata": {
    "colab": {},
    "colab_type": "code",
    "id": "xSqyhXMEu_-a"
   },
   "outputs": [],
   "source": [
    "p1 =  model(Variable(img_tensor1).cuda())"
   ]
  },
  {
   "cell_type": "code",
   "execution_count": null,
   "metadata": {
    "colab": {
     "base_uri": "https://localhost:8080/",
     "height": 34
    },
    "colab_type": "code",
    "executionInfo": {
     "elapsed": 49115,
     "status": "ok",
     "timestamp": 1575971609481,
     "user": {
      "displayName": "コウ",
      "photoUrl": "",
      "userId": "15615658067056912208"
     },
     "user_tz": -540
    },
    "id": "hKZ5p6zze7QD",
    "outputId": "e3a7886f-fc34-440e-decf-b9f2d77c105c"
   },
   "outputs": [],
   "source": [
    "p1.shape # => (1, 000)"
   ]
  },
  {
   "cell_type": "markdown",
   "metadata": {
    "colab_type": "text",
    "id": "FV6xFeo4e7QF"
   },
   "source": [
    "### 2枚処理する場合\n",
    "\n",
    "操作は基本的にNumpyに準拠しているため、それと同じように次元を操作する。  \n",
    "今回は、新しい次元を軸にテンソルを連結したいため、stack関数を用いる。  \n",
    "まず、前に解説したSeriesの次元が2になっていることを確認しよう。"
   ]
  },
  {
   "cell_type": "code",
   "execution_count": null,
   "metadata": {
    "colab": {
     "base_uri": "https://localhost:8080/",
     "height": 34
    },
    "colab_type": "code",
    "executionInfo": {
     "elapsed": 49103,
     "status": "ok",
     "timestamp": 1575971609482,
     "user": {
      "displayName": "コウ",
      "photoUrl": "",
      "userId": "15615658067056912208"
     },
     "user_tz": -540
    },
    "id": "HFUImK4Xe7QG",
    "outputId": "834b220f-81fe-46b1-b1e2-4a113f2981b3"
   },
   "outputs": [],
   "source": [
    "img_tensor2 = preprocess(img).cuda()\n",
    "img_tensor2 = torch.stack([img_tensor2, img_tensor2])\n",
    "img_tensor2.shape"
   ]
  },
  {
   "cell_type": "code",
   "execution_count": null,
   "metadata": {
    "colab": {},
    "colab_type": "code",
    "id": "xVYegGCouT9u"
   },
   "outputs": [],
   "source": [
    "p2 =  model(Variable(img_tensor2).cuda())"
   ]
  },
  {
   "cell_type": "code",
   "execution_count": null,
   "metadata": {
    "colab": {
     "base_uri": "https://localhost:8080/",
     "height": 34
    },
    "colab_type": "code",
    "executionInfo": {
     "elapsed": 49089,
     "status": "ok",
     "timestamp": 1575971609484,
     "user": {
      "displayName": "コウ",
      "photoUrl": "",
      "userId": "15615658067056912208"
     },
     "user_tz": -540
    },
    "id": "fKF3QLP1e7QJ",
    "outputId": "ae57fc64-e1cf-49f4-f1c8-e715aedb8fd6"
   },
   "outputs": [],
   "source": [
    "p2.shape # 演習: 結果を予想してください"
   ]
  },
  {
   "cell_type": "markdown",
   "metadata": {
    "colab_type": "text",
    "id": "JR6atgLHe7QK"
   },
   "source": [
    "### 3枚処理する場合"
   ]
  },
  {
   "cell_type": "markdown",
   "metadata": {
    "colab_type": "text",
    "id": "QlzEcjKMe7QL"
   },
   "source": [
    "【演習】<br><br>\n",
    "３枚の画像をmodelに渡して、期待どおりのテンソルが戻されることを確認してください。"
   ]
  },
  {
   "cell_type": "code",
   "execution_count": null,
   "metadata": {
    "colab": {
     "base_uri": "https://localhost:8080/",
     "height": 34
    },
    "colab_type": "code",
    "executionInfo": {
     "elapsed": 49081,
     "status": "ok",
     "timestamp": 1575971609485,
     "user": {
      "displayName": "コウ",
      "photoUrl": "",
      "userId": "15615658067056912208"
     },
     "user_tz": -540
    },
    "id": "zTP8xHnre7QL",
    "outputId": "7df0e353-90d6-4841-afc2-3b8a04807cb1"
   },
   "outputs": [],
   "source": [
    "img_tensor3 = preprocess(img).cuda()\n",
    "img_tensor3 = torch.stack([img_tensor3, img_tensor3, img_tensor3])\n",
    "p3 = model(Variable(img_tensor3).cuda())\n",
    "p3.shape"
   ]
  },
  {
   "cell_type": "markdown",
   "metadata": {
    "colab_type": "text",
    "id": "XXas8A-He7QT"
   },
   "source": [
    "<hr>\n",
    "\n",
    "## modelが返した確率をグラフ表示する\n"
   ]
  },
  {
   "cell_type": "markdown",
   "metadata": {
    "colab_type": "text",
    "id": "P7cS7Sdde7QU"
   },
   "source": [
    "以降、予測した最初の画像 (0行目) の内容について調査していきます。  \n",
    "変数 d に p.data[0] を代入し、以降の操作は d に対して行います。\n"
   ]
  },
  {
   "cell_type": "code",
   "execution_count": null,
   "metadata": {
    "colab": {},
    "colab_type": "code",
    "id": "TH7416oWe7QU"
   },
   "outputs": [],
   "source": [
    "d = p.data[0].to(\"cpu\")"
   ]
  },
  {
   "cell_type": "code",
   "execution_count": null,
   "metadata": {
    "colab": {
     "base_uri": "https://localhost:8080/",
     "height": 34
    },
    "colab_type": "code",
    "executionInfo": {
     "elapsed": 49063,
     "status": "ok",
     "timestamp": 1575971609486,
     "user": {
      "displayName": "コウ",
      "photoUrl": "",
      "userId": "15615658067056912208"
     },
     "user_tz": -540
    },
    "id": "WxE4Srvye7QW",
    "outputId": "c19155f6-2eff-402c-b587-1980fd19a0d7"
   },
   "outputs": [],
   "source": [
    "d.shape # dの要素数を確認したい方はお試しください"
   ]
  },
  {
   "cell_type": "code",
   "execution_count": null,
   "metadata": {
    "colab": {
     "base_uri": "https://localhost:8080/",
     "height": 1000
    },
    "colab_type": "code",
    "executionInfo": {
     "elapsed": 49053,
     "status": "ok",
     "timestamp": 1575971609486,
     "user": {
      "displayName": "コウ",
      "photoUrl": "",
      "userId": "15615658067056912208"
     },
     "user_tz": -540
    },
    "id": "sWOft5yDe7QY",
    "outputId": "92de8966-b9ac-422d-941d-770460bd0b76",
    "scrolled": true
   },
   "outputs": [],
   "source": [
    "d # 中身を見たい方はお試しください"
   ]
  },
  {
   "cell_type": "markdown",
   "metadata": {
    "colab_type": "text",
    "id": "4pMFYhgqNsrq"
   },
   "source": [
    "これからこのデータをグラフに直していきますが、マイナス値が含まれているためそれらを修正します。  \n",
    "1000項目の内どの程度その項目らしいかを表しているので、これを確率値に直してみます。\n",
    "\n",
    "> 厳密には確率値ではないです。"
   ]
  },
  {
   "cell_type": "code",
   "execution_count": null,
   "metadata": {
    "colab": {},
    "colab_type": "code",
    "id": "Ll8eFFICN7n8"
   },
   "outputs": [],
   "source": [
    "import torch.nn.functional as F"
   ]
  },
  {
   "cell_type": "code",
   "execution_count": null,
   "metadata": {
    "colab": {
     "base_uri": "https://localhost:8080/",
     "height": 34
    },
    "colab_type": "code",
    "executionInfo": {
     "elapsed": 49038,
     "status": "ok",
     "timestamp": 1575971609487,
     "user": {
      "displayName": "コウ",
      "photoUrl": "",
      "userId": "15615658067056912208"
     },
     "user_tz": -540
    },
    "id": "nGZUy9m2N-qe",
    "outputId": "1c891583-3298-4feb-87b5-0afd2e91f5da"
   },
   "outputs": [],
   "source": [
    "softmax_d = F.softmax(d, dim=0)\n",
    "softmax_d[:5]"
   ]
  },
  {
   "cell_type": "markdown",
   "metadata": {
    "colab_type": "text",
    "id": "fEyaMVnte7QZ"
   },
   "source": [
    "d を棒グラフとして表示してみます。"
   ]
  },
  {
   "cell_type": "code",
   "execution_count": null,
   "metadata": {
    "colab": {
     "base_uri": "https://localhost:8080/",
     "height": 609
    },
    "colab_type": "code",
    "executionInfo": {
     "elapsed": 2235,
     "status": "ok",
     "timestamp": 1575971672578,
     "user": {
      "displayName": "コウ",
      "photoUrl": "",
      "userId": "15615658067056912208"
     },
     "user_tz": -540
    },
    "id": "s2eRaf2Ye7QZ",
    "outputId": "cba7938d-f876-46ce-f8e5-f55633a0771a",
    "scrolled": true
   },
   "outputs": [],
   "source": [
    "import matplotlib.pyplot as plt\n",
    " \n",
    "%matplotlib inline \n",
    "plt.style.use('ggplot')\n",
    "plt.figure(figsize=(20,10))\n",
    "plt.bar(x=range(len(softmax_d)), height=softmax_d)\n",
    "plt.plot()"
   ]
  },
  {
   "cell_type": "markdown",
   "metadata": {
    "colab_type": "text",
    "id": "Cos1H5n6e7Qb"
   },
   "source": [
    "<div style=\"border: 1px solid; padding: 10px\">これは、0番目から999番目のクラスまで、そのクラスである確率の棒グラフです。200 ~ 400 の間にもっとも高いバーが見えているはずですが、この最も高い値がいくつめの要素か調べていきます。</div>"
   ]
  },
  {
   "cell_type": "markdown",
   "metadata": {
    "colab_type": "text",
    "id": "Gc5mae5MM-vS"
   },
   "source": [
    "\n"
   ]
  },
  {
   "cell_type": "markdown",
   "metadata": {
    "colab_type": "text",
    "id": "jqP7edXUe7Qb"
   },
   "source": [
    "配列 d の中から最大値を探す\n"
   ]
  },
  {
   "cell_type": "code",
   "execution_count": null,
   "metadata": {
    "colab": {},
    "colab_type": "code",
    "id": "KJU8jN-qe7Qb"
   },
   "outputs": [],
   "source": [
    "predicted_label = np.argmax(d.numpy())"
   ]
  },
  {
   "cell_type": "markdown",
   "metadata": {
    "colab_type": "text",
    "id": "H21gedN-e7Qd"
   },
   "source": [
    "最大値がある要素の番号を表示\n"
   ]
  },
  {
   "cell_type": "code",
   "execution_count": null,
   "metadata": {
    "colab": {
     "base_uri": "https://localhost:8080/",
     "height": 34
    },
    "colab_type": "code",
    "executionInfo": {
     "elapsed": 2214,
     "status": "ok",
     "timestamp": 1575971672579,
     "user": {
      "displayName": "コウ",
      "photoUrl": "",
      "userId": "15615658067056912208"
     },
     "user_tz": -540
    },
    "id": "sfnltz4oe7Qe",
    "outputId": "459b3651-4c90-41e0-ae54-6fc7b1ec343a",
    "scrolled": true
   },
   "outputs": [],
   "source": [
    "predicted_label"
   ]
  },
  {
   "cell_type": "markdown",
   "metadata": {
    "colab_type": "text",
    "id": "krmpKlwee7Qg"
   },
   "source": [
    "# d[predicted_label] は d の中の最大値で、確率（0.0〜1.0）\n"
   ]
  },
  {
   "cell_type": "code",
   "execution_count": null,
   "metadata": {
    "colab": {
     "base_uri": "https://localhost:8080/",
     "height": 34
    },
    "colab_type": "code",
    "executionInfo": {
     "elapsed": 2200,
     "status": "ok",
     "timestamp": 1575971672580,
     "user": {
      "displayName": "コウ",
      "photoUrl": "",
      "userId": "15615658067056912208"
     },
     "user_tz": -540
    },
    "id": "I174JnbYe7Qg",
    "outputId": "99c60116-92a2-4436-cce4-713c5b818216"
   },
   "outputs": [],
   "source": [
    "d[predicted_label]"
   ]
  },
  {
   "cell_type": "markdown",
   "metadata": {
    "colab_type": "text",
    "id": "Z6ZPF-fge7Qj"
   },
   "source": [
    "`np.argmax(d.numpy())` が 281  を返した場合、入力した画像 img は 281 番目のクラスに分類されたことを意味しています。"
   ]
  },
  {
   "cell_type": "markdown",
   "metadata": {
    "colab_type": "text",
    "id": "GWyB30hxe7Qj"
   },
   "source": [
    "<hr>\n",
    "\n",
    "## ラベルリストの利用"
   ]
  },
  {
   "cell_type": "markdown",
   "metadata": {
    "colab_type": "text",
    "id": "zAw9_tnSe7Qj"
   },
   "source": [
    "入力した画像は、 predicted_label 番目（285番目）のクラスである確率が高いことがわかりました。しかし、この 285 番目のクラスというのは何を指しているのでしょうか。\n",
    "\n",
    "（このモデルの学習時に利用された）クラスラベルリスト <a href=\"synset_words.txt\">synset_words.txt</a>  と照合することで、このクラスラベルが何を意味しているのかを調べます。"
   ]
  },
  {
   "cell_type": "code",
   "execution_count": null,
   "metadata": {
    "colab": {},
    "colab_type": "code",
    "id": "NJlKXiace7Qk"
   },
   "outputs": [],
   "source": [
    "labels = open(pj_path+\"synset_words.txt\", \"r\").readlines()"
   ]
  },
  {
   "cell_type": "markdown",
   "metadata": {
    "colab_type": "text",
    "id": "91vYMd3z4ctz"
   },
   "source": [
    "labels の内容を確認する (1000個まで表示すると長いので、とりあえず最初の10個まで)"
   ]
  },
  {
   "cell_type": "code",
   "execution_count": null,
   "metadata": {
    "colab": {
     "base_uri": "https://localhost:8080/",
     "height": 187
    },
    "colab_type": "code",
    "executionInfo": {
     "elapsed": 2431,
     "status": "ok",
     "timestamp": 1575971672831,
     "user": {
      "displayName": "コウ",
      "photoUrl": "",
      "userId": "15615658067056912208"
     },
     "user_tz": -540
    },
    "id": "pHuXAE-Je7Ql",
    "outputId": "448be7ff-e641-40dd-88a5-5f977672444c"
   },
   "outputs": [],
   "source": [
    "labels[:10]"
   ]
  },
  {
   "cell_type": "markdown",
   "metadata": {
    "colab_type": "text",
    "id": "ld9AiUvfe7Qm"
   },
   "source": [
    "入力画像に対して最も高い確率を示したクラスのラベル文字列を表示してみよう。  \n",
    "predict_label 番目の要素を調べる\n"
   ]
  },
  {
   "cell_type": "code",
   "execution_count": null,
   "metadata": {
    "colab": {
     "base_uri": "https://localhost:8080/",
     "height": 34
    },
    "colab_type": "code",
    "executionInfo": {
     "elapsed": 2425,
     "status": "ok",
     "timestamp": 1575971672832,
     "user": {
      "displayName": "コウ",
      "photoUrl": "",
      "userId": "15615658067056912208"
     },
     "user_tz": -540
    },
    "id": "OXoslH7we7Qn",
    "outputId": "ca98ea09-66fb-40d2-ee1c-6d1e7069367b"
   },
   "outputs": [],
   "source": [
    "labels[predicted_label]"
   ]
  },
  {
   "cell_type": "markdown",
   "metadata": {
    "colab_type": "text",
    "id": "RvvFc0Jbe7Qo"
   },
   "source": [
    "実行した結果、tabby, tabby cat、つまり、ニューラルネットワークは、この画像が  tabby, tabby catに分類した、ということになります。\n",
    "\n",
    "> 別のライブラリのChainerで同じモデルを使ってやってみたらEgyptian catになりました。"
   ]
  },
  {
   "cell_type": "markdown",
   "metadata": {
    "colab_type": "text",
    "id": "vgdfcAZee7Qp"
   },
   "source": [
    "<hr>\n",
    "\n",
    "## Top-N クラスの調査"
   ]
  },
  {
   "cell_type": "markdown",
   "metadata": {
    "colab_type": "text",
    "id": "-S74tRI0e7Qt"
   },
   "source": [
    "<div style=\"border: 1px solid; padding: 10px\">返された値は「入力された画像が各クラスの値である確率」だと説明しました。また、最大値は 285番目の要素であることがわかりました。最大値に続く、大きな値を探してみましょう。</div>"
   ]
  },
  {
   "cell_type": "markdown",
   "metadata": {
    "colab_type": "text",
    "id": "OKqEDVJxe7Qt"
   },
   "source": [
    "確率を昇順にソートして、最後の最大3件を表示\n"
   ]
  },
  {
   "cell_type": "code",
   "execution_count": null,
   "metadata": {
    "colab": {
     "base_uri": "https://localhost:8080/",
     "height": 34
    },
    "colab_type": "code",
    "executionInfo": {
     "elapsed": 2420,
     "status": "ok",
     "timestamp": 1575971672832,
     "user": {
      "displayName": "コウ",
      "photoUrl": "",
      "userId": "15615658067056912208"
     },
     "user_tz": -540
    },
    "id": "sBm5AZgEe7Qt",
    "outputId": "8cb5c489-a0af-4196-de0d-11d58b0c1fa2"
   },
   "outputs": [],
   "source": [
    "d.topk(3)"
   ]
  },
  {
   "cell_type": "markdown",
   "metadata": {
    "colab_type": "text",
    "id": "Z61g2KDPe7Qx"
   },
   "source": [
    "<hr>\n",
    "\n",
    "## Top-N クラスの調査（クラスラベルとあわせて）"
   ]
  },
  {
   "cell_type": "markdown",
   "metadata": {
    "colab_type": "text",
    "id": "vpjYRrGRe7Qx"
   },
   "source": [
    "<div style=\"border: 1px solid; padding: 10px\">このままではクラスラベルがなく、確率値が何に対応しているのかがわかりません。以下の操作で確率とクラスラベルをマージした上でソートしてみましょう。</div>"
   ]
  },
  {
   "cell_type": "markdown",
   "metadata": {
    "colab_type": "text",
    "id": "Q_F-Y_mme7Qy"
   },
   "source": [
    "確率とクラスラベルを組みわせたリストの作成"
   ]
  },
  {
   "cell_type": "code",
   "execution_count": null,
   "metadata": {
    "colab": {
     "base_uri": "https://localhost:8080/",
     "height": 204
    },
    "colab_type": "code",
    "executionInfo": {
     "elapsed": 567,
     "status": "ok",
     "timestamp": 1575972146064,
     "user": {
      "displayName": "コウ",
      "photoUrl": "",
      "userId": "15615658067056912208"
     },
     "user_tz": -540
    },
    "id": "S2J6ZBaCe7Qz",
    "outputId": "cb05f292-0c16-4a16-ff97-7ed02ecf5d25"
   },
   "outputs": [],
   "source": [
    "p2 = list(zip(softmax_d.numpy(), labels))\n",
    "p2[:10]"
   ]
  },
  {
   "cell_type": "markdown",
   "metadata": {
    "colab_type": "text",
    "id": "blgdIRcKe7Q0"
   },
   "source": [
    "作成した組み合わせリストから Top 3 を表示\n",
    "\n",
    "`topk`を使わなくても、リスト形式の演算もできます。"
   ]
  },
  {
   "cell_type": "code",
   "execution_count": null,
   "metadata": {
    "colab": {
     "base_uri": "https://localhost:8080/",
     "height": 68
    },
    "colab_type": "code",
    "executionInfo": {
     "elapsed": 575,
     "status": "ok",
     "timestamp": 1575972147929,
     "user": {
      "displayName": "コウ",
      "photoUrl": "",
      "userId": "15615658067056912208"
     },
     "user_tz": -540
    },
    "id": "nAJgd4mMe7Q0",
    "outputId": "402fedf4-e868-4616-a783-d666ea606296"
   },
   "outputs": [],
   "source": [
    "sorted(p2, reverse=True)[:3]"
   ]
  },
  {
   "cell_type": "markdown",
   "metadata": {
    "colab_type": "text",
    "id": "kGuCB3Roe7Q2"
   },
   "source": [
    "<div style=\"border: 1px solid; padding: 10px\">\n",
    "出力例\n",
    "\n",
    "<p>\n",
    "[<br>(0.52825135, 'n02124075 Egyptian cat\\n'), <br>\n",
    "   (0.11501167, 'n02123045 tabby, tabby cat\\n'), <br>\n",
    "   (0.052949127, 'n02123159 tiger cat\\n')<br>]\n",
    "</div>"
   ]
  },
  {
   "cell_type": "markdown",
   "metadata": {
    "colab_type": "text",
    "id": "AFGh3K0Ve7Q2"
   },
   "source": [
    "<hr>\n",
    "\n",
    "【演習】<br><br>同様に、Top-10 クラスを確認してください。"
   ]
  },
  {
   "cell_type": "code",
   "execution_count": null,
   "metadata": {
    "colab": {
     "base_uri": "https://localhost:8080/",
     "height": 187
    },
    "colab_type": "code",
    "executionInfo": {
     "elapsed": 606,
     "status": "ok",
     "timestamp": 1575972191797,
     "user": {
      "displayName": "コウ",
      "photoUrl": "",
      "userId": "15615658067056912208"
     },
     "user_tz": -540
    },
    "id": "g9xLJ7IKe7Q3",
    "outputId": "eb44fc4b-eaa9-4709-9f07-fdb3c8ea3261"
   },
   "outputs": [],
   "source": [
    "p2 = list(zip(softmax_d.to(\"cpu\").numpy(), labels))\n",
    "sorted(p2, reverse=True)[:10]"
   ]
  },
  {
   "cell_type": "markdown",
   "metadata": {
    "colab_type": "text",
    "id": "XFUQVaRpe7Q3"
   },
   "source": [
    "<hr>\n",
    "\n",
    "## matplotlib による円グラフの表示"
   ]
  },
  {
   "cell_type": "markdown",
   "metadata": {
    "colab_type": "text",
    "id": "7sbCxtOme7Q4"
   },
   "source": [
    "<div style=\"border: 1px solid; padding: 10px\">降順にソートした確率一覧を matplotlib の円グラフにすることで、Top-Nクラスがどれぐらいの割合を占めるのかを視覚的に確認できます。</div>"
   ]
  },
  {
   "cell_type": "code",
   "execution_count": null,
   "metadata": {
    "colab": {
     "base_uri": "https://localhost:8080/",
     "height": 187
    },
    "colab_type": "code",
    "executionInfo": {
     "elapsed": 1181,
     "status": "ok",
     "timestamp": 1575971697429,
     "user": {
      "displayName": "コウ",
      "photoUrl": "",
      "userId": "15615658067056912208"
     },
     "user_tz": -540
    },
    "id": "SMHfUNH-e7Q4",
    "outputId": "3e1f2131-cbf8-4035-b9b6-c44f2120083a"
   },
   "outputs": [],
   "source": [
    "softmax_d_sorted = sorted(softmax_d, key=lambda x:-x)\n",
    "softmax_d_sorted[:10]"
   ]
  },
  {
   "cell_type": "code",
   "execution_count": null,
   "metadata": {
    "colab": {
     "base_uri": "https://localhost:8080/",
     "height": 592
    },
    "colab_type": "code",
    "executionInfo": {
     "elapsed": 2090,
     "status": "ok",
     "timestamp": 1575971705995,
     "user": {
      "displayName": "コウ",
      "photoUrl": "",
      "userId": "15615658067056912208"
     },
     "user_tz": -540
    },
    "id": "L4UIeIbqJSr9",
    "outputId": "ec329aee-66a9-47eb-d680-d3e2813e638c"
   },
   "outputs": [],
   "source": [
    "plt.style.use('ggplot')\n",
    "plt.rcParams.update({'font.size':15})\n",
    "plt.figure(figsize=(10,10))\n",
    "plt.pie(softmax_d_sorted)\n",
    "plt.plot()"
   ]
  },
  {
   "cell_type": "markdown",
   "metadata": {
    "colab_type": "text",
    "id": "_hXTjc-ue7Q5"
   },
   "source": [
    "<hr>\n",
    "\n",
    "## さらなる演習\n",
    "\n",
    "【演習】<br>\n",
    "\n",
    "* ハンズオン環境に用意されている画像を model にわたし、各画像の予測クラス（１画像あたり1クラス）を表示してください。\n"
   ]
  },
  {
   "cell_type": "markdown",
   "metadata": {
    "colab_type": "text",
    "id": "C8UCcu7He7Q5"
   },
   "source": [
    "<a href=\"00_sample_images.ipynb\">ハンズオン環境に存在する画像</a>をまとめて読み込みたい場合は、次のブロックを実行してください。"
   ]
  },
  {
   "cell_type": "code",
   "execution_count": null,
   "metadata": {
    "colab": {},
    "colab_type": "code",
    "id": "cmSUjoGOe7Q6"
   },
   "outputs": [],
   "source": [
    "img_airplane = Image.open(pj_path+\"_images/airplane.jpg\")\n",
    "img_cat = Image.open(pj_path+\"_images/cat.jpg\")\n",
    "img_dog = Image.open(pj_path+\"_images/dog.jpg\")\n",
    "img_dolphin = Image.open(pj_path+\"_images/dolphin.jpg\")\n",
    "img_human1 = Image.open(pj_path+\"_images/human_1.jpg\")\n",
    "img_human2 = Image.open(pj_path+\"_images/human_2.jpg\")\n",
    "img_spider = Image.open(pj_path+\"_images/spider.jpg\")"
   ]
  },
  {
   "cell_type": "code",
   "execution_count": null,
   "metadata": {
    "colab": {},
    "colab_type": "code",
    "id": "P5-g_x6re7Q7"
   },
   "outputs": [],
   "source": [
    "# 演習\n",
    "img_tensor_ = preprocess(img_airplane).cuda()\n",
    "img_tensor_.unsqueeze_(0)\n",
    "p_ = model(img_tensor_)"
   ]
  },
  {
   "cell_type": "code",
   "execution_count": null,
   "metadata": {
    "colab": {},
    "colab_type": "code",
    "id": "uzsLa7_ze7Q9"
   },
   "outputs": [],
   "source": []
  }
 ],
 "metadata": {
  "accelerator": "GPU",
  "colab": {
   "collapsed_sections": [],
   "name": "01_VGG16.ipynb",
   "provenance": []
  },
  "kernelspec": {
   "display_name": "Python 3",
   "language": "python",
   "name": "python3"
  },
  "language_info": {
   "codemirror_mode": {
    "name": "ipython",
    "version": 3
   },
   "file_extension": ".py",
   "mimetype": "text/x-python",
   "name": "python",
   "nbconvert_exporter": "python",
   "pygments_lexer": "ipython3",
   "version": "3.7.4"
  }
 },
 "nbformat": 4,
 "nbformat_minor": 1
}
